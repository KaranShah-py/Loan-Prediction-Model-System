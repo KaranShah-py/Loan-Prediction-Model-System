{
  "nbformat": 4,
  "nbformat_minor": 0,
  "metadata": {
    "colab": {
      "name": "Gold_Loan_Prediction_Using_Random_Forest.ipynb",
      "provenance": [],
      "collapsed_sections": []
    },
    "kernelspec": {
      "name": "python3",
      "display_name": "Python 3"
    },
    "language_info": {
      "name": "python"
    }
  },
  "cells": [
    {
      "cell_type": "code",
      "execution_count": 1,
      "metadata": {
        "id": "tRvwvqz1gsac"
      },
      "outputs": [],
      "source": [
        "import pandas as pd\n",
        "import numpy as np\n",
        "import matplotlib.pyplot as plt\n",
        "import seaborn as sns\n",
        "from scipy import stats\n",
        "%matplotlib inline"
      ]
    },
    {
      "cell_type": "markdown",
      "source": [
        "Let us first load our dataset into the program using pandas dataframe"
      ],
      "metadata": {
        "id": "EubM5EF9hgqN"
      }
    },
    {
      "cell_type": "code",
      "source": [
        "dataframe = pd.read_csv('gold_loan_final_1.csv')"
      ],
      "metadata": {
        "id": "eqHy_ctIhf82"
      },
      "execution_count": 2,
      "outputs": []
    },
    {
      "cell_type": "markdown",
      "source": [
        "Now let us look at the dataframe we have"
      ],
      "metadata": {
        "id": "cNn-dW0zhumM"
      }
    },
    {
      "cell_type": "code",
      "source": [
        "dataframe.head(3)"
      ],
      "metadata": {
        "colab": {
          "base_uri": "https://localhost:8080/",
          "height": 143
        },
        "id": "TIPb85Rchf6E",
        "outputId": "8e8dd994-68c8-4cbf-881e-a7b70d0aa346"
      },
      "execution_count": 3,
      "outputs": [
        {
          "output_type": "execute_result",
          "data": {
            "text/plain": [
              "            Name  Nationality  Age  Identity_documents  Gold_Type  \\\n",
              "0  Raj Shrivastav      Indian    23           Verified  Ornaments   \n",
              "1  Mahindra Singh      Indian    31           Verified  Ornaments   \n",
              "2      Amar Singh      Indian    56           Verified  Ornaments   \n",
              "\n",
              "   Gold_Weight  Gold_Purity Gold_documents Eligibility  \n",
              "0         10.3           23       Verified         Yes  \n",
              "1         20.0           21       Verified         Yes  \n",
              "2         11.0           21       Verified         Yes  "
            ],
            "text/html": [
              "\n",
              "  <div id=\"df-166b555e-2d62-4f1e-a41f-6a1436995a9c\">\n",
              "    <div class=\"colab-df-container\">\n",
              "      <div>\n",
              "<style scoped>\n",
              "    .dataframe tbody tr th:only-of-type {\n",
              "        vertical-align: middle;\n",
              "    }\n",
              "\n",
              "    .dataframe tbody tr th {\n",
              "        vertical-align: top;\n",
              "    }\n",
              "\n",
              "    .dataframe thead th {\n",
              "        text-align: right;\n",
              "    }\n",
              "</style>\n",
              "<table border=\"1\" class=\"dataframe\">\n",
              "  <thead>\n",
              "    <tr style=\"text-align: right;\">\n",
              "      <th></th>\n",
              "      <th>Name</th>\n",
              "      <th>Nationality</th>\n",
              "      <th>Age</th>\n",
              "      <th>Identity_documents</th>\n",
              "      <th>Gold_Type</th>\n",
              "      <th>Gold_Weight</th>\n",
              "      <th>Gold_Purity</th>\n",
              "      <th>Gold_documents</th>\n",
              "      <th>Eligibility</th>\n",
              "    </tr>\n",
              "  </thead>\n",
              "  <tbody>\n",
              "    <tr>\n",
              "      <th>0</th>\n",
              "      <td>Raj Shrivastav</td>\n",
              "      <td>Indian</td>\n",
              "      <td>23</td>\n",
              "      <td>Verified</td>\n",
              "      <td>Ornaments</td>\n",
              "      <td>10.3</td>\n",
              "      <td>23</td>\n",
              "      <td>Verified</td>\n",
              "      <td>Yes</td>\n",
              "    </tr>\n",
              "    <tr>\n",
              "      <th>1</th>\n",
              "      <td>Mahindra Singh</td>\n",
              "      <td>Indian</td>\n",
              "      <td>31</td>\n",
              "      <td>Verified</td>\n",
              "      <td>Ornaments</td>\n",
              "      <td>20.0</td>\n",
              "      <td>21</td>\n",
              "      <td>Verified</td>\n",
              "      <td>Yes</td>\n",
              "    </tr>\n",
              "    <tr>\n",
              "      <th>2</th>\n",
              "      <td>Amar Singh</td>\n",
              "      <td>Indian</td>\n",
              "      <td>56</td>\n",
              "      <td>Verified</td>\n",
              "      <td>Ornaments</td>\n",
              "      <td>11.0</td>\n",
              "      <td>21</td>\n",
              "      <td>Verified</td>\n",
              "      <td>Yes</td>\n",
              "    </tr>\n",
              "  </tbody>\n",
              "</table>\n",
              "</div>\n",
              "      <button class=\"colab-df-convert\" onclick=\"convertToInteractive('df-166b555e-2d62-4f1e-a41f-6a1436995a9c')\"\n",
              "              title=\"Convert this dataframe to an interactive table.\"\n",
              "              style=\"display:none;\">\n",
              "        \n",
              "  <svg xmlns=\"http://www.w3.org/2000/svg\" height=\"24px\"viewBox=\"0 0 24 24\"\n",
              "       width=\"24px\">\n",
              "    <path d=\"M0 0h24v24H0V0z\" fill=\"none\"/>\n",
              "    <path d=\"M18.56 5.44l.94 2.06.94-2.06 2.06-.94-2.06-.94-.94-2.06-.94 2.06-2.06.94zm-11 1L8.5 8.5l.94-2.06 2.06-.94-2.06-.94L8.5 2.5l-.94 2.06-2.06.94zm10 10l.94 2.06.94-2.06 2.06-.94-2.06-.94-.94-2.06-.94 2.06-2.06.94z\"/><path d=\"M17.41 7.96l-1.37-1.37c-.4-.4-.92-.59-1.43-.59-.52 0-1.04.2-1.43.59L10.3 9.45l-7.72 7.72c-.78.78-.78 2.05 0 2.83L4 21.41c.39.39.9.59 1.41.59.51 0 1.02-.2 1.41-.59l7.78-7.78 2.81-2.81c.8-.78.8-2.07 0-2.86zM5.41 20L4 18.59l7.72-7.72 1.47 1.35L5.41 20z\"/>\n",
              "  </svg>\n",
              "      </button>\n",
              "      \n",
              "  <style>\n",
              "    .colab-df-container {\n",
              "      display:flex;\n",
              "      flex-wrap:wrap;\n",
              "      gap: 12px;\n",
              "    }\n",
              "\n",
              "    .colab-df-convert {\n",
              "      background-color: #E8F0FE;\n",
              "      border: none;\n",
              "      border-radius: 50%;\n",
              "      cursor: pointer;\n",
              "      display: none;\n",
              "      fill: #1967D2;\n",
              "      height: 32px;\n",
              "      padding: 0 0 0 0;\n",
              "      width: 32px;\n",
              "    }\n",
              "\n",
              "    .colab-df-convert:hover {\n",
              "      background-color: #E2EBFA;\n",
              "      box-shadow: 0px 1px 2px rgba(60, 64, 67, 0.3), 0px 1px 3px 1px rgba(60, 64, 67, 0.15);\n",
              "      fill: #174EA6;\n",
              "    }\n",
              "\n",
              "    [theme=dark] .colab-df-convert {\n",
              "      background-color: #3B4455;\n",
              "      fill: #D2E3FC;\n",
              "    }\n",
              "\n",
              "    [theme=dark] .colab-df-convert:hover {\n",
              "      background-color: #434B5C;\n",
              "      box-shadow: 0px 1px 3px 1px rgba(0, 0, 0, 0.15);\n",
              "      filter: drop-shadow(0px 1px 2px rgba(0, 0, 0, 0.3));\n",
              "      fill: #FFFFFF;\n",
              "    }\n",
              "  </style>\n",
              "\n",
              "      <script>\n",
              "        const buttonEl =\n",
              "          document.querySelector('#df-166b555e-2d62-4f1e-a41f-6a1436995a9c button.colab-df-convert');\n",
              "        buttonEl.style.display =\n",
              "          google.colab.kernel.accessAllowed ? 'block' : 'none';\n",
              "\n",
              "        async function convertToInteractive(key) {\n",
              "          const element = document.querySelector('#df-166b555e-2d62-4f1e-a41f-6a1436995a9c');\n",
              "          const dataTable =\n",
              "            await google.colab.kernel.invokeFunction('convertToInteractive',\n",
              "                                                     [key], {});\n",
              "          if (!dataTable) return;\n",
              "\n",
              "          const docLinkHtml = 'Like what you see? Visit the ' +\n",
              "            '<a target=\"_blank\" href=https://colab.research.google.com/notebooks/data_table.ipynb>data table notebook</a>'\n",
              "            + ' to learn more about interactive tables.';\n",
              "          element.innerHTML = '';\n",
              "          dataTable['output_type'] = 'display_data';\n",
              "          await google.colab.output.renderOutput(dataTable, element);\n",
              "          const docLink = document.createElement('div');\n",
              "          docLink.innerHTML = docLinkHtml;\n",
              "          element.appendChild(docLink);\n",
              "        }\n",
              "      </script>\n",
              "    </div>\n",
              "  </div>\n",
              "  "
            ]
          },
          "metadata": {},
          "execution_count": 3
        }
      ]
    },
    {
      "cell_type": "markdown",
      "source": [
        "First, let us name the columns"
      ],
      "metadata": {
        "id": "hJCkQhB2jIij"
      }
    },
    {
      "cell_type": "code",
      "source": [
        "dataframe.columns = ['Name','Nationality','Age','Identity_documents','Gold_type','Gold_weight','Gold_purity','Gold_documents','Eligibility']\n",
        "dataframe.head(3)"
      ],
      "metadata": {
        "colab": {
          "base_uri": "https://localhost:8080/",
          "height": 143
        },
        "id": "JA3E903dhf3m",
        "outputId": "c54606cd-97fc-4272-f3d0-544e2d7536d2"
      },
      "execution_count": 4,
      "outputs": [
        {
          "output_type": "execute_result",
          "data": {
            "text/plain": [
              "             Name Nationality  Age Identity_documents  Gold_type  Gold_weight  \\\n",
              "0  Raj Shrivastav      Indian   23           Verified  Ornaments         10.3   \n",
              "1  Mahindra Singh      Indian   31           Verified  Ornaments         20.0   \n",
              "2      Amar Singh      Indian   56           Verified  Ornaments         11.0   \n",
              "\n",
              "   Gold_purity Gold_documents Eligibility  \n",
              "0           23       Verified         Yes  \n",
              "1           21       Verified         Yes  \n",
              "2           21       Verified         Yes  "
            ],
            "text/html": [
              "\n",
              "  <div id=\"df-5db35038-30c1-4ca2-8326-4e5609978ad1\">\n",
              "    <div class=\"colab-df-container\">\n",
              "      <div>\n",
              "<style scoped>\n",
              "    .dataframe tbody tr th:only-of-type {\n",
              "        vertical-align: middle;\n",
              "    }\n",
              "\n",
              "    .dataframe tbody tr th {\n",
              "        vertical-align: top;\n",
              "    }\n",
              "\n",
              "    .dataframe thead th {\n",
              "        text-align: right;\n",
              "    }\n",
              "</style>\n",
              "<table border=\"1\" class=\"dataframe\">\n",
              "  <thead>\n",
              "    <tr style=\"text-align: right;\">\n",
              "      <th></th>\n",
              "      <th>Name</th>\n",
              "      <th>Nationality</th>\n",
              "      <th>Age</th>\n",
              "      <th>Identity_documents</th>\n",
              "      <th>Gold_type</th>\n",
              "      <th>Gold_weight</th>\n",
              "      <th>Gold_purity</th>\n",
              "      <th>Gold_documents</th>\n",
              "      <th>Eligibility</th>\n",
              "    </tr>\n",
              "  </thead>\n",
              "  <tbody>\n",
              "    <tr>\n",
              "      <th>0</th>\n",
              "      <td>Raj Shrivastav</td>\n",
              "      <td>Indian</td>\n",
              "      <td>23</td>\n",
              "      <td>Verified</td>\n",
              "      <td>Ornaments</td>\n",
              "      <td>10.3</td>\n",
              "      <td>23</td>\n",
              "      <td>Verified</td>\n",
              "      <td>Yes</td>\n",
              "    </tr>\n",
              "    <tr>\n",
              "      <th>1</th>\n",
              "      <td>Mahindra Singh</td>\n",
              "      <td>Indian</td>\n",
              "      <td>31</td>\n",
              "      <td>Verified</td>\n",
              "      <td>Ornaments</td>\n",
              "      <td>20.0</td>\n",
              "      <td>21</td>\n",
              "      <td>Verified</td>\n",
              "      <td>Yes</td>\n",
              "    </tr>\n",
              "    <tr>\n",
              "      <th>2</th>\n",
              "      <td>Amar Singh</td>\n",
              "      <td>Indian</td>\n",
              "      <td>56</td>\n",
              "      <td>Verified</td>\n",
              "      <td>Ornaments</td>\n",
              "      <td>11.0</td>\n",
              "      <td>21</td>\n",
              "      <td>Verified</td>\n",
              "      <td>Yes</td>\n",
              "    </tr>\n",
              "  </tbody>\n",
              "</table>\n",
              "</div>\n",
              "      <button class=\"colab-df-convert\" onclick=\"convertToInteractive('df-5db35038-30c1-4ca2-8326-4e5609978ad1')\"\n",
              "              title=\"Convert this dataframe to an interactive table.\"\n",
              "              style=\"display:none;\">\n",
              "        \n",
              "  <svg xmlns=\"http://www.w3.org/2000/svg\" height=\"24px\"viewBox=\"0 0 24 24\"\n",
              "       width=\"24px\">\n",
              "    <path d=\"M0 0h24v24H0V0z\" fill=\"none\"/>\n",
              "    <path d=\"M18.56 5.44l.94 2.06.94-2.06 2.06-.94-2.06-.94-.94-2.06-.94 2.06-2.06.94zm-11 1L8.5 8.5l.94-2.06 2.06-.94-2.06-.94L8.5 2.5l-.94 2.06-2.06.94zm10 10l.94 2.06.94-2.06 2.06-.94-2.06-.94-.94-2.06-.94 2.06-2.06.94z\"/><path d=\"M17.41 7.96l-1.37-1.37c-.4-.4-.92-.59-1.43-.59-.52 0-1.04.2-1.43.59L10.3 9.45l-7.72 7.72c-.78.78-.78 2.05 0 2.83L4 21.41c.39.39.9.59 1.41.59.51 0 1.02-.2 1.41-.59l7.78-7.78 2.81-2.81c.8-.78.8-2.07 0-2.86zM5.41 20L4 18.59l7.72-7.72 1.47 1.35L5.41 20z\"/>\n",
              "  </svg>\n",
              "      </button>\n",
              "      \n",
              "  <style>\n",
              "    .colab-df-container {\n",
              "      display:flex;\n",
              "      flex-wrap:wrap;\n",
              "      gap: 12px;\n",
              "    }\n",
              "\n",
              "    .colab-df-convert {\n",
              "      background-color: #E8F0FE;\n",
              "      border: none;\n",
              "      border-radius: 50%;\n",
              "      cursor: pointer;\n",
              "      display: none;\n",
              "      fill: #1967D2;\n",
              "      height: 32px;\n",
              "      padding: 0 0 0 0;\n",
              "      width: 32px;\n",
              "    }\n",
              "\n",
              "    .colab-df-convert:hover {\n",
              "      background-color: #E2EBFA;\n",
              "      box-shadow: 0px 1px 2px rgba(60, 64, 67, 0.3), 0px 1px 3px 1px rgba(60, 64, 67, 0.15);\n",
              "      fill: #174EA6;\n",
              "    }\n",
              "\n",
              "    [theme=dark] .colab-df-convert {\n",
              "      background-color: #3B4455;\n",
              "      fill: #D2E3FC;\n",
              "    }\n",
              "\n",
              "    [theme=dark] .colab-df-convert:hover {\n",
              "      background-color: #434B5C;\n",
              "      box-shadow: 0px 1px 3px 1px rgba(0, 0, 0, 0.15);\n",
              "      filter: drop-shadow(0px 1px 2px rgba(0, 0, 0, 0.3));\n",
              "      fill: #FFFFFF;\n",
              "    }\n",
              "  </style>\n",
              "\n",
              "      <script>\n",
              "        const buttonEl =\n",
              "          document.querySelector('#df-5db35038-30c1-4ca2-8326-4e5609978ad1 button.colab-df-convert');\n",
              "        buttonEl.style.display =\n",
              "          google.colab.kernel.accessAllowed ? 'block' : 'none';\n",
              "\n",
              "        async function convertToInteractive(key) {\n",
              "          const element = document.querySelector('#df-5db35038-30c1-4ca2-8326-4e5609978ad1');\n",
              "          const dataTable =\n",
              "            await google.colab.kernel.invokeFunction('convertToInteractive',\n",
              "                                                     [key], {});\n",
              "          if (!dataTable) return;\n",
              "\n",
              "          const docLinkHtml = 'Like what you see? Visit the ' +\n",
              "            '<a target=\"_blank\" href=https://colab.research.google.com/notebooks/data_table.ipynb>data table notebook</a>'\n",
              "            + ' to learn more about interactive tables.';\n",
              "          element.innerHTML = '';\n",
              "          dataTable['output_type'] = 'display_data';\n",
              "          await google.colab.output.renderOutput(dataTable, element);\n",
              "          const docLink = document.createElement('div');\n",
              "          docLink.innerHTML = docLinkHtml;\n",
              "          element.appendChild(docLink);\n",
              "        }\n",
              "      </script>\n",
              "    </div>\n",
              "  </div>\n",
              "  "
            ]
          },
          "metadata": {},
          "execution_count": 4
        }
      ]
    },
    {
      "cell_type": "markdown",
      "source": [
        "Since there are no null values present in our data let us further see basic stats of our dataset"
      ],
      "metadata": {
        "id": "WTOPKZA5lC9Z"
      }
    },
    {
      "cell_type": "code",
      "source": [
        "dataframe = dataframe.dropna()"
      ],
      "metadata": {
        "id": "vgnomHLMxwxJ"
      },
      "execution_count": 5,
      "outputs": []
    },
    {
      "cell_type": "code",
      "source": [
        "dataframe.isnull().sum()"
      ],
      "metadata": {
        "colab": {
          "base_uri": "https://localhost:8080/"
        },
        "id": "gqxO-kBcx_M9",
        "outputId": "db447cb0-64f0-4cd4-ea03-d65513945946"
      },
      "execution_count": 6,
      "outputs": [
        {
          "output_type": "execute_result",
          "data": {
            "text/plain": [
              "Name                  0\n",
              "Nationality           0\n",
              "Age                   0\n",
              "Identity_documents    0\n",
              "Gold_type             0\n",
              "Gold_weight           0\n",
              "Gold_purity           0\n",
              "Gold_documents        0\n",
              "Eligibility           0\n",
              "dtype: int64"
            ]
          },
          "metadata": {},
          "execution_count": 6
        }
      ]
    },
    {
      "cell_type": "code",
      "source": [
        "dataframe.describe()"
      ],
      "metadata": {
        "colab": {
          "base_uri": "https://localhost:8080/",
          "height": 300
        },
        "id": "zKIsV3y-hfvm",
        "outputId": "bfa9631e-3cdc-4dcf-b997-4ffebd053523"
      },
      "execution_count": 7,
      "outputs": [
        {
          "output_type": "execute_result",
          "data": {
            "text/plain": [
              "              Age  Gold_weight  Gold_purity\n",
              "count  101.000000   101.000000   101.000000\n",
              "mean    42.207921   235.479208    21.930693\n",
              "std     18.969616   278.639318     2.045764\n",
              "min     15.000000     5.000000    18.000000\n",
              "25%     27.000000    40.000000    21.000000\n",
              "50%     38.000000   100.000000    23.000000\n",
              "75%     55.000000   400.000000    23.000000\n",
              "max     87.000000  1000.000000    24.000000"
            ],
            "text/html": [
              "\n",
              "  <div id=\"df-f7fe619b-3744-418a-8fbb-5329debc88cb\">\n",
              "    <div class=\"colab-df-container\">\n",
              "      <div>\n",
              "<style scoped>\n",
              "    .dataframe tbody tr th:only-of-type {\n",
              "        vertical-align: middle;\n",
              "    }\n",
              "\n",
              "    .dataframe tbody tr th {\n",
              "        vertical-align: top;\n",
              "    }\n",
              "\n",
              "    .dataframe thead th {\n",
              "        text-align: right;\n",
              "    }\n",
              "</style>\n",
              "<table border=\"1\" class=\"dataframe\">\n",
              "  <thead>\n",
              "    <tr style=\"text-align: right;\">\n",
              "      <th></th>\n",
              "      <th>Age</th>\n",
              "      <th>Gold_weight</th>\n",
              "      <th>Gold_purity</th>\n",
              "    </tr>\n",
              "  </thead>\n",
              "  <tbody>\n",
              "    <tr>\n",
              "      <th>count</th>\n",
              "      <td>101.000000</td>\n",
              "      <td>101.000000</td>\n",
              "      <td>101.000000</td>\n",
              "    </tr>\n",
              "    <tr>\n",
              "      <th>mean</th>\n",
              "      <td>42.207921</td>\n",
              "      <td>235.479208</td>\n",
              "      <td>21.930693</td>\n",
              "    </tr>\n",
              "    <tr>\n",
              "      <th>std</th>\n",
              "      <td>18.969616</td>\n",
              "      <td>278.639318</td>\n",
              "      <td>2.045764</td>\n",
              "    </tr>\n",
              "    <tr>\n",
              "      <th>min</th>\n",
              "      <td>15.000000</td>\n",
              "      <td>5.000000</td>\n",
              "      <td>18.000000</td>\n",
              "    </tr>\n",
              "    <tr>\n",
              "      <th>25%</th>\n",
              "      <td>27.000000</td>\n",
              "      <td>40.000000</td>\n",
              "      <td>21.000000</td>\n",
              "    </tr>\n",
              "    <tr>\n",
              "      <th>50%</th>\n",
              "      <td>38.000000</td>\n",
              "      <td>100.000000</td>\n",
              "      <td>23.000000</td>\n",
              "    </tr>\n",
              "    <tr>\n",
              "      <th>75%</th>\n",
              "      <td>55.000000</td>\n",
              "      <td>400.000000</td>\n",
              "      <td>23.000000</td>\n",
              "    </tr>\n",
              "    <tr>\n",
              "      <th>max</th>\n",
              "      <td>87.000000</td>\n",
              "      <td>1000.000000</td>\n",
              "      <td>24.000000</td>\n",
              "    </tr>\n",
              "  </tbody>\n",
              "</table>\n",
              "</div>\n",
              "      <button class=\"colab-df-convert\" onclick=\"convertToInteractive('df-f7fe619b-3744-418a-8fbb-5329debc88cb')\"\n",
              "              title=\"Convert this dataframe to an interactive table.\"\n",
              "              style=\"display:none;\">\n",
              "        \n",
              "  <svg xmlns=\"http://www.w3.org/2000/svg\" height=\"24px\"viewBox=\"0 0 24 24\"\n",
              "       width=\"24px\">\n",
              "    <path d=\"M0 0h24v24H0V0z\" fill=\"none\"/>\n",
              "    <path d=\"M18.56 5.44l.94 2.06.94-2.06 2.06-.94-2.06-.94-.94-2.06-.94 2.06-2.06.94zm-11 1L8.5 8.5l.94-2.06 2.06-.94-2.06-.94L8.5 2.5l-.94 2.06-2.06.94zm10 10l.94 2.06.94-2.06 2.06-.94-2.06-.94-.94-2.06-.94 2.06-2.06.94z\"/><path d=\"M17.41 7.96l-1.37-1.37c-.4-.4-.92-.59-1.43-.59-.52 0-1.04.2-1.43.59L10.3 9.45l-7.72 7.72c-.78.78-.78 2.05 0 2.83L4 21.41c.39.39.9.59 1.41.59.51 0 1.02-.2 1.41-.59l7.78-7.78 2.81-2.81c.8-.78.8-2.07 0-2.86zM5.41 20L4 18.59l7.72-7.72 1.47 1.35L5.41 20z\"/>\n",
              "  </svg>\n",
              "      </button>\n",
              "      \n",
              "  <style>\n",
              "    .colab-df-container {\n",
              "      display:flex;\n",
              "      flex-wrap:wrap;\n",
              "      gap: 12px;\n",
              "    }\n",
              "\n",
              "    .colab-df-convert {\n",
              "      background-color: #E8F0FE;\n",
              "      border: none;\n",
              "      border-radius: 50%;\n",
              "      cursor: pointer;\n",
              "      display: none;\n",
              "      fill: #1967D2;\n",
              "      height: 32px;\n",
              "      padding: 0 0 0 0;\n",
              "      width: 32px;\n",
              "    }\n",
              "\n",
              "    .colab-df-convert:hover {\n",
              "      background-color: #E2EBFA;\n",
              "      box-shadow: 0px 1px 2px rgba(60, 64, 67, 0.3), 0px 1px 3px 1px rgba(60, 64, 67, 0.15);\n",
              "      fill: #174EA6;\n",
              "    }\n",
              "\n",
              "    [theme=dark] .colab-df-convert {\n",
              "      background-color: #3B4455;\n",
              "      fill: #D2E3FC;\n",
              "    }\n",
              "\n",
              "    [theme=dark] .colab-df-convert:hover {\n",
              "      background-color: #434B5C;\n",
              "      box-shadow: 0px 1px 3px 1px rgba(0, 0, 0, 0.15);\n",
              "      filter: drop-shadow(0px 1px 2px rgba(0, 0, 0, 0.3));\n",
              "      fill: #FFFFFF;\n",
              "    }\n",
              "  </style>\n",
              "\n",
              "      <script>\n",
              "        const buttonEl =\n",
              "          document.querySelector('#df-f7fe619b-3744-418a-8fbb-5329debc88cb button.colab-df-convert');\n",
              "        buttonEl.style.display =\n",
              "          google.colab.kernel.accessAllowed ? 'block' : 'none';\n",
              "\n",
              "        async function convertToInteractive(key) {\n",
              "          const element = document.querySelector('#df-f7fe619b-3744-418a-8fbb-5329debc88cb');\n",
              "          const dataTable =\n",
              "            await google.colab.kernel.invokeFunction('convertToInteractive',\n",
              "                                                     [key], {});\n",
              "          if (!dataTable) return;\n",
              "\n",
              "          const docLinkHtml = 'Like what you see? Visit the ' +\n",
              "            '<a target=\"_blank\" href=https://colab.research.google.com/notebooks/data_table.ipynb>data table notebook</a>'\n",
              "            + ' to learn more about interactive tables.';\n",
              "          element.innerHTML = '';\n",
              "          dataTable['output_type'] = 'display_data';\n",
              "          await google.colab.output.renderOutput(dataTable, element);\n",
              "          const docLink = document.createElement('div');\n",
              "          docLink.innerHTML = docLinkHtml;\n",
              "          element.appendChild(docLink);\n",
              "        }\n",
              "      </script>\n",
              "    </div>\n",
              "  </div>\n",
              "  "
            ]
          },
          "metadata": {},
          "execution_count": 7
        }
      ]
    },
    {
      "cell_type": "markdown",
      "source": [
        "Since we have many variations in age let us now categorize it in groups as\n",
        "\n",
        "**Underage = range(0,21)**\n",
        "\n",
        "**Youth = range(21,36)**\n",
        "\n",
        "**Middle_Aged = range(36,70)**\n",
        "\n",
        "**Senior = >= 70**"
      ],
      "metadata": {
        "id": "BeoIzUJWlhQ1"
      }
    },
    {
      "cell_type": "code",
      "source": [
        "age_np = dataframe['Age']\n",
        "age_group = []\n",
        "for i in age_np:\n",
        "  if i < 21:\n",
        "    age_group.append('Underage')\n",
        "  elif i in range(21,36):\n",
        "    age_group.append('Youth')\n",
        "  elif i in range(36,70):\n",
        "    age_group.append('Middle_aged')\n",
        "  else:\n",
        "    age_group.append('Senior')\n",
        "age_group"
      ],
      "metadata": {
        "colab": {
          "base_uri": "https://localhost:8080/"
        },
        "id": "uUPrMmNohftM",
        "outputId": "d05595be-311e-438c-8ca4-ab4a9e3e48e1"
      },
      "execution_count": 8,
      "outputs": [
        {
          "output_type": "execute_result",
          "data": {
            "text/plain": [
              "['Youth',\n",
              " 'Youth',\n",
              " 'Middle_aged',\n",
              " 'Youth',\n",
              " 'Middle_aged',\n",
              " 'Middle_aged',\n",
              " 'Middle_aged',\n",
              " 'Youth',\n",
              " 'Youth',\n",
              " 'Middle_aged',\n",
              " 'Middle_aged',\n",
              " 'Youth',\n",
              " 'Senior',\n",
              " 'Middle_aged',\n",
              " 'Youth',\n",
              " 'Senior',\n",
              " 'Senior',\n",
              " 'Middle_aged',\n",
              " 'Underage',\n",
              " 'Underage',\n",
              " 'Youth',\n",
              " 'Youth',\n",
              " 'Middle_aged',\n",
              " 'Youth',\n",
              " 'Middle_aged',\n",
              " 'Middle_aged',\n",
              " 'Senior',\n",
              " 'Youth',\n",
              " 'Middle_aged',\n",
              " 'Middle_aged',\n",
              " 'Youth',\n",
              " 'Middle_aged',\n",
              " 'Senior',\n",
              " 'Underage',\n",
              " 'Youth',\n",
              " 'Senior',\n",
              " 'Youth',\n",
              " 'Middle_aged',\n",
              " 'Middle_aged',\n",
              " 'Senior',\n",
              " 'Middle_aged',\n",
              " 'Middle_aged',\n",
              " 'Youth',\n",
              " 'Underage',\n",
              " 'Middle_aged',\n",
              " 'Middle_aged',\n",
              " 'Youth',\n",
              " 'Youth',\n",
              " 'Middle_aged',\n",
              " 'Senior',\n",
              " 'Senior',\n",
              " 'Underage',\n",
              " 'Youth',\n",
              " 'Youth',\n",
              " 'Middle_aged',\n",
              " 'Underage',\n",
              " 'Youth',\n",
              " 'Middle_aged',\n",
              " 'Middle_aged',\n",
              " 'Senior',\n",
              " 'Senior',\n",
              " 'Middle_aged',\n",
              " 'Youth',\n",
              " 'Senior',\n",
              " 'Youth',\n",
              " 'Youth',\n",
              " 'Youth',\n",
              " 'Middle_aged',\n",
              " 'Youth',\n",
              " 'Middle_aged',\n",
              " 'Middle_aged',\n",
              " 'Youth',\n",
              " 'Middle_aged',\n",
              " 'Middle_aged',\n",
              " 'Middle_aged',\n",
              " 'Youth',\n",
              " 'Middle_aged',\n",
              " 'Youth',\n",
              " 'Middle_aged',\n",
              " 'Underage',\n",
              " 'Youth',\n",
              " 'Underage',\n",
              " 'Youth',\n",
              " 'Middle_aged',\n",
              " 'Middle_aged',\n",
              " 'Middle_aged',\n",
              " 'Senior',\n",
              " 'Youth',\n",
              " 'Middle_aged',\n",
              " 'Youth',\n",
              " 'Middle_aged',\n",
              " 'Middle_aged',\n",
              " 'Middle_aged',\n",
              " 'Youth',\n",
              " 'Youth',\n",
              " 'Senior',\n",
              " 'Youth',\n",
              " 'Youth',\n",
              " 'Youth',\n",
              " 'Youth',\n",
              " 'Middle_aged']"
            ]
          },
          "metadata": {},
          "execution_count": 8
        }
      ]
    },
    {
      "cell_type": "code",
      "source": [
        "dataframe['age_group'] = age_group\n",
        "dataframe.head(3)"
      ],
      "metadata": {
        "colab": {
          "base_uri": "https://localhost:8080/",
          "height": 143
        },
        "id": "y_yEV-DXhfqe",
        "outputId": "7ef68476-0287-4a23-897c-574c785d1635"
      },
      "execution_count": 9,
      "outputs": [
        {
          "output_type": "execute_result",
          "data": {
            "text/plain": [
              "             Name Nationality  Age Identity_documents  Gold_type  Gold_weight  \\\n",
              "0  Raj Shrivastav      Indian   23           Verified  Ornaments         10.3   \n",
              "1  Mahindra Singh      Indian   31           Verified  Ornaments         20.0   \n",
              "2      Amar Singh      Indian   56           Verified  Ornaments         11.0   \n",
              "\n",
              "   Gold_purity Gold_documents Eligibility    age_group  \n",
              "0           23       Verified         Yes        Youth  \n",
              "1           21       Verified         Yes        Youth  \n",
              "2           21       Verified         Yes  Middle_aged  "
            ],
            "text/html": [
              "\n",
              "  <div id=\"df-7f6b7f23-d905-4cad-ac61-82f6fa026242\">\n",
              "    <div class=\"colab-df-container\">\n",
              "      <div>\n",
              "<style scoped>\n",
              "    .dataframe tbody tr th:only-of-type {\n",
              "        vertical-align: middle;\n",
              "    }\n",
              "\n",
              "    .dataframe tbody tr th {\n",
              "        vertical-align: top;\n",
              "    }\n",
              "\n",
              "    .dataframe thead th {\n",
              "        text-align: right;\n",
              "    }\n",
              "</style>\n",
              "<table border=\"1\" class=\"dataframe\">\n",
              "  <thead>\n",
              "    <tr style=\"text-align: right;\">\n",
              "      <th></th>\n",
              "      <th>Name</th>\n",
              "      <th>Nationality</th>\n",
              "      <th>Age</th>\n",
              "      <th>Identity_documents</th>\n",
              "      <th>Gold_type</th>\n",
              "      <th>Gold_weight</th>\n",
              "      <th>Gold_purity</th>\n",
              "      <th>Gold_documents</th>\n",
              "      <th>Eligibility</th>\n",
              "      <th>age_group</th>\n",
              "    </tr>\n",
              "  </thead>\n",
              "  <tbody>\n",
              "    <tr>\n",
              "      <th>0</th>\n",
              "      <td>Raj Shrivastav</td>\n",
              "      <td>Indian</td>\n",
              "      <td>23</td>\n",
              "      <td>Verified</td>\n",
              "      <td>Ornaments</td>\n",
              "      <td>10.3</td>\n",
              "      <td>23</td>\n",
              "      <td>Verified</td>\n",
              "      <td>Yes</td>\n",
              "      <td>Youth</td>\n",
              "    </tr>\n",
              "    <tr>\n",
              "      <th>1</th>\n",
              "      <td>Mahindra Singh</td>\n",
              "      <td>Indian</td>\n",
              "      <td>31</td>\n",
              "      <td>Verified</td>\n",
              "      <td>Ornaments</td>\n",
              "      <td>20.0</td>\n",
              "      <td>21</td>\n",
              "      <td>Verified</td>\n",
              "      <td>Yes</td>\n",
              "      <td>Youth</td>\n",
              "    </tr>\n",
              "    <tr>\n",
              "      <th>2</th>\n",
              "      <td>Amar Singh</td>\n",
              "      <td>Indian</td>\n",
              "      <td>56</td>\n",
              "      <td>Verified</td>\n",
              "      <td>Ornaments</td>\n",
              "      <td>11.0</td>\n",
              "      <td>21</td>\n",
              "      <td>Verified</td>\n",
              "      <td>Yes</td>\n",
              "      <td>Middle_aged</td>\n",
              "    </tr>\n",
              "  </tbody>\n",
              "</table>\n",
              "</div>\n",
              "      <button class=\"colab-df-convert\" onclick=\"convertToInteractive('df-7f6b7f23-d905-4cad-ac61-82f6fa026242')\"\n",
              "              title=\"Convert this dataframe to an interactive table.\"\n",
              "              style=\"display:none;\">\n",
              "        \n",
              "  <svg xmlns=\"http://www.w3.org/2000/svg\" height=\"24px\"viewBox=\"0 0 24 24\"\n",
              "       width=\"24px\">\n",
              "    <path d=\"M0 0h24v24H0V0z\" fill=\"none\"/>\n",
              "    <path d=\"M18.56 5.44l.94 2.06.94-2.06 2.06-.94-2.06-.94-.94-2.06-.94 2.06-2.06.94zm-11 1L8.5 8.5l.94-2.06 2.06-.94-2.06-.94L8.5 2.5l-.94 2.06-2.06.94zm10 10l.94 2.06.94-2.06 2.06-.94-2.06-.94-.94-2.06-.94 2.06-2.06.94z\"/><path d=\"M17.41 7.96l-1.37-1.37c-.4-.4-.92-.59-1.43-.59-.52 0-1.04.2-1.43.59L10.3 9.45l-7.72 7.72c-.78.78-.78 2.05 0 2.83L4 21.41c.39.39.9.59 1.41.59.51 0 1.02-.2 1.41-.59l7.78-7.78 2.81-2.81c.8-.78.8-2.07 0-2.86zM5.41 20L4 18.59l7.72-7.72 1.47 1.35L5.41 20z\"/>\n",
              "  </svg>\n",
              "      </button>\n",
              "      \n",
              "  <style>\n",
              "    .colab-df-container {\n",
              "      display:flex;\n",
              "      flex-wrap:wrap;\n",
              "      gap: 12px;\n",
              "    }\n",
              "\n",
              "    .colab-df-convert {\n",
              "      background-color: #E8F0FE;\n",
              "      border: none;\n",
              "      border-radius: 50%;\n",
              "      cursor: pointer;\n",
              "      display: none;\n",
              "      fill: #1967D2;\n",
              "      height: 32px;\n",
              "      padding: 0 0 0 0;\n",
              "      width: 32px;\n",
              "    }\n",
              "\n",
              "    .colab-df-convert:hover {\n",
              "      background-color: #E2EBFA;\n",
              "      box-shadow: 0px 1px 2px rgba(60, 64, 67, 0.3), 0px 1px 3px 1px rgba(60, 64, 67, 0.15);\n",
              "      fill: #174EA6;\n",
              "    }\n",
              "\n",
              "    [theme=dark] .colab-df-convert {\n",
              "      background-color: #3B4455;\n",
              "      fill: #D2E3FC;\n",
              "    }\n",
              "\n",
              "    [theme=dark] .colab-df-convert:hover {\n",
              "      background-color: #434B5C;\n",
              "      box-shadow: 0px 1px 3px 1px rgba(0, 0, 0, 0.15);\n",
              "      filter: drop-shadow(0px 1px 2px rgba(0, 0, 0, 0.3));\n",
              "      fill: #FFFFFF;\n",
              "    }\n",
              "  </style>\n",
              "\n",
              "      <script>\n",
              "        const buttonEl =\n",
              "          document.querySelector('#df-7f6b7f23-d905-4cad-ac61-82f6fa026242 button.colab-df-convert');\n",
              "        buttonEl.style.display =\n",
              "          google.colab.kernel.accessAllowed ? 'block' : 'none';\n",
              "\n",
              "        async function convertToInteractive(key) {\n",
              "          const element = document.querySelector('#df-7f6b7f23-d905-4cad-ac61-82f6fa026242');\n",
              "          const dataTable =\n",
              "            await google.colab.kernel.invokeFunction('convertToInteractive',\n",
              "                                                     [key], {});\n",
              "          if (!dataTable) return;\n",
              "\n",
              "          const docLinkHtml = 'Like what you see? Visit the ' +\n",
              "            '<a target=\"_blank\" href=https://colab.research.google.com/notebooks/data_table.ipynb>data table notebook</a>'\n",
              "            + ' to learn more about interactive tables.';\n",
              "          element.innerHTML = '';\n",
              "          dataTable['output_type'] = 'display_data';\n",
              "          await google.colab.output.renderOutput(dataTable, element);\n",
              "          const docLink = document.createElement('div');\n",
              "          docLink.innerHTML = docLinkHtml;\n",
              "          element.appendChild(docLink);\n",
              "        }\n",
              "      </script>\n",
              "    </div>\n",
              "  </div>\n",
              "  "
            ]
          },
          "metadata": {},
          "execution_count": 9
        }
      ]
    },
    {
      "cell_type": "code",
      "source": [
        "pd.crosstab(dataframe['age_group'], dataframe['Eligibility'], margins=True)"
      ],
      "metadata": {
        "colab": {
          "base_uri": "https://localhost:8080/",
          "height": 237
        },
        "id": "wukx9876oCYE",
        "outputId": "71bd24f3-2869-4e81-d61f-c2ee4fab8948"
      },
      "execution_count": 10,
      "outputs": [
        {
          "output_type": "execute_result",
          "data": {
            "text/plain": [
              "Eligibility  No  Yes  All\n",
              "age_group                \n",
              "Middle_aged  22   19   41\n",
              "Senior       14    0   14\n",
              "Underage      8    0    8\n",
              "Youth        16   22   38\n",
              "All          60   41  101"
            ],
            "text/html": [
              "\n",
              "  <div id=\"df-65ee44d9-8cc6-4099-86af-8a3de530829a\">\n",
              "    <div class=\"colab-df-container\">\n",
              "      <div>\n",
              "<style scoped>\n",
              "    .dataframe tbody tr th:only-of-type {\n",
              "        vertical-align: middle;\n",
              "    }\n",
              "\n",
              "    .dataframe tbody tr th {\n",
              "        vertical-align: top;\n",
              "    }\n",
              "\n",
              "    .dataframe thead th {\n",
              "        text-align: right;\n",
              "    }\n",
              "</style>\n",
              "<table border=\"1\" class=\"dataframe\">\n",
              "  <thead>\n",
              "    <tr style=\"text-align: right;\">\n",
              "      <th>Eligibility</th>\n",
              "      <th>No</th>\n",
              "      <th>Yes</th>\n",
              "      <th>All</th>\n",
              "    </tr>\n",
              "    <tr>\n",
              "      <th>age_group</th>\n",
              "      <th></th>\n",
              "      <th></th>\n",
              "      <th></th>\n",
              "    </tr>\n",
              "  </thead>\n",
              "  <tbody>\n",
              "    <tr>\n",
              "      <th>Middle_aged</th>\n",
              "      <td>22</td>\n",
              "      <td>19</td>\n",
              "      <td>41</td>\n",
              "    </tr>\n",
              "    <tr>\n",
              "      <th>Senior</th>\n",
              "      <td>14</td>\n",
              "      <td>0</td>\n",
              "      <td>14</td>\n",
              "    </tr>\n",
              "    <tr>\n",
              "      <th>Underage</th>\n",
              "      <td>8</td>\n",
              "      <td>0</td>\n",
              "      <td>8</td>\n",
              "    </tr>\n",
              "    <tr>\n",
              "      <th>Youth</th>\n",
              "      <td>16</td>\n",
              "      <td>22</td>\n",
              "      <td>38</td>\n",
              "    </tr>\n",
              "    <tr>\n",
              "      <th>All</th>\n",
              "      <td>60</td>\n",
              "      <td>41</td>\n",
              "      <td>101</td>\n",
              "    </tr>\n",
              "  </tbody>\n",
              "</table>\n",
              "</div>\n",
              "      <button class=\"colab-df-convert\" onclick=\"convertToInteractive('df-65ee44d9-8cc6-4099-86af-8a3de530829a')\"\n",
              "              title=\"Convert this dataframe to an interactive table.\"\n",
              "              style=\"display:none;\">\n",
              "        \n",
              "  <svg xmlns=\"http://www.w3.org/2000/svg\" height=\"24px\"viewBox=\"0 0 24 24\"\n",
              "       width=\"24px\">\n",
              "    <path d=\"M0 0h24v24H0V0z\" fill=\"none\"/>\n",
              "    <path d=\"M18.56 5.44l.94 2.06.94-2.06 2.06-.94-2.06-.94-.94-2.06-.94 2.06-2.06.94zm-11 1L8.5 8.5l.94-2.06 2.06-.94-2.06-.94L8.5 2.5l-.94 2.06-2.06.94zm10 10l.94 2.06.94-2.06 2.06-.94-2.06-.94-.94-2.06-.94 2.06-2.06.94z\"/><path d=\"M17.41 7.96l-1.37-1.37c-.4-.4-.92-.59-1.43-.59-.52 0-1.04.2-1.43.59L10.3 9.45l-7.72 7.72c-.78.78-.78 2.05 0 2.83L4 21.41c.39.39.9.59 1.41.59.51 0 1.02-.2 1.41-.59l7.78-7.78 2.81-2.81c.8-.78.8-2.07 0-2.86zM5.41 20L4 18.59l7.72-7.72 1.47 1.35L5.41 20z\"/>\n",
              "  </svg>\n",
              "      </button>\n",
              "      \n",
              "  <style>\n",
              "    .colab-df-container {\n",
              "      display:flex;\n",
              "      flex-wrap:wrap;\n",
              "      gap: 12px;\n",
              "    }\n",
              "\n",
              "    .colab-df-convert {\n",
              "      background-color: #E8F0FE;\n",
              "      border: none;\n",
              "      border-radius: 50%;\n",
              "      cursor: pointer;\n",
              "      display: none;\n",
              "      fill: #1967D2;\n",
              "      height: 32px;\n",
              "      padding: 0 0 0 0;\n",
              "      width: 32px;\n",
              "    }\n",
              "\n",
              "    .colab-df-convert:hover {\n",
              "      background-color: #E2EBFA;\n",
              "      box-shadow: 0px 1px 2px rgba(60, 64, 67, 0.3), 0px 1px 3px 1px rgba(60, 64, 67, 0.15);\n",
              "      fill: #174EA6;\n",
              "    }\n",
              "\n",
              "    [theme=dark] .colab-df-convert {\n",
              "      background-color: #3B4455;\n",
              "      fill: #D2E3FC;\n",
              "    }\n",
              "\n",
              "    [theme=dark] .colab-df-convert:hover {\n",
              "      background-color: #434B5C;\n",
              "      box-shadow: 0px 1px 3px 1px rgba(0, 0, 0, 0.15);\n",
              "      filter: drop-shadow(0px 1px 2px rgba(0, 0, 0, 0.3));\n",
              "      fill: #FFFFFF;\n",
              "    }\n",
              "  </style>\n",
              "\n",
              "      <script>\n",
              "        const buttonEl =\n",
              "          document.querySelector('#df-65ee44d9-8cc6-4099-86af-8a3de530829a button.colab-df-convert');\n",
              "        buttonEl.style.display =\n",
              "          google.colab.kernel.accessAllowed ? 'block' : 'none';\n",
              "\n",
              "        async function convertToInteractive(key) {\n",
              "          const element = document.querySelector('#df-65ee44d9-8cc6-4099-86af-8a3de530829a');\n",
              "          const dataTable =\n",
              "            await google.colab.kernel.invokeFunction('convertToInteractive',\n",
              "                                                     [key], {});\n",
              "          if (!dataTable) return;\n",
              "\n",
              "          const docLinkHtml = 'Like what you see? Visit the ' +\n",
              "            '<a target=\"_blank\" href=https://colab.research.google.com/notebooks/data_table.ipynb>data table notebook</a>'\n",
              "            + ' to learn more about interactive tables.';\n",
              "          element.innerHTML = '';\n",
              "          dataTable['output_type'] = 'display_data';\n",
              "          await google.colab.output.renderOutput(dataTable, element);\n",
              "          const docLink = document.createElement('div');\n",
              "          docLink.innerHTML = docLinkHtml;\n",
              "          element.appendChild(docLink);\n",
              "        }\n",
              "      </script>\n",
              "    </div>\n",
              "  </div>\n",
              "  "
            ]
          },
          "metadata": {},
          "execution_count": 10
        }
      ]
    },
    {
      "cell_type": "markdown",
      "source": [
        "Now let us see the how is the distribution of data for Gold_weight and gold_purity."
      ],
      "metadata": {
        "id": "aa99wzdenqxT"
      }
    },
    {
      "cell_type": "code",
      "source": [
        "dataframe.boxplot(column='Gold_weight')"
      ],
      "metadata": {
        "colab": {
          "base_uri": "https://localhost:8080/",
          "height": 283
        },
        "id": "ml5Y0pDzhflm",
        "outputId": "67a2ab0c-ea92-4da8-8ad6-6e9d71826d87"
      },
      "execution_count": 11,
      "outputs": [
        {
          "output_type": "execute_result",
          "data": {
            "text/plain": [
              "<matplotlib.axes._subplots.AxesSubplot at 0x7fe1d6095c10>"
            ]
          },
          "metadata": {},
          "execution_count": 11
        },
        {
          "output_type": "display_data",
          "data": {
            "text/plain": [
              "<Figure size 432x288 with 1 Axes>"
            ],
            "image/png": "[encoded data removed]"
          },
          "metadata": {
            "needs_background": "light"
          }
        }
      ]
    },
    {
      "cell_type": "code",
      "source": [
        "dataframe['Gold_weight'].hist(bins=20)"
      ],
      "metadata": {
        "colab": {
          "base_uri": "https://localhost:8080/",
          "height": 282
        },
        "id": "oOxT4PD-hfjF",
        "outputId": "aee67718-1ac8-4e24-9e19-16cc139263a7"
      },
      "execution_count": 12,
      "outputs": [
        {
          "output_type": "execute_result",
          "data": {
            "text/plain": [
              "<matplotlib.axes._subplots.AxesSubplot at 0x7fe1d5fd6d50>"
            ]
          },
          "metadata": {},
          "execution_count": 12
        },
        {
          "output_type": "display_data",
          "data": {
            "text/plain": [
              "<Figure size 432x288 with 1 Axes>"
            ],
            "image/png": "[encoded data removed]"
          },
          "metadata": {
            "needs_background": "light"
          }
        }
      ]
    },
    {
      "cell_type": "markdown",
      "source": [
        "As we can see that the distribution of the data is left skewed. We need to normalize the Gold weight Data and create an new column in the dataframe for it."
      ],
      "metadata": {
        "id": "woGQzuoLqQLs"
      }
    },
    {
      "cell_type": "code",
      "source": [
        "dataframe['Gold_weight_normalized'] = np.log(dataframe['Gold_weight'])\n",
        "dataframe['Gold_weight_normalized'].hist(bins=20)"
      ],
      "metadata": {
        "colab": {
          "base_uri": "https://localhost:8080/",
          "height": 282
        },
        "id": "ZXQUbSK5qM7D",
        "outputId": "3c14a038-b3a9-46f8-f94e-fc931683823b"
      },
      "execution_count": 13,
      "outputs": [
        {
          "output_type": "execute_result",
          "data": {
            "text/plain": [
              "<matplotlib.axes._subplots.AxesSubplot at 0x7fe1d5a65150>"
            ]
          },
          "metadata": {},
          "execution_count": 13
        },
        {
          "output_type": "display_data",
          "data": {
            "text/plain": [
              "<Figure size 432x288 with 1 Axes>"
            ],
            "image/png": "[encoded data removed]"
          },
          "metadata": {
            "needs_background": "light"
          }
        }
      ]
    },
    {
      "cell_type": "markdown",
      "source": [
        "Gold Purity"
      ],
      "metadata": {
        "id": "ueZ3hoMJpMqK"
      }
    },
    {
      "cell_type": "code",
      "source": [
        "dataframe['Gold_purity'].hist(bins=5)"
      ],
      "metadata": {
        "colab": {
          "base_uri": "https://localhost:8080/",
          "height": 282
        },
        "id": "7OJowGQXhfgl",
        "outputId": "a52bc027-c0bf-4141-b57d-52df2b850762"
      },
      "execution_count": 14,
      "outputs": [
        {
          "output_type": "execute_result",
          "data": {
            "text/plain": [
              "<matplotlib.axes._subplots.AxesSubplot at 0x7fe1d59a0e90>"
            ]
          },
          "metadata": {},
          "execution_count": 14
        },
        {
          "output_type": "display_data",
          "data": {
            "text/plain": [
              "<Figure size 432x288 with 1 Axes>"
            ],
            "image/png": "[encoded data removed]"
          },
          "metadata": {
            "needs_background": "light"
          }
        }
      ]
    },
    {
      "cell_type": "markdown",
      "source": [
        "As we can see that the distribution of the data is left skewed. We need to normalize the Gold Purity Data and create an new column in the dataframe for it."
      ],
      "metadata": {
        "id": "HJeF3Op3pbiL"
      }
    },
    {
      "cell_type": "code",
      "source": [
        "dataframe['Gold_purity_normalized'] = np.log(dataframe['Gold_purity'])\n",
        "dataframe['Gold_purity_normalized'].hist(bins=10)"
      ],
      "metadata": {
        "colab": {
          "base_uri": "https://localhost:8080/",
          "height": 282
        },
        "id": "yrooal12paRo",
        "outputId": "abf8de0a-e744-4d34-eb73-0edcdc2cec9b"
      },
      "execution_count": 15,
      "outputs": [
        {
          "output_type": "execute_result",
          "data": {
            "text/plain": [
              "<matplotlib.axes._subplots.AxesSubplot at 0x7fe1d593a8d0>"
            ]
          },
          "metadata": {},
          "execution_count": 15
        },
        {
          "output_type": "display_data",
          "data": {
            "text/plain": [
              "<Figure size 432x288 with 1 Axes>"
            ],
            "image/png": "[encoded data removed]"
          },
          "metadata": {
            "needs_background": "light"
          }
        }
      ]
    },
    {
      "cell_type": "code",
      "source": [
        "dataframe.head(3)"
      ],
      "metadata": {
        "colab": {
          "base_uri": "https://localhost:8080/",
          "height": 259
        },
        "id": "lNXsCC0zhfd1",
        "outputId": "a733c037-1ab6-40b5-be9b-1830290fd011"
      },
      "execution_count": 16,
      "outputs": [
        {
          "output_type": "execute_result",
          "data": {
            "text/plain": [
              "             Name Nationality  Age Identity_documents  Gold_type  Gold_weight  \\\n",
              "0  Raj Shrivastav      Indian   23           Verified  Ornaments         10.3   \n",
              "1  Mahindra Singh      Indian   31           Verified  Ornaments         20.0   \n",
              "2      Amar Singh      Indian   56           Verified  Ornaments         11.0   \n",
              "\n",
              "   Gold_purity Gold_documents Eligibility    age_group  \\\n",
              "0           23       Verified         Yes        Youth   \n",
              "1           21       Verified         Yes        Youth   \n",
              "2           21       Verified         Yes  Middle_aged   \n",
              "\n",
              "   Gold_weight_normalized  Gold_purity_normalized  \n",
              "0                2.332144                3.135494  \n",
              "1                2.995732                3.044522  \n",
              "2                2.397895                3.044522  "
            ],
            "text/html": [
              "\n",
              "  <div id=\"df-c7491390-85e0-424c-b38b-555fb0203496\">\n",
              "    <div class=\"colab-df-container\">\n",
              "      <div>\n",
              "<style scoped>\n",
              "    .dataframe tbody tr th:only-of-type {\n",
              "        vertical-align: middle;\n",
              "    }\n",
              "\n",
              "    .dataframe tbody tr th {\n",
              "        vertical-align: top;\n",
              "    }\n",
              "\n",
              "    .dataframe thead th {\n",
              "        text-align: right;\n",
              "    }\n",
              "</style>\n",
              "<table border=\"1\" class=\"dataframe\">\n",
              "  <thead>\n",
              "    <tr style=\"text-align: right;\">\n",
              "      <th></th>\n",
              "      <th>Name</th>\n",
              "      <th>Nationality</th>\n",
              "      <th>Age</th>\n",
              "      <th>Identity_documents</th>\n",
              "      <th>Gold_type</th>\n",
              "      <th>Gold_weight</th>\n",
              "      <th>Gold_purity</th>\n",
              "      <th>Gold_documents</th>\n",
              "      <th>Eligibility</th>\n",
              "      <th>age_group</th>\n",
              "      <th>Gold_weight_normalized</th>\n",
              "      <th>Gold_purity_normalized</th>\n",
              "    </tr>\n",
              "  </thead>\n",
              "  <tbody>\n",
              "    <tr>\n",
              "      <th>0</th>\n",
              "      <td>Raj Shrivastav</td>\n",
              "      <td>Indian</td>\n",
              "      <td>23</td>\n",
              "      <td>Verified</td>\n",
              "      <td>Ornaments</td>\n",
              "      <td>10.3</td>\n",
              "      <td>23</td>\n",
              "      <td>Verified</td>\n",
              "      <td>Yes</td>\n",
              "      <td>Youth</td>\n",
              "      <td>2.332144</td>\n",
              "      <td>3.135494</td>\n",
              "    </tr>\n",
              "    <tr>\n",
              "      <th>1</th>\n",
              "      <td>Mahindra Singh</td>\n",
              "      <td>Indian</td>\n",
              "      <td>31</td>\n",
              "      <td>Verified</td>\n",
              "      <td>Ornaments</td>\n",
              "      <td>20.0</td>\n",
              "      <td>21</td>\n",
              "      <td>Verified</td>\n",
              "      <td>Yes</td>\n",
              "      <td>Youth</td>\n",
              "      <td>2.995732</td>\n",
              "      <td>3.044522</td>\n",
              "    </tr>\n",
              "    <tr>\n",
              "      <th>2</th>\n",
              "      <td>Amar Singh</td>\n",
              "      <td>Indian</td>\n",
              "      <td>56</td>\n",
              "      <td>Verified</td>\n",
              "      <td>Ornaments</td>\n",
              "      <td>11.0</td>\n",
              "      <td>21</td>\n",
              "      <td>Verified</td>\n",
              "      <td>Yes</td>\n",
              "      <td>Middle_aged</td>\n",
              "      <td>2.397895</td>\n",
              "      <td>3.044522</td>\n",
              "    </tr>\n",
              "  </tbody>\n",
              "</table>\n",
              "</div>\n",
              "      <button class=\"colab-df-convert\" onclick=\"convertToInteractive('df-c7491390-85e0-424c-b38b-555fb0203496')\"\n",
              "              title=\"Convert this dataframe to an interactive table.\"\n",
              "              style=\"display:none;\">\n",
              "        \n",
              "  <svg xmlns=\"http://www.w3.org/2000/svg\" height=\"24px\"viewBox=\"0 0 24 24\"\n",
              "       width=\"24px\">\n",
              "    <path d=\"M0 0h24v24H0V0z\" fill=\"none\"/>\n",
              "    <path d=\"M18.56 5.44l.94 2.06.94-2.06 2.06-.94-2.06-.94-.94-2.06-.94 2.06-2.06.94zm-11 1L8.5 8.5l.94-2.06 2.06-.94-2.06-.94L8.5 2.5l-.94 2.06-2.06.94zm10 10l.94 2.06.94-2.06 2.06-.94-2.06-.94-.94-2.06-.94 2.06-2.06.94z\"/><path d=\"M17.41 7.96l-1.37-1.37c-.4-.4-.92-.59-1.43-.59-.52 0-1.04.2-1.43.59L10.3 9.45l-7.72 7.72c-.78.78-.78 2.05 0 2.83L4 21.41c.39.39.9.59 1.41.59.51 0 1.02-.2 1.41-.59l7.78-7.78 2.81-2.81c.8-.78.8-2.07 0-2.86zM5.41 20L4 18.59l7.72-7.72 1.47 1.35L5.41 20z\"/>\n",
              "  </svg>\n",
              "      </button>\n",
              "      \n",
              "  <style>\n",
              "    .colab-df-container {\n",
              "      display:flex;\n",
              "      flex-wrap:wrap;\n",
              "      gap: 12px;\n",
              "    }\n",
              "\n",
              "    .colab-df-convert {\n",
              "      background-color: #E8F0FE;\n",
              "      border: none;\n",
              "      border-radius: 50%;\n",
              "      cursor: pointer;\n",
              "      display: none;\n",
              "      fill: #1967D2;\n",
              "      height: 32px;\n",
              "      padding: 0 0 0 0;\n",
              "      width: 32px;\n",
              "    }\n",
              "\n",
              "    .colab-df-convert:hover {\n",
              "      background-color: #E2EBFA;\n",
              "      box-shadow: 0px 1px 2px rgba(60, 64, 67, 0.3), 0px 1px 3px 1px rgba(60, 64, 67, 0.15);\n",
              "      fill: #174EA6;\n",
              "    }\n",
              "\n",
              "    [theme=dark] .colab-df-convert {\n",
              "      background-color: #3B4455;\n",
              "      fill: #D2E3FC;\n",
              "    }\n",
              "\n",
              "    [theme=dark] .colab-df-convert:hover {\n",
              "      background-color: #434B5C;\n",
              "      box-shadow: 0px 1px 3px 1px rgba(0, 0, 0, 0.15);\n",
              "      filter: drop-shadow(0px 1px 2px rgba(0, 0, 0, 0.3));\n",
              "      fill: #FFFFFF;\n",
              "    }\n",
              "  </style>\n",
              "\n",
              "      <script>\n",
              "        const buttonEl =\n",
              "          document.querySelector('#df-c7491390-85e0-424c-b38b-555fb0203496 button.colab-df-convert');\n",
              "        buttonEl.style.display =\n",
              "          google.colab.kernel.accessAllowed ? 'block' : 'none';\n",
              "\n",
              "        async function convertToInteractive(key) {\n",
              "          const element = document.querySelector('#df-c7491390-85e0-424c-b38b-555fb0203496');\n",
              "          const dataTable =\n",
              "            await google.colab.kernel.invokeFunction('convertToInteractive',\n",
              "                                                     [key], {});\n",
              "          if (!dataTable) return;\n",
              "\n",
              "          const docLinkHtml = 'Like what you see? Visit the ' +\n",
              "            '<a target=\"_blank\" href=https://colab.research.google.com/notebooks/data_table.ipynb>data table notebook</a>'\n",
              "            + ' to learn more about interactive tables.';\n",
              "          element.innerHTML = '';\n",
              "          dataTable['output_type'] = 'display_data';\n",
              "          await google.colab.output.renderOutput(dataTable, element);\n",
              "          const docLink = document.createElement('div');\n",
              "          docLink.innerHTML = docLinkHtml;\n",
              "          element.appendChild(docLink);\n",
              "        }\n",
              "      </script>\n",
              "    </div>\n",
              "  </div>\n",
              "  "
            ]
          },
          "metadata": {},
          "execution_count": 16
        }
      ]
    },
    {
      "cell_type": "markdown",
      "source": [
        "Since now we have removed all the null values and also normalized the required data let us proceed further by dividing our dataset into Independent and Dependent Data."
      ],
      "metadata": {
        "id": "jMRIkWYRqp5h"
      }
    },
    {
      "cell_type": "markdown",
      "source": [
        "**X Variable will have all the Independent Data that is, Nationality, Age_group, Identity Documents, Gold_Type, Gold_Documents,Gold_weight_normalized, Gold_weight_normalized**\n",
        "\n",
        "**Y is the variable that will contain all the dependent data that is in our case we have only the Eligibility Criteria.**"
      ],
      "metadata": {
        "id": "5YNei8ZQrQsx"
      }
    },
    {
      "cell_type": "code",
      "source": [
        "X = dataframe.iloc[:, np.r_[1,3:5,7,9:12]].values\n",
        "Y = dataframe.iloc[:, np.r_[8]].values"
      ],
      "metadata": {
        "id": "vuY5jT5DhfbW"
      },
      "execution_count": 17,
      "outputs": []
    },
    {
      "cell_type": "code",
      "source": [
        "X[1,:]"
      ],
      "metadata": {
        "colab": {
          "base_uri": "https://localhost:8080/"
        },
        "id": "Q1tggNznhfY-",
        "outputId": "fec0d17b-a7b6-4870-d138-41618a5e1612"
      },
      "execution_count": 18,
      "outputs": [
        {
          "output_type": "execute_result",
          "data": {
            "text/plain": [
              "array(['Indian', 'Verified', 'Ornaments', 'Verified', 'Youth',\n",
              "       2.995732273553991, 3.044522437723423], dtype=object)"
            ]
          },
          "metadata": {},
          "execution_count": 18
        }
      ]
    },
    {
      "cell_type": "code",
      "source": [
        "Y[1:5]"
      ],
      "metadata": {
        "colab": {
          "base_uri": "https://localhost:8080/"
        },
        "id": "l8K80EcLhfWg",
        "outputId": "a6d26865-2295-4831-c033-a0f8235ff817"
      },
      "execution_count": 19,
      "outputs": [
        {
          "output_type": "execute_result",
          "data": {
            "text/plain": [
              "array([['Yes'],\n",
              "       ['Yes'],\n",
              "       ['No'],\n",
              "       ['Yes']], dtype=object)"
            ]
          },
          "metadata": {},
          "execution_count": 19
        }
      ]
    },
    {
      "cell_type": "markdown",
      "source": [
        "Now since we have divided our dataset into independent and dependent data, now let us split our data into train and test. Using Sklearn.modelselection (train_test_split)"
      ],
      "metadata": {
        "id": "BeLvJvTotbvS"
      }
    },
    {
      "cell_type": "code",
      "source": [
        "from sklearn.model_selection import train_test_split\n",
        "X_train, X_test, Y_train, Y_test = train_test_split(X, Y, test_size=0.2, random_state = 5)"
      ],
      "metadata": {
        "id": "epBsDYnjtbl9"
      },
      "execution_count": 20,
      "outputs": []
    },
    {
      "cell_type": "code",
      "source": [
        "X_train"
      ],
      "metadata": {
        "colab": {
          "base_uri": "https://localhost:8080/"
        },
        "id": "HOEOhimotbju",
        "outputId": "d251a24b-13b7-49ef-8501-cc1b885239e2"
      },
      "execution_count": 21,
      "outputs": [
        {
          "output_type": "execute_result",
          "data": {
            "text/plain": [
              "array([['Indian', 'Verified', 'Ornaments', 'Verified', 'Senior',\n",
              "        1.6094379124341003, 3.091042453358316],\n",
              "       ['Indian', 'Verified', 'Ornaments', 'Verified', 'Senior',\n",
              "        3.5263605246161616, 3.044522437723423],\n",
              "       ['Indian', 'Verified', 'Minted Coins', 'Verified', 'Middle_aged',\n",
              "        4.605170185988092, 3.1354942159291497],\n",
              "       ['Indian', 'Verified', 'Ornaments', 'Verified', 'Youth',\n",
              "        1.6094379124341003, 3.091042453358316],\n",
              "       ['Indian', 'Verified', 'Ornaments', 'Verified', 'Middle_aged',\n",
              "        2.1972245773362196, 2.9444389791664403],\n",
              "       ['Indian', 'Verified', 'Minted Coins', 'Not Verified',\n",
              "        'Middle_aged', 3.912023005428146, 3.1780538303479458],\n",
              "       ['Indian', 'Not Verified', 'Ornaments', 'Verified', 'Youth',\n",
              "        6.907755278982137, 2.9444389791664403],\n",
              "       ['Indian', 'Verified', 'Minted Coins', 'Verified', 'Middle_aged',\n",
              "        6.214608098422191, 3.1780538303479458],\n",
              "       ['Indian', 'Verified', 'Minted Coins', 'Not Verified',\n",
              "        'Middle_aged', 3.912023005428146, 3.1354942159291497],\n",
              "       ['Indian', 'Verified', 'Minted Coins', 'Verified', 'Middle_aged',\n",
              "        6.214608098422191, 3.1780538303479458],\n",
              "       ['Indian', 'Verified', 'Minted Coins', 'Verified', 'Middle_aged',\n",
              "        3.8958936234982624, 3.1780538303479458],\n",
              "       ['Indian', 'Verified', 'Minted Coins', 'Not Verified',\n",
              "        'Middle_aged', 4.605170185988092, 3.1354942159291497],\n",
              "       ['Indian', 'Verified', 'Minted Coins', 'Verified', 'Underage',\n",
              "        3.8918202981106265, 3.1354942159291497],\n",
              "       ['Indian', 'Not Verified', 'Ornaments', 'Verified', 'Senior',\n",
              "        2.2082744135228043, 2.9444389791664403],\n",
              "       ['Indian', 'Verified', 'Ornaments', 'Verified', 'Youth',\n",
              "        5.298317366548036, 2.8903717578961645],\n",
              "       ['Indian', 'Verified', 'Ornaments', 'Verified', 'Middle_aged',\n",
              "        3.912023005428146, 2.995732273553991],\n",
              "       ['Indian', 'Verified', 'Minted Coins', 'NOT Verified', 'Youth',\n",
              "        6.214608098422191, 3.1354942159291497],\n",
              "       ['Indian', 'Verified', 'Ornaments', 'Verified', 'Underage',\n",
              "        4.61512051684126, 3.1354942159291497],\n",
              "       ['Indian', 'Verified', 'Minted Coins', 'Verified', 'Youth',\n",
              "        6.907755278982137, 3.1354942159291497],\n",
              "       ['Indian', 'Verified', 'Minted Coins', 'Verified', 'Middle_aged',\n",
              "        3.6888794541139363, 3.1780538303479458],\n",
              "       ['Indian', 'Verified', 'Ornaments', 'Verified', 'Underage',\n",
              "        2.995732273553991, 3.1354942159291497],\n",
              "       ['Indian', 'Verified', 'Minted Coins', 'Verified', 'Middle_aged',\n",
              "        5.857933154483459, 3.1354942159291497],\n",
              "       ['Indian', 'Verified', 'Minted Coins', 'Verified', 'Youth',\n",
              "        6.551080335043404, 3.1780538303479458],\n",
              "       ['Indian', 'Verified', 'Ornaments', 'Verified', 'Youth',\n",
              "        2.70805020110221, 2.8903717578961645],\n",
              "       ['Indian', 'Verified', 'Ornaments', 'Verified', 'Youth',\n",
              "        4.605170185988092, 3.044522437723423],\n",
              "       ['Indian', 'Verified', 'Minted Coins', 'Verified', 'Middle_aged',\n",
              "        6.396929655216146, 3.1780538303479458],\n",
              "       ['Indian', 'Verified', 'Minted Coins', 'Verified', 'Middle_aged',\n",
              "        6.907755278982137, 3.1780538303479458],\n",
              "       ['Indian', 'Verified', 'Minted Coins', 'Verified', 'Youth',\n",
              "        3.9318256327243257, 3.1354942159291497],\n",
              "       ['Indian', 'Verified', 'Minted Coins', 'Verified', 'Underage',\n",
              "        6.1092475827643655, 3.1780538303479458],\n",
              "       ['Indian', 'Verified', 'Ornaments', 'Verified', 'Youth',\n",
              "        2.4159137783010487, 3.091042453358316],\n",
              "       ['Indian', 'Verified', 'Minted Coins', 'Verified', 'Underage',\n",
              "        5.857933154483459, 3.1780538303479458],\n",
              "       ['Indian', 'Verified', 'Minted Coins', 'Verified', 'Middle_aged',\n",
              "        5.991464547107982, 3.1780538303479458],\n",
              "       ['Indian', 'Verified', 'Ornaments', 'Verified', 'Middle_aged',\n",
              "        2.995732273553991, 3.091042453358316],\n",
              "       ['Indian', 'Verified', 'Ornaments', 'Not Verified', 'Youth',\n",
              "        4.248495242049359, 2.995732273553991],\n",
              "       ['Indian', 'Verified', 'Ornaments', 'Verified', 'Middle_aged',\n",
              "        5.298317366548036, 2.9444389791664403],\n",
              "       ['Indian', 'Verified', 'Minted Coins', 'Verified', 'Youth',\n",
              "        6.1092475827643655, 3.1780538303479458],\n",
              "       ['Indian', 'Verified', 'Ornaments', 'Verified', 'Senior',\n",
              "        3.4339872044851463, 3.044522437723423],\n",
              "       ['Not Indian', 'Verified', 'Minted Coins', 'Verified',\n",
              "        'Middle_aged', 6.214608098422191, 3.1780538303479458],\n",
              "       ['Indian', 'Verified', 'Minted Coins', 'Verified', 'Senior',\n",
              "        5.521460917862246, 3.1354942159291497],\n",
              "       ['Indian', 'Verified', 'Ornaments', 'Not Verified', 'Underage',\n",
              "        3.9318256327243257, 3.091042453358316],\n",
              "       ['Indian', 'Verified', 'Ornaments', 'Verified', 'Youth',\n",
              "        4.605170185988092, 2.995732273553991],\n",
              "       ['Indian', 'Not Verified', 'Minted Coins', 'Verified',\n",
              "        'Middle_aged', 3.912023005428146, 3.1354942159291497],\n",
              "       ['Indian', 'Verified', 'Minted Coins', 'Verified', 'Middle_aged',\n",
              "        5.857933154483459, 3.1780538303479458],\n",
              "       ['Indian', 'Verified', 'Ornaments', 'Verified', 'Middle_aged',\n",
              "        2.3978952727983707, 3.044522437723423],\n",
              "       ['Indian', 'Verified', 'Ornaments', 'Not Verified', 'Middle_aged',\n",
              "        3.912023005428146, 2.9444389791664403],\n",
              "       ['Indian', 'Verified', 'Ornaments', 'Verified', 'Middle_aged',\n",
              "        3.6888794541139363, 2.8903717578961645],\n",
              "       ['Indian', 'Verified', 'Minted Coins', 'Verified', 'Underage',\n",
              "        6.214608098422191, 3.1780538303479458],\n",
              "       ['Indian', 'Verified', 'Ornaments', 'Verified', 'Youth',\n",
              "        4.1588830833596715, 3.091042453358316],\n",
              "       ['Indian', 'Verified', 'Ornaments', 'Verified', 'Middle_aged',\n",
              "        3.4011973816621555, 2.8903717578961645],\n",
              "       ['Indian', 'Verified', 'Ornaments', 'Verified', 'Youth',\n",
              "        2.33214389523559, 3.1354942159291497],\n",
              "       ['Indian', 'Verified', 'Minted Coins', 'Verified', 'Middle_aged',\n",
              "        6.214608098422191, 3.1354942159291497],\n",
              "       ['Indian', 'Verified', 'Minted Coins', 'Verified', 'Middle_aged',\n",
              "        4.007333185232471, 3.1354942159291497],\n",
              "       ['Indian', 'Not Verified', 'Minted Coins', 'Verified', 'Youth',\n",
              "        6.214608098422191, 3.1780538303479458],\n",
              "       ['Indian', 'Verified', 'Ornaments', 'Verified', 'Youth',\n",
              "        2.995732273553991, 3.044522437723423],\n",
              "       ['Indian', 'Verified', 'Minted Coins', 'Verified', 'Youth',\n",
              "        5.857933154483459, 3.1780538303479458],\n",
              "       ['Indian', 'Not Verified', 'Ornaments', 'Verified', 'Middle_aged',\n",
              "        3.9889840465642745, 3.044522437723423],\n",
              "       ['Indian', 'Verified', 'Ornaments', 'Verified', 'Middle_aged',\n",
              "        3.9318256327243257, 3.091042453358316],\n",
              "       ['Indian', 'Not Verified', 'Minted Coins', 'Verified', 'Underage',\n",
              "        3.4657359027997265, 3.1780538303479458],\n",
              "       ['Indian', 'Verified', 'Ornaments', 'Not Verified', 'Middle_aged',\n",
              "        5.298317366548036, 3.091042453358316],\n",
              "       ['Indian', 'Verified', 'Ornaments', 'Not Verified', 'Youth',\n",
              "        4.0943445622221, 3.1354942159291497],\n",
              "       ['Indian', 'Verified', 'Minted Coins', 'Verified', 'Youth',\n",
              "        6.1092475827643655, 3.1780538303479458],\n",
              "       ['Indian', 'Verified', 'Ornaments', 'Verified', 'Youth',\n",
              "        3.912023005428146, 3.1354942159291497],\n",
              "       ['Indian', 'Verified', 'Minted Coins', 'Verified', 'Youth',\n",
              "        5.521460917862246, 3.1354942159291497],\n",
              "       ['Indian', 'Verified', 'Ornaments', 'Verified', 'Middle_aged',\n",
              "        2.302585092994046, 2.8903717578961645],\n",
              "       ['Indian', 'Verified', 'Ornaments', 'Verified', 'Youth',\n",
              "        4.605170185988092, 2.8903717578961645],\n",
              "       ['Indian', 'Not Verified', 'Minted Coins', 'Verified',\n",
              "        'Middle_aged', 6.907755278982137, 3.1354942159291497],\n",
              "       ['Indian', 'Verified', 'Ornaments', 'Verified', 'Youth',\n",
              "        5.298317366548036, 2.8903717578961645],\n",
              "       ['Indian', 'Verified', 'Minted Coins', 'Verified', 'Senior',\n",
              "        4.653960350157523, 3.1780538303479458],\n",
              "       ['Indian', 'Verified', 'Ornaments', 'Verified', 'Middle_aged',\n",
              "        2.302585092994046, 2.8903717578961645],\n",
              "       ['Indian', 'Verified', 'Ornaments', 'Verified', 'Youth',\n",
              "        4.605170185988092, 2.995732273553991],\n",
              "       ['Indian', 'Verified', 'Ornaments', 'Verified', 'Youth',\n",
              "        2.3978952727983707, 3.1354942159291497],\n",
              "       ['Indian', 'Verified', 'Minted Coins', 'Verified', 'Youth',\n",
              "        5.857933154483459, 3.1354942159291497],\n",
              "       ['Indian', 'Verified', 'Minted Coins', 'Verified', 'Youth',\n",
              "        5.298317366548036, 3.1780538303479458],\n",
              "       ['Indian', 'Verified', 'Ornaments', 'Verified', 'Youth',\n",
              "        2.2617630984737906, 2.8903717578961645],\n",
              "       ['Indian', 'Verified', 'Minted Coins', 'Verified', 'Youth',\n",
              "        6.907755278982137, 3.1354942159291497],\n",
              "       ['Indian', 'Verified', 'Ornaments', 'Not Verified', 'Middle_aged',\n",
              "        5.703782474656201, 3.1354942159291497],\n",
              "       ['Indian', 'Verified', 'Ornaments', 'Verified', 'Senior',\n",
              "        4.605170185988092, 3.044522437723423],\n",
              "       ['Indian', 'Not Verified', 'Minted Coins', 'Verified',\n",
              "        'Middle_aged', 5.521460917862246, 3.1354942159291497],\n",
              "       ['Indian', 'Verified', 'Minted Coins', 'Verified', 'Middle_aged',\n",
              "        5.991464547107982, 3.1354942159291497],\n",
              "       ['Indian', 'Verified', 'Minted Coins', 'Verified', 'Youth',\n",
              "        6.214608098422191, 3.1780538303479458]], dtype=object)"
            ]
          },
          "metadata": {},
          "execution_count": 21
        }
      ]
    },
    {
      "cell_type": "markdown",
      "source": [
        "Since we have many categorical data in our train and test set we need to convert it into numerical data for our machine to understand it for this we will use sklearns.preprocessing (LabelEncoder) class"
      ],
      "metadata": {
        "id": "NVuC1cqLujwX"
      }
    },
    {
      "cell_type": "code",
      "source": [
        "from sklearn.preprocessing import LabelEncoder\n",
        "label_encoder_x = LabelEncoder()"
      ],
      "metadata": {
        "id": "fVhftevLtbhD"
      },
      "execution_count": 22,
      "outputs": []
    },
    {
      "cell_type": "code",
      "source": [
        "for i in range(0,5):\n",
        "  X_train[:,i] = label_encoder_x.fit_transform(X_train[:,i])"
      ],
      "metadata": {
        "id": "QpjRawu4tbeX"
      },
      "execution_count": 23,
      "outputs": []
    },
    {
      "cell_type": "code",
      "source": [
        "X_train"
      ],
      "metadata": {
        "colab": {
          "base_uri": "https://localhost:8080/"
        },
        "id": "H_POAy_jtbb0",
        "outputId": "3f6fd8d2-7bb2-4a1b-8bab-012f1bcdc603"
      },
      "execution_count": 24,
      "outputs": [
        {
          "output_type": "execute_result",
          "data": {
            "text/plain": [
              "array([[0, 1, 1, 2, 1, 1.6094379124341003, 3.091042453358316],\n",
              "       [0, 1, 1, 2, 1, 3.5263605246161616, 3.044522437723423],\n",
              "       [0, 1, 0, 2, 0, 4.605170185988092, 3.1354942159291497],\n",
              "       [0, 1, 1, 2, 3, 1.6094379124341003, 3.091042453358316],\n",
              "       [0, 1, 1, 2, 0, 2.1972245773362196, 2.9444389791664403],\n",
              "       [0, 1, 0, 1, 0, 3.912023005428146, 3.1780538303479458],\n",
              "       [0, 0, 1, 2, 3, 6.907755278982137, 2.9444389791664403],\n",
              "       [0, 1, 0, 2, 0, 6.214608098422191, 3.1780538303479458],\n",
              "       [0, 1, 0, 1, 0, 3.912023005428146, 3.1354942159291497],\n",
              "       [0, 1, 0, 2, 0, 6.214608098422191, 3.1780538303479458],\n",
              "       [0, 1, 0, 2, 0, 3.8958936234982624, 3.1780538303479458],\n",
              "       [0, 1, 0, 1, 0, 4.605170185988092, 3.1354942159291497],\n",
              "       [0, 1, 0, 2, 2, 3.8918202981106265, 3.1354942159291497],\n",
              "       [0, 0, 1, 2, 1, 2.2082744135228043, 2.9444389791664403],\n",
              "       [0, 1, 1, 2, 3, 5.298317366548036, 2.8903717578961645],\n",
              "       [0, 1, 1, 2, 0, 3.912023005428146, 2.995732273553991],\n",
              "       [0, 1, 0, 0, 3, 6.214608098422191, 3.1354942159291497],\n",
              "       [0, 1, 1, 2, 2, 4.61512051684126, 3.1354942159291497],\n",
              "       [0, 1, 0, 2, 3, 6.907755278982137, 3.1354942159291497],\n",
              "       [0, 1, 0, 2, 0, 3.6888794541139363, 3.1780538303479458],\n",
              "       [0, 1, 1, 2, 2, 2.995732273553991, 3.1354942159291497],\n",
              "       [0, 1, 0, 2, 0, 5.857933154483459, 3.1354942159291497],\n",
              "       [0, 1, 0, 2, 3, 6.551080335043404, 3.1780538303479458],\n",
              "       [0, 1, 1, 2, 3, 2.70805020110221, 2.8903717578961645],\n",
              "       [0, 1, 1, 2, 3, 4.605170185988092, 3.044522437723423],\n",
              "       [0, 1, 0, 2, 0, 6.396929655216146, 3.1780538303479458],\n",
              "       [0, 1, 0, 2, 0, 6.907755278982137, 3.1780538303479458],\n",
              "       [0, 1, 0, 2, 3, 3.9318256327243257, 3.1354942159291497],\n",
              "       [0, 1, 0, 2, 2, 6.1092475827643655, 3.1780538303479458],\n",
              "       [0, 1, 1, 2, 3, 2.4159137783010487, 3.091042453358316],\n",
              "       [0, 1, 0, 2, 2, 5.857933154483459, 3.1780538303479458],\n",
              "       [0, 1, 0, 2, 0, 5.991464547107982, 3.1780538303479458],\n",
              "       [0, 1, 1, 2, 0, 2.995732273553991, 3.091042453358316],\n",
              "       [0, 1, 1, 1, 3, 4.248495242049359, 2.995732273553991],\n",
              "       [0, 1, 1, 2, 0, 5.298317366548036, 2.9444389791664403],\n",
              "       [0, 1, 0, 2, 3, 6.1092475827643655, 3.1780538303479458],\n",
              "       [0, 1, 1, 2, 1, 3.4339872044851463, 3.044522437723423],\n",
              "       [1, 1, 0, 2, 0, 6.214608098422191, 3.1780538303479458],\n",
              "       [0, 1, 0, 2, 1, 5.521460917862246, 3.1354942159291497],\n",
              "       [0, 1, 1, 1, 2, 3.9318256327243257, 3.091042453358316],\n",
              "       [0, 1, 1, 2, 3, 4.605170185988092, 2.995732273553991],\n",
              "       [0, 0, 0, 2, 0, 3.912023005428146, 3.1354942159291497],\n",
              "       [0, 1, 0, 2, 0, 5.857933154483459, 3.1780538303479458],\n",
              "       [0, 1, 1, 2, 0, 2.3978952727983707, 3.044522437723423],\n",
              "       [0, 1, 1, 1, 0, 3.912023005428146, 2.9444389791664403],\n",
              "       [0, 1, 1, 2, 0, 3.6888794541139363, 2.8903717578961645],\n",
              "       [0, 1, 0, 2, 2, 6.214608098422191, 3.1780538303479458],\n",
              "       [0, 1, 1, 2, 3, 4.1588830833596715, 3.091042453358316],\n",
              "       [0, 1, 1, 2, 0, 3.4011973816621555, 2.8903717578961645],\n",
              "       [0, 1, 1, 2, 3, 2.33214389523559, 3.1354942159291497],\n",
              "       [0, 1, 0, 2, 0, 6.214608098422191, 3.1354942159291497],\n",
              "       [0, 1, 0, 2, 0, 4.007333185232471, 3.1354942159291497],\n",
              "       [0, 0, 0, 2, 3, 6.214608098422191, 3.1780538303479458],\n",
              "       [0, 1, 1, 2, 3, 2.995732273553991, 3.044522437723423],\n",
              "       [0, 1, 0, 2, 3, 5.857933154483459, 3.1780538303479458],\n",
              "       [0, 0, 1, 2, 0, 3.9889840465642745, 3.044522437723423],\n",
              "       [0, 1, 1, 2, 0, 3.9318256327243257, 3.091042453358316],\n",
              "       [0, 0, 0, 2, 2, 3.4657359027997265, 3.1780538303479458],\n",
              "       [0, 1, 1, 1, 0, 5.298317366548036, 3.091042453358316],\n",
              "       [0, 1, 1, 1, 3, 4.0943445622221, 3.1354942159291497],\n",
              "       [0, 1, 0, 2, 3, 6.1092475827643655, 3.1780538303479458],\n",
              "       [0, 1, 1, 2, 3, 3.912023005428146, 3.1354942159291497],\n",
              "       [0, 1, 0, 2, 3, 5.521460917862246, 3.1354942159291497],\n",
              "       [0, 1, 1, 2, 0, 2.302585092994046, 2.8903717578961645],\n",
              "       [0, 1, 1, 2, 3, 4.605170185988092, 2.8903717578961645],\n",
              "       [0, 0, 0, 2, 0, 6.907755278982137, 3.1354942159291497],\n",
              "       [0, 1, 1, 2, 3, 5.298317366548036, 2.8903717578961645],\n",
              "       [0, 1, 0, 2, 1, 4.653960350157523, 3.1780538303479458],\n",
              "       [0, 1, 1, 2, 0, 2.302585092994046, 2.8903717578961645],\n",
              "       [0, 1, 1, 2, 3, 4.605170185988092, 2.995732273553991],\n",
              "       [0, 1, 1, 2, 3, 2.3978952727983707, 3.1354942159291497],\n",
              "       [0, 1, 0, 2, 3, 5.857933154483459, 3.1354942159291497],\n",
              "       [0, 1, 0, 2, 3, 5.298317366548036, 3.1780538303479458],\n",
              "       [0, 1, 1, 2, 3, 2.2617630984737906, 2.8903717578961645],\n",
              "       [0, 1, 0, 2, 3, 6.907755278982137, 3.1354942159291497],\n",
              "       [0, 1, 1, 1, 0, 5.703782474656201, 3.1354942159291497],\n",
              "       [0, 1, 1, 2, 1, 4.605170185988092, 3.044522437723423],\n",
              "       [0, 0, 0, 2, 0, 5.521460917862246, 3.1354942159291497],\n",
              "       [0, 1, 0, 2, 0, 5.991464547107982, 3.1354942159291497],\n",
              "       [0, 1, 0, 2, 3, 6.214608098422191, 3.1780538303479458]],\n",
              "      dtype=object)"
            ]
          },
          "metadata": {},
          "execution_count": 24
        }
      ]
    },
    {
      "cell_type": "markdown",
      "source": [
        "Similarly we perform it for our other datasets that is X_test, Y_train, Y_test."
      ],
      "metadata": {
        "id": "DWCSIZvevoiM"
      }
    },
    {
      "cell_type": "markdown",
      "source": [
        "Y_train"
      ],
      "metadata": {
        "id": "v_8-VE0qwGNF"
      }
    },
    {
      "cell_type": "code",
      "source": [
        "Y_train"
      ],
      "metadata": {
        "colab": {
          "base_uri": "https://localhost:8080/"
        },
        "id": "uTwl7Z7vv5cD",
        "outputId": "d5d93306-08bb-477c-d291-4b92ed1b1d48"
      },
      "execution_count": 25,
      "outputs": [
        {
          "output_type": "execute_result",
          "data": {
            "text/plain": [
              "array([['No'],\n",
              "       ['No'],\n",
              "       ['No'],\n",
              "       ['No'],\n",
              "       ['No'],\n",
              "       ['No'],\n",
              "       ['No'],\n",
              "       ['Yes'],\n",
              "       ['No'],\n",
              "       ['Yes'],\n",
              "       ['No'],\n",
              "       ['No'],\n",
              "       ['No'],\n",
              "       ['No'],\n",
              "       ['Yes'],\n",
              "       ['Yes'],\n",
              "       ['No'],\n",
              "       ['No'],\n",
              "       ['No'],\n",
              "       ['No'],\n",
              "       ['No'],\n",
              "       ['No'],\n",
              "       ['Yes'],\n",
              "       ['Yes'],\n",
              "       ['Yes'],\n",
              "       ['Yes'],\n",
              "       ['Yes'],\n",
              "       ['No'],\n",
              "       ['No'],\n",
              "       ['Yes'],\n",
              "       ['No'],\n",
              "       ['Yes'],\n",
              "       ['Yes'],\n",
              "       ['No'],\n",
              "       ['Yes'],\n",
              "       ['Yes'],\n",
              "       ['No'],\n",
              "       ['No'],\n",
              "       ['No'],\n",
              "       ['No'],\n",
              "       ['Yes'],\n",
              "       ['No'],\n",
              "       ['Yes'],\n",
              "       ['Yes'],\n",
              "       ['No'],\n",
              "       ['Yes'],\n",
              "       ['No'],\n",
              "       ['Yes'],\n",
              "       ['Yes'],\n",
              "       ['Yes'],\n",
              "       ['No'],\n",
              "       ['No'],\n",
              "       ['No'],\n",
              "       ['Yes'],\n",
              "       ['Yes'],\n",
              "       ['No'],\n",
              "       ['Yes'],\n",
              "       ['No'],\n",
              "       ['No'],\n",
              "       ['No'],\n",
              "       ['Yes'],\n",
              "       ['Yes'],\n",
              "       ['No'],\n",
              "       ['Yes'],\n",
              "       ['Yes'],\n",
              "       ['No'],\n",
              "       ['Yes'],\n",
              "       ['No'],\n",
              "       ['Yes'],\n",
              "       ['Yes'],\n",
              "       ['Yes'],\n",
              "       ['No'],\n",
              "       ['Yes'],\n",
              "       ['No'],\n",
              "       ['No'],\n",
              "       ['No'],\n",
              "       ['No'],\n",
              "       ['No'],\n",
              "       ['No'],\n",
              "       ['Yes']], dtype=object)"
            ]
          },
          "metadata": {},
          "execution_count": 25
        }
      ]
    },
    {
      "cell_type": "code",
      "source": [
        "label_encoder_y = LabelEncoder()\n",
        "Y_train = label_encoder_y.fit_transform(Y_train)"
      ],
      "metadata": {
        "colab": {
          "base_uri": "https://localhost:8080/"
        },
        "id": "chcwLhcztbZT",
        "outputId": "3d5a676b-8015-4f41-9428-24b23a24510c"
      },
      "execution_count": 26,
      "outputs": [
        {
          "output_type": "stream",
          "name": "stderr",
          "text": [
            "/usr/local/lib/python3.7/dist-packages/sklearn/preprocessing/_label.py:115: DataConversionWarning: A column-vector y was passed when a 1d array was expected. Please change the shape of y to (n_samples, ), for example using ravel().\n",
            "  y = column_or_1d(y, warn=True)\n"
          ]
        }
      ]
    },
    {
      "cell_type": "code",
      "source": [
        "Y_train"
      ],
      "metadata": {
        "colab": {
          "base_uri": "https://localhost:8080/"
        },
        "id": "nSl7j-potbXF",
        "outputId": "e8fdeb27-b89d-4fb5-dc58-ad7f400190da"
      },
      "execution_count": 27,
      "outputs": [
        {
          "output_type": "execute_result",
          "data": {
            "text/plain": [
              "array([0, 0, 0, 0, 0, 0, 0, 1, 0, 1, 0, 0, 0, 0, 1, 1, 0, 0, 0, 0, 0, 0,\n",
              "       1, 1, 1, 1, 1, 0, 0, 1, 0, 1, 1, 0, 1, 1, 0, 0, 0, 0, 1, 0, 1, 1,\n",
              "       0, 1, 0, 1, 1, 1, 0, 0, 0, 1, 1, 0, 1, 0, 0, 0, 1, 1, 0, 1, 1, 0,\n",
              "       1, 0, 1, 1, 1, 0, 1, 0, 0, 0, 0, 0, 0, 1])"
            ]
          },
          "metadata": {},
          "execution_count": 27
        }
      ]
    },
    {
      "cell_type": "markdown",
      "source": [
        "X_test"
      ],
      "metadata": {
        "id": "6XEthVICwILO"
      }
    },
    {
      "cell_type": "code",
      "source": [
        "X_test[0,:]"
      ],
      "metadata": {
        "colab": {
          "base_uri": "https://localhost:8080/"
        },
        "id": "9K6WWVV8tbUt",
        "outputId": "071392a5-7e26-47ec-e1c4-0e191d9061e5"
      },
      "execution_count": 28,
      "outputs": [
        {
          "output_type": "execute_result",
          "data": {
            "text/plain": [
              "array(['Indian', 'Verified', 'Minted Coins', 'Verified', 'Youth',\n",
              "       6.907755278982137, 3.1354942159291497], dtype=object)"
            ]
          },
          "metadata": {},
          "execution_count": 28
        }
      ]
    },
    {
      "cell_type": "code",
      "source": [
        "for i in range(0,5):\n",
        "  X_test[:,i] = label_encoder_x.fit_transform(X_test[:,i])"
      ],
      "metadata": {
        "id": "Yodip_j3tbSa"
      },
      "execution_count": 29,
      "outputs": []
    },
    {
      "cell_type": "code",
      "source": [
        "X_test[0,:]"
      ],
      "metadata": {
        "colab": {
          "base_uri": "https://localhost:8080/"
        },
        "id": "wuQqdgEHtbQC",
        "outputId": "36e53284-171b-4dbb-f395-534d45c23e6b"
      },
      "execution_count": 30,
      "outputs": [
        {
          "output_type": "execute_result",
          "data": {
            "text/plain": [
              "array([0, 1, 0, 1, 2, 6.907755278982137, 3.1354942159291497], dtype=object)"
            ]
          },
          "metadata": {},
          "execution_count": 30
        }
      ]
    },
    {
      "cell_type": "markdown",
      "source": [
        "Y_test"
      ],
      "metadata": {
        "id": "Gh_hXgGjwbS6"
      }
    },
    {
      "cell_type": "code",
      "source": [
        "Y_test"
      ],
      "metadata": {
        "colab": {
          "base_uri": "https://localhost:8080/"
        },
        "id": "jT6RuvkwwfnK",
        "outputId": "2bf30525-5aa5-4f16-a400-9f2f170880fd"
      },
      "execution_count": 31,
      "outputs": [
        {
          "output_type": "execute_result",
          "data": {
            "text/plain": [
              "array([['No'],\n",
              "       ['No'],\n",
              "       ['No'],\n",
              "       ['No'],\n",
              "       ['No'],\n",
              "       ['Yes'],\n",
              "       ['No'],\n",
              "       ['No'],\n",
              "       ['No'],\n",
              "       ['Yes'],\n",
              "       ['No'],\n",
              "       ['Yes'],\n",
              "       ['Yes'],\n",
              "       ['Yes'],\n",
              "       ['No'],\n",
              "       ['Yes'],\n",
              "       ['No'],\n",
              "       ['Yes'],\n",
              "       ['No'],\n",
              "       ['No'],\n",
              "       ['No']], dtype=object)"
            ]
          },
          "metadata": {},
          "execution_count": 31
        }
      ]
    },
    {
      "cell_type": "code",
      "source": [
        "label_encoder_y = LabelEncoder()\n",
        "Y_test = label_encoder_y.fit_transform(Y_test)"
      ],
      "metadata": {
        "colab": {
          "base_uri": "https://localhost:8080/"
        },
        "id": "X66LbGbGtbNp",
        "outputId": "491b9b13-a52e-4504-d0b3-3569dbab8dd1"
      },
      "execution_count": 32,
      "outputs": [
        {
          "output_type": "stream",
          "name": "stderr",
          "text": [
            "/usr/local/lib/python3.7/dist-packages/sklearn/preprocessing/_label.py:115: DataConversionWarning: A column-vector y was passed when a 1d array was expected. Please change the shape of y to (n_samples, ), for example using ravel().\n",
            "  y = column_or_1d(y, warn=True)\n"
          ]
        }
      ]
    },
    {
      "cell_type": "code",
      "source": [
        "Y_test"
      ],
      "metadata": {
        "colab": {
          "base_uri": "https://localhost:8080/"
        },
        "id": "YghOtAMetbLK",
        "outputId": "88d5c689-a8d5-4503-97ef-214ad9596f81"
      },
      "execution_count": 33,
      "outputs": [
        {
          "output_type": "execute_result",
          "data": {
            "text/plain": [
              "array([0, 0, 0, 0, 0, 1, 0, 0, 0, 1, 0, 1, 1, 1, 0, 1, 0, 1, 0, 0, 0])"
            ]
          },
          "metadata": {},
          "execution_count": 33
        }
      ]
    },
    {
      "cell_type": "markdown",
      "source": [
        "Since our data has different variables and different ranges it is important that before applying any algorithm we need to standard our data. And for that we will use Sklearn's StandardScaler"
      ],
      "metadata": {
        "id": "wsxez5q3wnjR"
      }
    },
    {
      "cell_type": "code",
      "source": [
        "from sklearn.preprocessing import StandardScaler\n",
        "ss = StandardScaler()\n",
        "X_train = ss.fit_transform(X_train)\n",
        "X_test = ss.fit_transform(X_test)"
      ],
      "metadata": {
        "id": "Pvf2FmduwpDb"
      },
      "execution_count": 34,
      "outputs": []
    },
    {
      "cell_type": "markdown",
      "source": [
        "We are finally finished with our preprocessing and finally we can now use our split data in our algorithms"
      ],
      "metadata": {
        "id": "aYptSeF2xAQT"
      }
    },
    {
      "cell_type": "markdown",
      "source": [
        "**Let us First check with Random Forest Classifier Algorithm**, using sklearn"
      ],
      "metadata": {
        "id": "aOappiv8xIS7"
      }
    },
    {
      "cell_type": "code",
      "source": [
        "from sklearn.ensemble import RandomForestClassifier\n",
        "classifier = RandomForestClassifier(n_estimators=100, random_state=0)"
      ],
      "metadata": {
        "id": "ogFjh6wCCMSh"
      },
      "execution_count": 36,
      "outputs": []
    },
    {
      "cell_type": "code",
      "source": [
        "classifier.fit(X_train, Y_train)"
      ],
      "metadata": {
        "colab": {
          "base_uri": "https://localhost:8080/"
        },
        "id": "79903Cp4GKmp",
        "outputId": "28db078e-0fa1-4886-e0a6-0ac003bd1ba1"
      },
      "execution_count": 37,
      "outputs": [
        {
          "output_type": "execute_result",
          "data": {
            "text/plain": [
              "RandomForestClassifier(random_state=0)"
            ]
          },
          "metadata": {},
          "execution_count": 37
        }
      ]
    },
    {
      "cell_type": "code",
      "source": [
        "Y_pred = classifier.predict(X_test)"
      ],
      "metadata": {
        "id": "LbnvMBM__ih-"
      },
      "execution_count": 38,
      "outputs": []
    },
    {
      "cell_type": "code",
      "source": [
        "Y_pred"
      ],
      "metadata": {
        "colab": {
          "base_uri": "https://localhost:8080/"
        },
        "id": "eNiDtf8w_n3Y",
        "outputId": "68ed2015-e302-42fd-8889-53a22d654378"
      },
      "execution_count": 39,
      "outputs": [
        {
          "output_type": "execute_result",
          "data": {
            "text/plain": [
              "array([1, 0, 0, 1, 0, 1, 0, 0, 1, 1, 1, 1, 1, 0, 0, 1, 0, 1, 0, 0, 0])"
            ]
          },
          "metadata": {},
          "execution_count": 39
        }
      ]
    },
    {
      "cell_type": "code",
      "source": [
        "Y_test"
      ],
      "metadata": {
        "colab": {
          "base_uri": "https://localhost:8080/"
        },
        "id": "AsEiHHi6wo8W",
        "outputId": "05af983c-224a-4c52-c8a0-db5e0d4b4016"
      },
      "execution_count": 40,
      "outputs": [
        {
          "output_type": "execute_result",
          "data": {
            "text/plain": [
              "array([0, 0, 0, 0, 0, 1, 0, 0, 0, 1, 0, 1, 1, 1, 0, 1, 0, 1, 0, 0, 0])"
            ]
          },
          "metadata": {},
          "execution_count": 40
        }
      ]
    },
    {
      "cell_type": "markdown",
      "source": [
        "Since we have performed and trained our model and also predicted the data let us now look at the accuracy of our model using Random Forest Algorithm using sklearn's Metrics"
      ],
      "metadata": {
        "id": "wbHLjhRhx8J4"
      }
    },
    {
      "cell_type": "code",
      "source": [
        "from sklearn import metrics\n",
        "print('The Accuracy of our model using Random Forest Algorithm is : ', metrics.accuracy_score(Y_pred,Y_test))"
      ],
      "metadata": {
        "colab": {
          "base_uri": "https://localhost:8080/"
        },
        "id": "OON-OPl6wo6Q",
        "outputId": "67d765c1-8f18-46c9-aebb-6b501fd86786"
      },
      "execution_count": 41,
      "outputs": [
        {
          "output_type": "stream",
          "name": "stdout",
          "text": [
            "The Accuracy of our model using Random Forest Algorithm is :  0.7619047619047619\n"
          ]
        }
      ]
    },
    {
      "cell_type": "markdown",
      "source": [
        "***The End***"
      ],
      "metadata": {
        "id": "-zt-HmlglomB"
      }
    }
  ]
}