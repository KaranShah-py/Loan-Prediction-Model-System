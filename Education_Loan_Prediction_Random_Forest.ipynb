{
  "nbformat": 4,
  "nbformat_minor": 0,
  "metadata": {
    "colab": {
      "name": "Education_Loan_Prediction_Random_Forest.ipynb",
      "provenance": [],
      "collapsed_sections": []
    },
    "kernelspec": {
      "name": "python3",
      "display_name": "Python 3"
    },
    "language_info": {
      "name": "python"
    }
  },
  "cells": [
    {
      "cell_type": "markdown",
      "source": [
        "Prediction of Education loan using Naive Bayes classifier Algorithm"
      ],
      "metadata": {
        "id": "2qsz8kx3QKGy"
      }
    },
    {
      "cell_type": "code",
      "execution_count": 1,
      "metadata": {
        "id": "SUs_E_CkQJWQ"
      },
      "outputs": [],
      "source": [
        "import numpy as np\n",
        "import pandas as pd\n",
        "import matplotlib.pyplot as plt\n",
        "import seaborn as sns\n",
        "from sklearn.model_selection import train_test_split\n",
        "from sklearn.preprocessing import LabelEncoder\n",
        "from sklearn.preprocessing import StandardScaler\n",
        "from sklearn import metrics"
      ]
    },
    {
      "cell_type": "markdown",
      "source": [
        "Let us first load our dataset into the program using pandas "
      ],
      "metadata": {
        "id": "u50OOEhzRWCJ"
      }
    },
    {
      "cell_type": "code",
      "source": [
        "dataframe = pd.read_csv(\"Education_Loan.csv\")"
      ],
      "metadata": {
        "id": "41JYfqikRV5j"
      },
      "execution_count": 2,
      "outputs": []
    },
    {
      "cell_type": "markdown",
      "source": [
        "Since we have loaded our dataset let us now take a look at it."
      ],
      "metadata": {
        "id": "eOkvt-6-R8mO"
      }
    },
    {
      "cell_type": "code",
      "source": [
        "dataframe.head(4)"
      ],
      "metadata": {
        "colab": {
          "base_uri": "https://localhost:8080/",
          "height": 175
        },
        "id": "agvEg1O7Q-ia",
        "outputId": "ac7ef633-553e-4490-d521-43f2e9dc80b9"
      },
      "execution_count": 3,
      "outputs": [
        {
          "output_type": "execute_result",
          "data": {
            "text/plain": [
              "            Name Nationality   Age Program_Type Total_income_P_G_S  \\\n",
              "0     Karan Shah      Indian  23.0           UG             Stable   \n",
              "1  Moksha Shinde      Indian  22.0           UG             Stable   \n",
              "2   Nikita Joshi      Indian  19.0           UG             Stable   \n",
              "3   Rahil Porwal      Indian  34.0           PG         Not Stable   \n",
              "\n",
              "  Any_Securities  Credit Score Secured Admit Card Eligibility  \n",
              "0            Yes         660.0                Yes         Yes  \n",
              "1             No         558.0                Yes          No  \n",
              "2             No         525.0                Yes          No  \n",
              "3             No         529.0                Yes          No  "
            ],
            "text/html": [
              "\n",
              "  <div id=\"df-80720115-9b87-4bac-9a01-22562bc1a894\">\n",
              "    <div class=\"colab-df-container\">\n",
              "      <div>\n",
              "<style scoped>\n",
              "    .dataframe tbody tr th:only-of-type {\n",
              "        vertical-align: middle;\n",
              "    }\n",
              "\n",
              "    .dataframe tbody tr th {\n",
              "        vertical-align: top;\n",
              "    }\n",
              "\n",
              "    .dataframe thead th {\n",
              "        text-align: right;\n",
              "    }\n",
              "</style>\n",
              "<table border=\"1\" class=\"dataframe\">\n",
              "  <thead>\n",
              "    <tr style=\"text-align: right;\">\n",
              "      <th></th>\n",
              "      <th>Name</th>\n",
              "      <th>Nationality</th>\n",
              "      <th>Age</th>\n",
              "      <th>Program_Type</th>\n",
              "      <th>Total_income_P_G_S</th>\n",
              "      <th>Any_Securities</th>\n",
              "      <th>Credit Score</th>\n",
              "      <th>Secured Admit Card</th>\n",
              "      <th>Eligibility</th>\n",
              "    </tr>\n",
              "  </thead>\n",
              "  <tbody>\n",
              "    <tr>\n",
              "      <th>0</th>\n",
              "      <td>Karan Shah</td>\n",
              "      <td>Indian</td>\n",
              "      <td>23.0</td>\n",
              "      <td>UG</td>\n",
              "      <td>Stable</td>\n",
              "      <td>Yes</td>\n",
              "      <td>660.0</td>\n",
              "      <td>Yes</td>\n",
              "      <td>Yes</td>\n",
              "    </tr>\n",
              "    <tr>\n",
              "      <th>1</th>\n",
              "      <td>Moksha Shinde</td>\n",
              "      <td>Indian</td>\n",
              "      <td>22.0</td>\n",
              "      <td>UG</td>\n",
              "      <td>Stable</td>\n",
              "      <td>No</td>\n",
              "      <td>558.0</td>\n",
              "      <td>Yes</td>\n",
              "      <td>No</td>\n",
              "    </tr>\n",
              "    <tr>\n",
              "      <th>2</th>\n",
              "      <td>Nikita Joshi</td>\n",
              "      <td>Indian</td>\n",
              "      <td>19.0</td>\n",
              "      <td>UG</td>\n",
              "      <td>Stable</td>\n",
              "      <td>No</td>\n",
              "      <td>525.0</td>\n",
              "      <td>Yes</td>\n",
              "      <td>No</td>\n",
              "    </tr>\n",
              "    <tr>\n",
              "      <th>3</th>\n",
              "      <td>Rahil Porwal</td>\n",
              "      <td>Indian</td>\n",
              "      <td>34.0</td>\n",
              "      <td>PG</td>\n",
              "      <td>Not Stable</td>\n",
              "      <td>No</td>\n",
              "      <td>529.0</td>\n",
              "      <td>Yes</td>\n",
              "      <td>No</td>\n",
              "    </tr>\n",
              "  </tbody>\n",
              "</table>\n",
              "</div>\n",
              "      <button class=\"colab-df-convert\" onclick=\"convertToInteractive('df-80720115-9b87-4bac-9a01-22562bc1a894')\"\n",
              "              title=\"Convert this dataframe to an interactive table.\"\n",
              "              style=\"display:none;\">\n",
              "        \n",
              "  <svg xmlns=\"http://www.w3.org/2000/svg\" height=\"24px\"viewBox=\"0 0 24 24\"\n",
              "       width=\"24px\">\n",
              "    <path d=\"M0 0h24v24H0V0z\" fill=\"none\"/>\n",
              "    <path d=\"M18.56 5.44l.94 2.06.94-2.06 2.06-.94-2.06-.94-.94-2.06-.94 2.06-2.06.94zm-11 1L8.5 8.5l.94-2.06 2.06-.94-2.06-.94L8.5 2.5l-.94 2.06-2.06.94zm10 10l.94 2.06.94-2.06 2.06-.94-2.06-.94-.94-2.06-.94 2.06-2.06.94z\"/><path d=\"M17.41 7.96l-1.37-1.37c-.4-.4-.92-.59-1.43-.59-.52 0-1.04.2-1.43.59L10.3 9.45l-7.72 7.72c-.78.78-.78 2.05 0 2.83L4 21.41c.39.39.9.59 1.41.59.51 0 1.02-.2 1.41-.59l7.78-7.78 2.81-2.81c.8-.78.8-2.07 0-2.86zM5.41 20L4 18.59l7.72-7.72 1.47 1.35L5.41 20z\"/>\n",
              "  </svg>\n",
              "      </button>\n",
              "      \n",
              "  <style>\n",
              "    .colab-df-container {\n",
              "      display:flex;\n",
              "      flex-wrap:wrap;\n",
              "      gap: 12px;\n",
              "    }\n",
              "\n",
              "    .colab-df-convert {\n",
              "      background-color: #E8F0FE;\n",
              "      border: none;\n",
              "      border-radius: 50%;\n",
              "      cursor: pointer;\n",
              "      display: none;\n",
              "      fill: #1967D2;\n",
              "      height: 32px;\n",
              "      padding: 0 0 0 0;\n",
              "      width: 32px;\n",
              "    }\n",
              "\n",
              "    .colab-df-convert:hover {\n",
              "      background-color: #E2EBFA;\n",
              "      box-shadow: 0px 1px 2px rgba(60, 64, 67, 0.3), 0px 1px 3px 1px rgba(60, 64, 67, 0.15);\n",
              "      fill: #174EA6;\n",
              "    }\n",
              "\n",
              "    [theme=dark] .colab-df-convert {\n",
              "      background-color: #3B4455;\n",
              "      fill: #D2E3FC;\n",
              "    }\n",
              "\n",
              "    [theme=dark] .colab-df-convert:hover {\n",
              "      background-color: #434B5C;\n",
              "      box-shadow: 0px 1px 3px 1px rgba(0, 0, 0, 0.15);\n",
              "      filter: drop-shadow(0px 1px 2px rgba(0, 0, 0, 0.3));\n",
              "      fill: #FFFFFF;\n",
              "    }\n",
              "  </style>\n",
              "\n",
              "      <script>\n",
              "        const buttonEl =\n",
              "          document.querySelector('#df-80720115-9b87-4bac-9a01-22562bc1a894 button.colab-df-convert');\n",
              "        buttonEl.style.display =\n",
              "          google.colab.kernel.accessAllowed ? 'block' : 'none';\n",
              "\n",
              "        async function convertToInteractive(key) {\n",
              "          const element = document.querySelector('#df-80720115-9b87-4bac-9a01-22562bc1a894');\n",
              "          const dataTable =\n",
              "            await google.colab.kernel.invokeFunction('convertToInteractive',\n",
              "                                                     [key], {});\n",
              "          if (!dataTable) return;\n",
              "\n",
              "          const docLinkHtml = 'Like what you see? Visit the ' +\n",
              "            '<a target=\"_blank\" href=https://colab.research.google.com/notebooks/data_table.ipynb>data table notebook</a>'\n",
              "            + ' to learn more about interactive tables.';\n",
              "          element.innerHTML = '';\n",
              "          dataTable['output_type'] = 'display_data';\n",
              "          await google.colab.output.renderOutput(dataTable, element);\n",
              "          const docLink = document.createElement('div');\n",
              "          docLink.innerHTML = docLinkHtml;\n",
              "          element.appendChild(docLink);\n",
              "        }\n",
              "      </script>\n",
              "    </div>\n",
              "  </div>\n",
              "  "
            ]
          },
          "metadata": {},
          "execution_count": 3
        }
      ]
    },
    {
      "cell_type": "markdown",
      "source": [
        "Now let us check if there are any null values present in our dataset or not"
      ],
      "metadata": {
        "id": "P3rHvfMmSOna"
      }
    },
    {
      "cell_type": "code",
      "source": [
        "dataframe.isnull().sum()"
      ],
      "metadata": {
        "colab": {
          "base_uri": "https://localhost:8080/"
        },
        "id": "571FC3pOQ-fq",
        "outputId": "25824760-597c-4f8c-96ff-8bfec92fd1da"
      },
      "execution_count": 4,
      "outputs": [
        {
          "output_type": "execute_result",
          "data": {
            "text/plain": [
              "Name                  2\n",
              "Nationality           2\n",
              "Age                   2\n",
              "Program_Type          2\n",
              "Total_income_P_G_S    2\n",
              "Any_Securities        2\n",
              "Credit Score          2\n",
              "Secured Admit Card    2\n",
              "Eligibility           0\n",
              "dtype: int64"
            ]
          },
          "metadata": {},
          "execution_count": 4
        }
      ]
    },
    {
      "cell_type": "markdown",
      "source": [
        "Since there are minimum num values present in th dataframe let us drop all the null values."
      ],
      "metadata": {
        "id": "eoh30JFBShto"
      }
    },
    {
      "cell_type": "code",
      "source": [
        "dataframe = dataframe.dropna()"
      ],
      "metadata": {
        "id": "tUczl9NMSXsx"
      },
      "execution_count": 5,
      "outputs": []
    },
    {
      "cell_type": "code",
      "source": [
        "dataframe.isnull().sum()"
      ],
      "metadata": {
        "colab": {
          "base_uri": "https://localhost:8080/"
        },
        "id": "RdXH1PcoQ-dY",
        "outputId": "30f8e3ba-0efe-40a3-9ad9-5307ce0f85f2"
      },
      "execution_count": 6,
      "outputs": [
        {
          "output_type": "execute_result",
          "data": {
            "text/plain": [
              "Name                  0\n",
              "Nationality           0\n",
              "Age                   0\n",
              "Program_Type          0\n",
              "Total_income_P_G_S    0\n",
              "Any_Securities        0\n",
              "Credit Score          0\n",
              "Secured Admit Card    0\n",
              "Eligibility           0\n",
              "dtype: int64"
            ]
          },
          "metadata": {},
          "execution_count": 6
        }
      ]
    },
    {
      "cell_type": "markdown",
      "source": [
        "Now let us look at basic stats of our dataset"
      ],
      "metadata": {
        "id": "40_NveGwSne_"
      }
    },
    {
      "cell_type": "code",
      "source": [
        "dataframe.describe()"
      ],
      "metadata": {
        "colab": {
          "base_uri": "https://localhost:8080/",
          "height": 300
        },
        "id": "ENM2JapmQ-a4",
        "outputId": "3d42e7c6-b00c-454a-ae80-de203b469237"
      },
      "execution_count": 7,
      "outputs": [
        {
          "output_type": "execute_result",
          "data": {
            "text/plain": [
              "              Age  Credit Score\n",
              "count  149.000000    149.000000\n",
              "mean    24.073826    641.630872\n",
              "std      4.505393     87.699760\n",
              "min     15.000000    500.000000\n",
              "25%     22.000000    564.000000\n",
              "50%     23.000000    636.000000\n",
              "75%     25.000000    717.000000\n",
              "max     38.000000    800.000000"
            ],
            "text/html": [
              "\n",
              "  <div id=\"df-899ff856-3d15-4c1b-b50b-ba1040742180\">\n",
              "    <div class=\"colab-df-container\">\n",
              "      <div>\n",
              "<style scoped>\n",
              "    .dataframe tbody tr th:only-of-type {\n",
              "        vertical-align: middle;\n",
              "    }\n",
              "\n",
              "    .dataframe tbody tr th {\n",
              "        vertical-align: top;\n",
              "    }\n",
              "\n",
              "    .dataframe thead th {\n",
              "        text-align: right;\n",
              "    }\n",
              "</style>\n",
              "<table border=\"1\" class=\"dataframe\">\n",
              "  <thead>\n",
              "    <tr style=\"text-align: right;\">\n",
              "      <th></th>\n",
              "      <th>Age</th>\n",
              "      <th>Credit Score</th>\n",
              "    </tr>\n",
              "  </thead>\n",
              "  <tbody>\n",
              "    <tr>\n",
              "      <th>count</th>\n",
              "      <td>149.000000</td>\n",
              "      <td>149.000000</td>\n",
              "    </tr>\n",
              "    <tr>\n",
              "      <th>mean</th>\n",
              "      <td>24.073826</td>\n",
              "      <td>641.630872</td>\n",
              "    </tr>\n",
              "    <tr>\n",
              "      <th>std</th>\n",
              "      <td>4.505393</td>\n",
              "      <td>87.699760</td>\n",
              "    </tr>\n",
              "    <tr>\n",
              "      <th>min</th>\n",
              "      <td>15.000000</td>\n",
              "      <td>500.000000</td>\n",
              "    </tr>\n",
              "    <tr>\n",
              "      <th>25%</th>\n",
              "      <td>22.000000</td>\n",
              "      <td>564.000000</td>\n",
              "    </tr>\n",
              "    <tr>\n",
              "      <th>50%</th>\n",
              "      <td>23.000000</td>\n",
              "      <td>636.000000</td>\n",
              "    </tr>\n",
              "    <tr>\n",
              "      <th>75%</th>\n",
              "      <td>25.000000</td>\n",
              "      <td>717.000000</td>\n",
              "    </tr>\n",
              "    <tr>\n",
              "      <th>max</th>\n",
              "      <td>38.000000</td>\n",
              "      <td>800.000000</td>\n",
              "    </tr>\n",
              "  </tbody>\n",
              "</table>\n",
              "</div>\n",
              "      <button class=\"colab-df-convert\" onclick=\"convertToInteractive('df-899ff856-3d15-4c1b-b50b-ba1040742180')\"\n",
              "              title=\"Convert this dataframe to an interactive table.\"\n",
              "              style=\"display:none;\">\n",
              "        \n",
              "  <svg xmlns=\"http://www.w3.org/2000/svg\" height=\"24px\"viewBox=\"0 0 24 24\"\n",
              "       width=\"24px\">\n",
              "    <path d=\"M0 0h24v24H0V0z\" fill=\"none\"/>\n",
              "    <path d=\"M18.56 5.44l.94 2.06.94-2.06 2.06-.94-2.06-.94-.94-2.06-.94 2.06-2.06.94zm-11 1L8.5 8.5l.94-2.06 2.06-.94-2.06-.94L8.5 2.5l-.94 2.06-2.06.94zm10 10l.94 2.06.94-2.06 2.06-.94-2.06-.94-.94-2.06-.94 2.06-2.06.94z\"/><path d=\"M17.41 7.96l-1.37-1.37c-.4-.4-.92-.59-1.43-.59-.52 0-1.04.2-1.43.59L10.3 9.45l-7.72 7.72c-.78.78-.78 2.05 0 2.83L4 21.41c.39.39.9.59 1.41.59.51 0 1.02-.2 1.41-.59l7.78-7.78 2.81-2.81c.8-.78.8-2.07 0-2.86zM5.41 20L4 18.59l7.72-7.72 1.47 1.35L5.41 20z\"/>\n",
              "  </svg>\n",
              "      </button>\n",
              "      \n",
              "  <style>\n",
              "    .colab-df-container {\n",
              "      display:flex;\n",
              "      flex-wrap:wrap;\n",
              "      gap: 12px;\n",
              "    }\n",
              "\n",
              "    .colab-df-convert {\n",
              "      background-color: #E8F0FE;\n",
              "      border: none;\n",
              "      border-radius: 50%;\n",
              "      cursor: pointer;\n",
              "      display: none;\n",
              "      fill: #1967D2;\n",
              "      height: 32px;\n",
              "      padding: 0 0 0 0;\n",
              "      width: 32px;\n",
              "    }\n",
              "\n",
              "    .colab-df-convert:hover {\n",
              "      background-color: #E2EBFA;\n",
              "      box-shadow: 0px 1px 2px rgba(60, 64, 67, 0.3), 0px 1px 3px 1px rgba(60, 64, 67, 0.15);\n",
              "      fill: #174EA6;\n",
              "    }\n",
              "\n",
              "    [theme=dark] .colab-df-convert {\n",
              "      background-color: #3B4455;\n",
              "      fill: #D2E3FC;\n",
              "    }\n",
              "\n",
              "    [theme=dark] .colab-df-convert:hover {\n",
              "      background-color: #434B5C;\n",
              "      box-shadow: 0px 1px 3px 1px rgba(0, 0, 0, 0.15);\n",
              "      filter: drop-shadow(0px 1px 2px rgba(0, 0, 0, 0.3));\n",
              "      fill: #FFFFFF;\n",
              "    }\n",
              "  </style>\n",
              "\n",
              "      <script>\n",
              "        const buttonEl =\n",
              "          document.querySelector('#df-899ff856-3d15-4c1b-b50b-ba1040742180 button.colab-df-convert');\n",
              "        buttonEl.style.display =\n",
              "          google.colab.kernel.accessAllowed ? 'block' : 'none';\n",
              "\n",
              "        async function convertToInteractive(key) {\n",
              "          const element = document.querySelector('#df-899ff856-3d15-4c1b-b50b-ba1040742180');\n",
              "          const dataTable =\n",
              "            await google.colab.kernel.invokeFunction('convertToInteractive',\n",
              "                                                     [key], {});\n",
              "          if (!dataTable) return;\n",
              "\n",
              "          const docLinkHtml = 'Like what you see? Visit the ' +\n",
              "            '<a target=\"_blank\" href=https://colab.research.google.com/notebooks/data_table.ipynb>data table notebook</a>'\n",
              "            + ' to learn more about interactive tables.';\n",
              "          element.innerHTML = '';\n",
              "          dataTable['output_type'] = 'display_data';\n",
              "          await google.colab.output.renderOutput(dataTable, element);\n",
              "          const docLink = document.createElement('div');\n",
              "          docLink.innerHTML = docLinkHtml;\n",
              "          element.appendChild(docLink);\n",
              "        }\n",
              "      </script>\n",
              "    </div>\n",
              "  </div>\n",
              "  "
            ]
          },
          "metadata": {},
          "execution_count": 7
        }
      ]
    },
    {
      "cell_type": "markdown",
      "source": [
        "Since there are two attributes with numeric values let us now see whether the data in these two attributes is in standard normalized form or not"
      ],
      "metadata": {
        "id": "WUMz77mCSvzp"
      }
    },
    {
      "cell_type": "code",
      "source": [
        "dataframe.boxplot(column='Age')"
      ],
      "metadata": {
        "colab": {
          "base_uri": "https://localhost:8080/",
          "height": 282
        },
        "id": "cijOUK4AQ-YJ",
        "outputId": "399eca82-4279-4fc4-9547-62a70fdcd06a"
      },
      "execution_count": 8,
      "outputs": [
        {
          "output_type": "execute_result",
          "data": {
            "text/plain": [
              "<matplotlib.axes._subplots.AxesSubplot at 0x7fe3a1d8ba50>"
            ]
          },
          "metadata": {},
          "execution_count": 8
        },
        {
          "output_type": "display_data",
          "data": {
            "text/plain": [
              "<Figure size 432x288 with 1 Axes>"
            ],
            "image/png": "[encoded data removed]"
          },
          "metadata": {
            "needs_background": "light"
          }
        }
      ]
    },
    {
      "cell_type": "code",
      "source": [
        "dataframe['Age'].hist(bins=20)"
      ],
      "metadata": {
        "colab": {
          "base_uri": "https://localhost:8080/",
          "height": 282
        },
        "id": "3jdPvnFcQ-Vi",
        "outputId": "e5cc9353-9918-4f40-c0c0-139b0959a4f4"
      },
      "execution_count": 9,
      "outputs": [
        {
          "output_type": "execute_result",
          "data": {
            "text/plain": [
              "<matplotlib.axes._subplots.AxesSubplot at 0x7fe3a1e05f10>"
            ]
          },
          "metadata": {},
          "execution_count": 9
        },
        {
          "output_type": "display_data",
          "data": {
            "text/plain": [
              "<Figure size 432x288 with 1 Axes>"
            ],
            "image/png": "[encoded data removed]"
          },
          "metadata": {
            "needs_background": "light"
          }
        }
      ]
    },
    {
      "cell_type": "markdown",
      "source": [
        "Since we can see that the Age attribute has many outliers and also the data in it is left skewed let us first normalize the data and create a new column Age_normalized in dataset"
      ],
      "metadata": {
        "id": "uGbeGYJ9Takr"
      }
    },
    {
      "cell_type": "code",
      "source": [
        "dataframe['Age_normalized'] = np.log(dataframe['Age'])\n",
        "dataframe['Age_normalized'].hist(bins=20)"
      ],
      "metadata": {
        "colab": {
          "base_uri": "https://localhost:8080/",
          "height": 282
        },
        "id": "_T4t1-P0Q-Sw",
        "outputId": "b5c3ce82-7cad-42dc-fa7d-ac14e7d61da3"
      },
      "execution_count": 10,
      "outputs": [
        {
          "output_type": "execute_result",
          "data": {
            "text/plain": [
              "<matplotlib.axes._subplots.AxesSubplot at 0x7fe3a17d9b10>"
            ]
          },
          "metadata": {},
          "execution_count": 10
        },
        {
          "output_type": "display_data",
          "data": {
            "text/plain": [
              "<Figure size 432x288 with 1 Axes>"
            ],
            "image/png": "[encoded data removed]"
          },
          "metadata": {
            "needs_background": "light"
          }
        }
      ]
    },
    {
      "cell_type": "markdown",
      "source": [
        "Now let us similarly check for credit score"
      ],
      "metadata": {
        "id": "0Kqhu8mWT7Pm"
      }
    },
    {
      "cell_type": "code",
      "source": [
        "dataframe.boxplot(column=\"Credit Score\")"
      ],
      "metadata": {
        "colab": {
          "base_uri": "https://localhost:8080/",
          "height": 282
        },
        "id": "V3l3XBRoQ-QI",
        "outputId": "d85a359b-e775-4446-b380-c5937241d01d"
      },
      "execution_count": 11,
      "outputs": [
        {
          "output_type": "execute_result",
          "data": {
            "text/plain": [
              "<matplotlib.axes._subplots.AxesSubplot at 0x7fe3a16a03d0>"
            ]
          },
          "metadata": {},
          "execution_count": 11
        },
        {
          "output_type": "display_data",
          "data": {
            "text/plain": [
              "<Figure size 432x288 with 1 Axes>"
            ],
            "image/png": "[encoded data removed]"
          },
          "metadata": {
            "needs_background": "light"
          }
        }
      ]
    },
    {
      "cell_type": "markdown",
      "source": [
        "Since there are not many outliers present in the Credit Score attribute we do not need it to be normalized."
      ],
      "metadata": {
        "id": "ynoKXySVUH4H"
      }
    },
    {
      "cell_type": "markdown",
      "source": [
        "Since we have now adjusted the null values and also normalized the required data in the dataset let us now divide the data into dependent and independent data"
      ],
      "metadata": {
        "id": "G5A9BdG1URPs"
      }
    },
    {
      "cell_type": "code",
      "source": [
        "dataframe.columns"
      ],
      "metadata": {
        "colab": {
          "base_uri": "https://localhost:8080/"
        },
        "id": "7H7gFF_tUjmo",
        "outputId": "ee8192ff-f10e-4e6d-d1fd-b33f56767d4f"
      },
      "execution_count": 12,
      "outputs": [
        {
          "output_type": "execute_result",
          "data": {
            "text/plain": [
              "Index(['Name', 'Nationality', 'Age', 'Program_Type', 'Total_income_P_G_S',\n",
              "       'Any_Securities', 'Credit Score', 'Secured Admit Card', 'Eligibility',\n",
              "       'Age_normalized'],\n",
              "      dtype='object')"
            ]
          },
          "metadata": {},
          "execution_count": 12
        }
      ]
    },
    {
      "cell_type": "code",
      "source": [
        "X = dataframe.iloc[:, np.r_[1,4:8,9]].values\n",
        "Y = dataframe.iloc[:, 8].values"
      ],
      "metadata": {
        "id": "vKe9ntPiQ-Nh"
      },
      "execution_count": 13,
      "outputs": []
    },
    {
      "cell_type": "code",
      "source": [
        "X"
      ],
      "metadata": {
        "colab": {
          "base_uri": "https://localhost:8080/"
        },
        "id": "i-iSAykPQ-LI",
        "outputId": "b32dd1b8-3038-45c1-fbda-39c8d236f737"
      },
      "execution_count": 14,
      "outputs": [
        {
          "output_type": "execute_result",
          "data": {
            "text/plain": [
              "array([['Indian', 'Stable', 'Yes', 660.0, 'Yes', 3.1354942159291497],\n",
              "       ['Indian', 'Stable', 'No', 558.0, 'Yes', 3.091042453358316],\n",
              "       ['Indian', 'Stable', 'No', 525.0, 'Yes', 2.9444389791664403],\n",
              "       ['Indian', 'Not Stable', 'No', 529.0, 'Yes', 3.5263605246161616],\n",
              "       ['Indian', 'Stable', 'No', 764.0, 'Yes', 2.995732273553991],\n",
              "       ['Not Indian', 'Stable', 'Yes', 636.0, 'Yes', 2.8903717578961645],\n",
              "       ['Indian', 'Not Stable', 'Yes', 639.0, 'Yes', 3.1780538303479458],\n",
              "       ['Indian', 'Stable', 'No', 653.0, 'No', 3.1780538303479458],\n",
              "       ['Indian', 'Stable', 'Yes', 655.0, 'Yes', 3.1354942159291497],\n",
              "       ['Indian', 'Not Stable', 'Yes', 630.0, 'Yes', 3.295836866004329],\n",
              "       ['Indian', 'Stable', 'No', 630.0, 'No', 3.2188758248682006],\n",
              "       ['Indian', 'Stable', 'No', 665.0, 'No', 2.9444389791664403],\n",
              "       ['Indian', 'Stable', 'No', 509.0, 'Yes', 3.332204510175204],\n",
              "       ['Indian', 'Not Stable', 'Yes', 778.0, 'Yes', 2.8903717578961645],\n",
              "       ['Indian', 'Stable', 'No', 756.0, 'Yes', 2.8903717578961645],\n",
              "       ['Indian', 'Stable', 'No', 727.0, 'Yes', 2.9444389791664403],\n",
              "       ['Indian', 'Stable', 'No', 642.0, 'No', 2.995732273553991],\n",
              "       ['Indian', 'Stable', 'No', 606.0, 'Yes', 3.091042453358316],\n",
              "       ['Indian', 'Not Stable', 'Yes', 716.0, 'Yes', 3.1354942159291497],\n",
              "       ['Indian', 'Stable', 'Yes', 603.0, 'Yes', 3.258096538021482],\n",
              "       ['Indian', 'Stable', 'Yes', 605.0, 'No', 3.5553480614894135],\n",
              "       ['Indian', 'Stable', 'Yes', 726.0, 'Yes', 3.2188758248682006],\n",
              "       ['Indian', 'Not Stable', 'No', 738.0, 'Yes', 3.1780538303479458],\n",
              "       ['Indian', 'Stable', 'No', 641.0, 'Yes', 3.58351893845611],\n",
              "       ['Indian', 'Stable', 'Yes', 530.0, 'Yes', 3.6375861597263857],\n",
              "       ['Indian', 'Not Stable', 'Yes', 513.0, 'No', 3.2188758248682006],\n",
              "       ['Indian', 'Stable', 'Yes', 563.0, 'Yes', 3.1780538303479458],\n",
              "       ['Indian', 'Stable', 'No', 719.0, 'Yes', 3.1354942159291497],\n",
              "       ['Indian', 'Stable', 'Yes', 603.0, 'Yes', 3.1354942159291497],\n",
              "       ['Indian', 'Not Stable', 'Yes', 529.0, 'Yes', 2.70805020110221],\n",
              "       ['Indian', 'Stable', 'No', 790.0, 'Yes', 3.2188758248682006],\n",
              "       ['Indian', 'Stable', 'Yes', 733.0, 'Yes', 3.1354942159291497],\n",
              "       ['Indian', 'Stable', 'Yes', 709.0, 'Yes', 3.091042453358316],\n",
              "       ['Indian', 'Stable', 'No', 529.0, 'Yes', 3.1780538303479458],\n",
              "       ['Indian', 'Stable', 'Yes', 600.0, 'No', 3.1354942159291497],\n",
              "       ['Indian', 'Stable', 'Yes', 568.0, 'Yes', 3.2188758248682006],\n",
              "       ['Indian', 'Not Stable', 'Yes', 774.0, 'Yes', 3.332204510175204],\n",
              "       ['Indian', 'Stable', 'No', 712.0, 'Yes', 3.295836866004329],\n",
              "       ['Indian', 'Stable', 'No', 799.0, 'Yes', 3.044522437723423],\n",
              "       ['Not Indian', 'Stable', 'Yes', 608.0, 'Yes', 2.9444389791664403],\n",
              "       ['Indian', 'Stable', 'Yes', 541.0, 'Yes', 2.995732273553991],\n",
              "       ['Indian', 'Not Stable', 'Yes', 649.0, 'No', 3.044522437723423],\n",
              "       ['Not Indian', 'Stable', 'No', 670.0, 'Yes', 3.091042453358316],\n",
              "       ['Indian', 'Stable', 'Yes', 564.0, 'Yes', 3.1780538303479458],\n",
              "       ['Indian', 'Not Stable', 'Yes', 667.0, 'Yes', 3.2188758248682006],\n",
              "       ['Indian', 'Stable', 'Yes', 501.0, 'No', 3.367295829986474],\n",
              "       ['Indian', 'Stable', 'No', 593.0, 'Yes', 3.4339872044851463],\n",
              "       ['Indian', 'Not Stable', 'Yes', 698.0, 'Yes', 3.044522437723423],\n",
              "       ['Indian', 'Stable', 'Yes', 682.0, 'Yes', 3.5553480614894135],\n",
              "       ['Indian', 'Not Stable', 'Yes', 561.0, 'Yes', 3.1354942159291497],\n",
              "       ['Indian', 'Stable', 'No', 656.0, 'Yes', 3.367295829986474],\n",
              "       ['Indian', 'Stable', 'Yes', 512.0, 'Yes', 3.5553480614894135],\n",
              "       ['Indian', 'Not Stable', 'Yes', 515.0, 'Yes', 3.1780538303479458],\n",
              "       ['Indian', 'Stable', 'Yes', 556.0, 'Yes', 3.5553480614894135],\n",
              "       ['Indian', 'Stable', 'No', 627.0, 'Yes', 3.1354942159291497],\n",
              "       ['Indian', 'Stable', 'Yes', 719.0, 'Yes', 3.091042453358316],\n",
              "       ['Indian', 'Stable', 'Yes', 779.0, 'Yes', 3.332204510175204],\n",
              "       ['Indian', 'Not Stable', 'Yes', 754.0, 'Yes', 3.295836866004329],\n",
              "       ['Indian', 'Stable', 'No', 572.0, 'Yes', 3.1354942159291497],\n",
              "       ['Not Indian', 'Stable', 'Yes', 624.0, 'No', 2.995732273553991],\n",
              "       ['Indian', 'Not Stable', 'Yes', 581.0, 'Yes', 2.9444389791664403],\n",
              "       ['Indian', 'Stable', 'Yes', 786.0, 'Yes', 3.332204510175204],\n",
              "       ['Indian', 'Not Stable', 'No', 649.0, 'Yes', 2.8903717578961645],\n",
              "       ['Indian', 'Stable', 'Yes', 663.0, 'Yes', 3.295836866004329],\n",
              "       ['Indian', 'Stable', 'Yes', 739.0, 'Yes', 3.2188758248682006],\n",
              "       ['Indian', 'Stable', 'No', 688.0, 'No', 2.8903717578961645],\n",
              "       ['Indian', 'Stable', 'No', 522.0, 'Yes', 3.295836866004329],\n",
              "       ['Indian', 'Not Stable', 'Yes', 676.0, 'Yes', 2.833213344056216],\n",
              "       ['Indian', 'Stable', 'Yes', 682.0, 'Yes', 2.8903717578961645],\n",
              "       ['Indian', 'Stable', 'No', 549.0, 'No', 2.995732273553991],\n",
              "       ['Indian', 'Stable', 'No', 541.0, 'Yes', 3.044522437723423],\n",
              "       ['Indian', 'Stable', 'No', 737.0, 'Yes', 3.091042453358316],\n",
              "       ['Indian', 'Not Stable', 'Yes', 674.0, 'Yes', 3.1354942159291497],\n",
              "       ['Indian', 'Stable', 'Yes', 540.0, 'Yes', 3.1780538303479458],\n",
              "       ['Indian', 'Stable', 'Yes', 568.0, 'Yes', 3.258096538021482],\n",
              "       ['Indian', 'Stable', 'Yes', 691.0, 'Yes', 3.295836866004329],\n",
              "       ['Indian', 'Not Stable', 'No', 506.0, 'Yes', 3.1354942159291497],\n",
              "       ['Indian', 'Not Stable', 'No', 621.0, 'Yes', 2.833213344056216],\n",
              "       ['Indian', 'Not Stable', 'No', 526.0, 'Yes', 3.58351893845611],\n",
              "       ['Indian', 'Not Stable', 'No', 551.0, 'No', 3.332204510175204],\n",
              "       ['Indian', 'Stable', 'No', 538.0, 'Yes', 3.295836866004329],\n",
              "       ['Indian', 'Stable', 'No', 558.0, 'Yes', 3.091042453358316],\n",
              "       ['Indian', 'Stable', 'No', 622.0, 'Yes', 3.1780538303479458],\n",
              "       ['Not Indian', 'Not Stable', 'No', 738.0, 'No',\n",
              "        3.1780538303479458],\n",
              "       ['Indian', 'Not Stable', 'Yes', 604.0, 'Yes', 3.2188758248682006],\n",
              "       ['Indian', 'Stable', 'Yes', 534.0, 'Yes', 3.1354942159291497],\n",
              "       ['Indian', 'Not Stable', 'Yes', 743.0, 'Yes', 3.091042453358316],\n",
              "       ['Indian', 'Stable', 'Yes', 501.0, 'Yes', 2.995732273553991],\n",
              "       ['Indian', 'Stable', 'No', 727.0, 'Yes', 2.70805020110221],\n",
              "       ['Indian', 'Stable', 'Yes', 799.0, 'Yes', 3.1780538303479458],\n",
              "       ['Indian', 'Not Stable', 'No', 787.0, 'No', 3.1780538303479458],\n",
              "       ['Indian', 'Not Stable', 'Yes', 591.0, 'Yes', 3.2188758248682006],\n",
              "       ['Indian', 'Stable', 'Yes', 559.0, 'Yes', 3.091042453358316],\n",
              "       ['Indian', 'Stable', 'No', 739.0, 'Yes', 3.044522437723423],\n",
              "       ['Not Indian', 'Stable', 'Yes', 631.0, 'Yes', 2.995732273553991],\n",
              "       ['Indian', 'Not Stable', 'Yes', 739.0, 'Yes', 2.9444389791664403],\n",
              "       ['Indian', 'Not Stable', 'Yes', 572.0, 'No', 3.5553480614894135],\n",
              "       ['Indian', 'Not Stable', 'No', 546.0, 'Yes', 3.091042453358316],\n",
              "       ['Indian', 'Stable', 'Yes', 698.0, 'Yes', 2.995732273553991],\n",
              "       ['Indian', 'Stable', 'No', 769.0, 'Yes', 2.8903717578961645],\n",
              "       ['Indian', 'Stable', 'Yes', 644.0, 'Yes', 3.091042453358316],\n",
              "       ['Indian', 'Stable', 'Yes', 758.0, 'Yes', 3.1780538303479458],\n",
              "       ['Indian', 'Not Stable', 'Yes', 753.0, 'No', 3.2188758248682006],\n",
              "       ['Indian', 'Stable', 'Yes', 721.0, 'Yes', 3.1780538303479458],\n",
              "       ['Indian', 'Not Stable', 'Yes', 797.0, 'Yes', 3.1354942159291497],\n",
              "       ['Indian', 'Not Stable', 'Yes', 616.0, 'Yes', 3.091042453358316],\n",
              "       ['Indian', 'Not Stable', 'Yes', 594.0, 'Yes', 3.2188758248682006],\n",
              "       ['Indian', 'Stable', 'No', 800.0, 'No', 3.044522437723423],\n",
              "       ['Indian', 'Stable', 'Yes', 688.0, 'No', 3.332204510175204],\n",
              "       ['Indian', 'Not Stable', 'Yes', 522.0, 'Yes', 3.295836866004329],\n",
              "       ['Indian', 'Stable', 'Yes', 614.0, 'No', 3.367295829986474],\n",
              "       ['Not Indian', 'Not Stable', 'Yes', 507.0, 'Yes',\n",
              "        3.2188758248682006],\n",
              "       ['Indian', 'Stable', 'No', 504.0, 'Yes', 3.1354942159291497],\n",
              "       ['Indian', 'Stable', 'No', 536.0, 'No', 3.1354942159291497],\n",
              "       ['Indian', 'Not Stable', 'No', 717.0, 'No', 3.091042453358316],\n",
              "       ['Indian', 'Stable', 'No', 577.0, 'No', 3.1780538303479458],\n",
              "       ['Indian', 'Stable', 'Yes', 635.0, 'No', 3.091042453358316],\n",
              "       ['Indian', 'Stable', 'No', 790.0, 'Yes', 3.1780538303479458],\n",
              "       ['Indian', 'Not Stable', 'No', 657.0, 'Yes', 3.2188758248682006],\n",
              "       ['Indian', 'Stable', 'No', 549.0, 'Yes', 3.4339872044851463],\n",
              "       ['Indian', 'Not Stable', 'Yes', 789.0, 'Yes', 3.1354942159291497],\n",
              "       ['Indian', 'Stable', 'Yes', 500.0, 'Yes', 3.1354942159291497],\n",
              "       ['Indian', 'Not Stable', 'No', 742.0, 'Yes', 3.091042453358316],\n",
              "       ['Indian', 'Stable', 'Yes', 695.0, 'Yes', 3.1780538303479458],\n",
              "       ['Indian', 'Stable', 'Yes', 710.0, 'Yes', 3.4011973816621555],\n",
              "       ['Indian', 'Not Stable', 'Yes', 691.0, 'Yes', 3.091042453358316],\n",
              "       ['Indian', 'Not Stable', 'No', 568.0, 'Yes', 3.4339872044851463],\n",
              "       ['Indian', 'Not Stable', 'Yes', 548.0, 'Yes', 3.1354942159291497],\n",
              "       ['Indian', 'Stable', 'No', 703.0, 'Yes', 3.2188758248682006],\n",
              "       ['Not Indian', 'Stable', 'No', 563.0, 'Yes', 3.1780538303479458],\n",
              "       ['Indian', 'Stable', 'Yes', 767.0, 'Yes', 3.1780538303479458],\n",
              "       ['Indian', 'Stable', 'Yes', 577.0, 'Yes', 3.1780538303479458],\n",
              "       ['Indian', 'Not Stable', 'No', 572.0, 'Yes', 3.091042453358316],\n",
              "       ['Indian', 'Stable', 'No', 590.0, 'Yes', 3.1354942159291497],\n",
              "       ['Indian', 'Stable', 'No', 658.0, 'Yes', 3.044522437723423],\n",
              "       ['Indian', 'Stable', 'Yes', 627.0, 'Yes', 2.8903717578961645],\n",
              "       ['Indian', 'Not Stable', 'No', 794.0, 'Yes', 2.9444389791664403],\n",
              "       ['Indian', 'Not Stable', 'Yes', 636.0, 'Yes', 2.8903717578961645],\n",
              "       ['Indian', 'Stable', 'Yes', 528.0, 'Yes', 3.1354942159291497],\n",
              "       ['Indian', 'Not Stable', 'Yes', 600.0, 'No', 3.091042453358316],\n",
              "       ['Indian', 'Stable', 'No', 601.0, 'Yes', 3.1780538303479458],\n",
              "       ['Indian', 'Not Stable', 'Yes', 577.0, 'Yes', 3.2188758248682006],\n",
              "       ['Indian', 'Stable', 'Yes', 772.0, 'Yes', 3.4339872044851463],\n",
              "       ['Indian', 'Stable', 'Yes', 759.0, 'Yes', 3.4011973816621555],\n",
              "       ['Indian', 'Not Stable', 'No', 688.0, 'Yes', 3.091042453358316],\n",
              "       ['Indian', 'Not Stable', 'Yes', 584.0, 'Yes', 3.1354942159291497],\n",
              "       ['Indian', 'Stable', 'Yes', 673.0, 'Yes', 3.4657359027997265],\n",
              "       ['Not Indian', 'Not Stable', 'Yes', 674.0, 'Yes',\n",
              "        3.6109179126442243],\n",
              "       ['Indian', 'Stable', 'No', 643.0, 'Yes', 3.1354942159291497]],\n",
              "      dtype=object)"
            ]
          },
          "metadata": {},
          "execution_count": 14
        }
      ]
    },
    {
      "cell_type": "code",
      "source": [
        "Y"
      ],
      "metadata": {
        "colab": {
          "base_uri": "https://localhost:8080/"
        },
        "id": "Pm50fYLXQ-Iq",
        "outputId": "f3f29be8-c26a-4715-d2d6-65afa900923f"
      },
      "execution_count": 15,
      "outputs": [
        {
          "output_type": "execute_result",
          "data": {
            "text/plain": [
              "array(['Yes', 'No', 'No', 'No', 'Yes', 'No', 'No', 'No', 'Yes', 'No',\n",
              "       'No', 'No', 'No', 'Yes', 'Yes', 'Yes', 'No', 'Yes', 'Yes', 'Yes',\n",
              "       'No', 'Yes', 'No', 'No', 'No', 'No', 'No', 'Yes', 'Yes', 'No',\n",
              "       'Yes', 'Yes', 'Yes', 'No', 'No', 'No', 'Yes', 'Yes', 'Yes', 'No',\n",
              "       'No', 'No', 'No', 'No', 'Yes', 'No', 'No', 'Yes', 'Yes', 'No',\n",
              "       'Yes', 'No', 'No', 'No', 'Yes', 'Yes', 'Yes', 'Yes', 'No', 'No',\n",
              "       'No', 'Yes', 'No', 'Yes', 'Yes', 'No', 'No', 'Yes', 'Yes', 'No',\n",
              "       'No', 'Yes', 'Yes', 'No', 'No', 'Yes', 'No', 'No', 'No', 'No',\n",
              "       'No', 'No', 'Yes', 'No', 'No', 'No', 'Yes', 'No', 'Yes', 'Yes',\n",
              "       'No', 'No', 'No', 'Yes', 'No', 'Yes', 'No', 'No', 'Yes', 'Yes',\n",
              "       'Yes', 'Yes', 'No', 'Yes', 'Yes', 'No', 'No', 'No', 'No', 'No',\n",
              "       'No', 'No', 'No', 'No', 'No', 'No', 'No', 'Yes', 'No', 'No', 'Yes',\n",
              "       'No', 'No', 'Yes', 'Yes', 'Yes', 'No', 'No', 'Yes', 'No', 'Yes',\n",
              "       'No', 'No', 'No', 'Yes', 'Yes', 'Yes', 'No', 'No', 'No', 'Yes',\n",
              "       'No', 'Yes', 'Yes', 'No', 'No', 'Yes', 'No', 'Yes'], dtype=object)"
            ]
          },
          "metadata": {},
          "execution_count": 15
        }
      ]
    },
    {
      "cell_type": "markdown",
      "source": [
        "Now let us further split our data into the training and testing set using sklearn's preprocessing train and test class"
      ],
      "metadata": {
        "id": "85Fxg1pZU4_y"
      }
    },
    {
      "cell_type": "code",
      "source": [
        "X_train, X_test, Y_train, Y_test = train_test_split(X, Y, test_size=0.2, random_state=20)"
      ],
      "metadata": {
        "id": "MQKZpTxdQ-GR"
      },
      "execution_count": 16,
      "outputs": []
    },
    {
      "cell_type": "code",
      "source": [
        "X_train[0,:]"
      ],
      "metadata": {
        "colab": {
          "base_uri": "https://localhost:8080/"
        },
        "id": "oDaYWHDFQ-D5",
        "outputId": "e459f4cd-cf3e-433c-ef52-37ae59c60bf7"
      },
      "execution_count": 17,
      "outputs": [
        {
          "output_type": "execute_result",
          "data": {
            "text/plain": [
              "array(['Indian', 'Not Stable', 'Yes', 739.0, 'Yes', 2.9444389791664403],\n",
              "      dtype=object)"
            ]
          },
          "metadata": {},
          "execution_count": 17
        }
      ]
    },
    {
      "cell_type": "markdown",
      "source": [
        "Since we see that there are many attributes with categorical data present in it we need to convert that categorical data into numeric data as our machine only understands categorical data"
      ],
      "metadata": {
        "id": "6aXzHTNNVrPP"
      }
    },
    {
      "cell_type": "code",
      "source": [
        "label_encoder_x = LabelEncoder()"
      ],
      "metadata": {
        "id": "Cq7I7urcV6lZ"
      },
      "execution_count": 18,
      "outputs": []
    },
    {
      "cell_type": "code",
      "source": [
        "for i in range(0,3):\n",
        "  X_train[:,i] = label_encoder_x.fit_transform(X_train[:,i])\n",
        "X_train[:,4] = label_encoder_x.fit_transform(X_train[:,4])"
      ],
      "metadata": {
        "id": "2-INdenkWVwv"
      },
      "execution_count": 19,
      "outputs": []
    },
    {
      "cell_type": "code",
      "source": [
        "X_train[0,:]"
      ],
      "metadata": {
        "colab": {
          "base_uri": "https://localhost:8080/"
        },
        "id": "8W7FsdI5WhhK",
        "outputId": "68c51c51-4b33-49b8-f190-6f3610a12b04"
      },
      "execution_count": 20,
      "outputs": [
        {
          "output_type": "execute_result",
          "data": {
            "text/plain": [
              "array([0, 0, 1, 739.0, 1, 2.9444389791664403], dtype=object)"
            ]
          },
          "metadata": {},
          "execution_count": 20
        }
      ]
    },
    {
      "cell_type": "markdown",
      "source": [
        "Similarly for X_test"
      ],
      "metadata": {
        "id": "cd_BtONhWm1h"
      }
    },
    {
      "cell_type": "code",
      "source": [
        "X_test[0,:]"
      ],
      "metadata": {
        "colab": {
          "base_uri": "https://localhost:8080/"
        },
        "id": "mt3RF7jAQ-BZ",
        "outputId": "e52a985c-0aa6-4fb2-efe3-0daca3798376"
      },
      "execution_count": 21,
      "outputs": [
        {
          "output_type": "execute_result",
          "data": {
            "text/plain": [
              "array(['Indian', 'Not Stable', 'Yes', 698.0, 'Yes', 3.044522437723423],\n",
              "      dtype=object)"
            ]
          },
          "metadata": {},
          "execution_count": 21
        }
      ]
    },
    {
      "cell_type": "code",
      "source": [
        "for i in range(0,3):\n",
        "  X_test[:,i] = label_encoder_x.fit_transform(X_test[:,i])\n",
        "X_test[:,4] = label_encoder_x.fit_transform(X_test[:,4])"
      ],
      "metadata": {
        "id": "duZVvyRYWaCq"
      },
      "execution_count": 22,
      "outputs": []
    },
    {
      "cell_type": "code",
      "source": [
        "X_test[0,:]"
      ],
      "metadata": {
        "colab": {
          "base_uri": "https://localhost:8080/"
        },
        "id": "9nGCG_y1Wtba",
        "outputId": "20c809a0-5210-4a45-c1fd-179b88e548e4"
      },
      "execution_count": 23,
      "outputs": [
        {
          "output_type": "execute_result",
          "data": {
            "text/plain": [
              "array([0, 0, 1, 698.0, 1, 3.044522437723423], dtype=object)"
            ]
          },
          "metadata": {},
          "execution_count": 23
        }
      ]
    },
    {
      "cell_type": "markdown",
      "source": [
        "Similarly let us encode all the values for Y_train and Y_test"
      ],
      "metadata": {
        "id": "HMfotH63W5IA"
      }
    },
    {
      "cell_type": "code",
      "source": [
        "Y_train[0:5]"
      ],
      "metadata": {
        "colab": {
          "base_uri": "https://localhost:8080/"
        },
        "id": "l-GovFjnQ9_A",
        "outputId": "e91f4196-94b8-4f8c-dc36-8a0b039f5e86"
      },
      "execution_count": 24,
      "outputs": [
        {
          "output_type": "execute_result",
          "data": {
            "text/plain": [
              "array(['Yes', 'Yes', 'Yes', 'No', 'No'], dtype=object)"
            ]
          },
          "metadata": {},
          "execution_count": 24
        }
      ]
    },
    {
      "cell_type": "code",
      "source": [
        "label_encoder_y = LabelEncoder()"
      ],
      "metadata": {
        "id": "1ZzEqx49W9Ui"
      },
      "execution_count": 25,
      "outputs": []
    },
    {
      "cell_type": "code",
      "source": [
        "Y_train = label_encoder_y.fit_transform(Y_train)"
      ],
      "metadata": {
        "id": "A4vEw99qW9Qg"
      },
      "execution_count": 26,
      "outputs": []
    },
    {
      "cell_type": "code",
      "source": [
        "Y_train[0:5]"
      ],
      "metadata": {
        "colab": {
          "base_uri": "https://localhost:8080/"
        },
        "id": "Wj_KJVr9XLKJ",
        "outputId": "a81e6be0-bc7e-4dc7-f67e-4b4d10cee24e"
      },
      "execution_count": 27,
      "outputs": [
        {
          "output_type": "execute_result",
          "data": {
            "text/plain": [
              "array([1, 1, 1, 0, 0])"
            ]
          },
          "metadata": {},
          "execution_count": 27
        }
      ]
    },
    {
      "cell_type": "code",
      "source": [
        "Y_test[0:5]"
      ],
      "metadata": {
        "colab": {
          "base_uri": "https://localhost:8080/"
        },
        "id": "c6L6_1XsQ98g",
        "outputId": "3bb2bb2c-ad64-46af-a925-5bc53bc0dc2d"
      },
      "execution_count": 28,
      "outputs": [
        {
          "output_type": "execute_result",
          "data": {
            "text/plain": [
              "array(['Yes', 'No', 'No', 'Yes', 'Yes'], dtype=object)"
            ]
          },
          "metadata": {},
          "execution_count": 28
        }
      ]
    },
    {
      "cell_type": "code",
      "source": [
        "Y_test = label_encoder_y.fit_transform(Y_test)\n"
      ],
      "metadata": {
        "id": "bMuoo8SCQ96A"
      },
      "execution_count": 29,
      "outputs": []
    },
    {
      "cell_type": "code",
      "source": [
        "Y_test[0:5]"
      ],
      "metadata": {
        "colab": {
          "base_uri": "https://localhost:8080/"
        },
        "id": "9LAHX6XiXZIS",
        "outputId": "8c6dd9d6-af05-4b9f-bf95-f85a5c84d5a1"
      },
      "execution_count": 30,
      "outputs": [
        {
          "output_type": "execute_result",
          "data": {
            "text/plain": [
              "array([1, 0, 0, 1, 1])"
            ]
          },
          "metadata": {},
          "execution_count": 30
        }
      ]
    },
    {
      "cell_type": "markdown",
      "source": [
        "Since now we have also encoded our train and test sets let us sandard scale our train and test sets using Standard Scaler"
      ],
      "metadata": {
        "id": "9TsE9OvmXb-l"
      }
    },
    {
      "cell_type": "code",
      "source": [
        "ss = StandardScaler()"
      ],
      "metadata": {
        "id": "2zRNkT8RXb2z"
      },
      "execution_count": 31,
      "outputs": []
    },
    {
      "cell_type": "code",
      "source": [
        "X_train = ss.fit_transform(X_train)\n",
        "X_test = ss.fit_transform(X_test)"
      ],
      "metadata": {
        "id": "UbfIVqdtXb0K"
      },
      "execution_count": 32,
      "outputs": []
    },
    {
      "cell_type": "markdown",
      "source": [
        "Finally we can use our algorithm Random Forest classifier"
      ],
      "metadata": {
        "id": "Yy-Md6XiX5Be"
      }
    },
    {
      "cell_type": "code",
      "source": [
        "from sklearn.ensemble import RandomForestClassifier\n",
        "RFclassifier = RandomForestClassifier(n_estimators=100, random_state=0)"
      ],
      "metadata": {
        "id": "q7bfT46CHnXZ"
      },
      "execution_count": 63,
      "outputs": []
    },
    {
      "cell_type": "code",
      "source": [
        "RFclassifier.fit(X_train, Y_train)"
      ],
      "metadata": {
        "colab": {
          "base_uri": "https://localhost:8080/"
        },
        "id": "uBcZg1uJH4pQ",
        "outputId": "33dfe9d9-b196-4ed1-8e1b-f32b982f87e6"
      },
      "execution_count": 64,
      "outputs": [
        {
          "output_type": "execute_result",
          "data": {
            "text/plain": [
              "RandomForestClassifier(random_state=0)"
            ]
          },
          "metadata": {},
          "execution_count": 64
        }
      ]
    },
    {
      "cell_type": "code",
      "source": [
        "Y_pred = RFclassifier.predict(X_test)"
      ],
      "metadata": {
        "id": "imoa-NfKXbvF"
      },
      "execution_count": 65,
      "outputs": []
    },
    {
      "cell_type": "code",
      "source": [
        "Y_pred"
      ],
      "metadata": {
        "colab": {
          "base_uri": "https://localhost:8080/"
        },
        "id": "AswBebDKXbss",
        "outputId": "027a11eb-4b0a-473e-e525-15b233acd387"
      },
      "execution_count": 66,
      "outputs": [
        {
          "output_type": "execute_result",
          "data": {
            "text/plain": [
              "array([1, 0, 0, 1, 1, 1, 1, 1, 0, 0, 0, 0, 0, 0, 0, 0, 1, 0, 0, 1, 0, 1,\n",
              "       0, 0, 1, 0, 1, 0, 1, 1])"
            ]
          },
          "metadata": {},
          "execution_count": 66
        }
      ]
    },
    {
      "cell_type": "code",
      "source": [
        "Y_test"
      ],
      "metadata": {
        "colab": {
          "base_uri": "https://localhost:8080/"
        },
        "id": "i_HHdbcnXbqN",
        "outputId": "96a2bd80-8f70-4533-dc85-4847c088fc34"
      },
      "execution_count": 67,
      "outputs": [
        {
          "output_type": "execute_result",
          "data": {
            "text/plain": [
              "array([1, 0, 0, 1, 1, 1, 1, 1, 0, 0, 1, 0, 0, 0, 1, 0, 1, 0, 0, 1, 1, 1,\n",
              "       0, 0, 1, 0, 1, 0, 1, 1])"
            ]
          },
          "metadata": {},
          "execution_count": 67
        }
      ]
    },
    {
      "cell_type": "code",
      "source": [
        "print(\"The accuracy of our model using Random Forest Algorithm is : \", metrics.accuracy_score(Y_pred,Y_test))"
      ],
      "metadata": {
        "colab": {
          "base_uri": "https://localhost:8080/"
        },
        "id": "QigEmJcbY2D8",
        "outputId": "ed7c154a-80e4-4688-f5f6-763189b025e1"
      },
      "execution_count": 68,
      "outputs": [
        {
          "output_type": "stream",
          "name": "stdout",
          "text": [
            "The accuracy of our model using Random Forest Algorithm is :  0.9\n"
          ]
        }
      ]
    }
  ]
}