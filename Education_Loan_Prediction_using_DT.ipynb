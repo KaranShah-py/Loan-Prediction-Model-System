{
  "nbformat": 4,
  "nbformat_minor": 0,
  "metadata": {
    "colab": {
      "name": "Education_Loan_Prediction_using_DT.ipynb",
      "provenance": [],
      "collapsed_sections": []
    },
    "kernelspec": {
      "name": "python3",
      "display_name": "Python 3"
    },
    "language_info": {
      "name": "python"
    }
  },
  "cells": [
    {
      "cell_type": "code",
      "execution_count": 36,
      "metadata": {
        "id": "x6gL_XwuH3Jy"
      },
      "outputs": [],
      "source": [
        "import pandas as pd\n",
        "import numpy as np\n",
        "import matplotlib.pyplot as plt\n",
        "import seaborn as sns\n",
        "from scipy import stats\n",
        "from collections import Counter\n",
        "%matplotlib inline"
      ]
    },
    {
      "cell_type": "markdown",
      "source": [
        "First let us load the dataset into the program using pandas"
      ],
      "metadata": {
        "id": "Dm8L9evMIbxx"
      }
    },
    {
      "cell_type": "code",
      "source": [
        "dataframe = pd.read_csv(\"Education_Loan.csv\")"
      ],
      "metadata": {
        "id": "23l1GM4OIbry"
      },
      "execution_count": 37,
      "outputs": []
    },
    {
      "cell_type": "markdown",
      "source": [
        "Now let us take a look at our dataset"
      ],
      "metadata": {
        "id": "T__1-hj1Invx"
      }
    },
    {
      "cell_type": "code",
      "source": [
        "dataframe.head(5)"
      ],
      "metadata": {
        "colab": {
          "base_uri": "https://localhost:8080/",
          "height": 206
        },
        "id": "bovI2mlgIbpS",
        "outputId": "644e8b3f-0ede-4566-8788-507a7e416331"
      },
      "execution_count": null,
      "outputs": [
        {
          "output_type": "execute_result",
          "data": {
            "text/plain": [
              "            Name Nationality   Age Program_Type Total_income_P_G_S  \\\n",
              "0     Karan Shah      Indian  23.0           UG             Stable   \n",
              "1  Moksha Shinde      Indian  22.0           UG             Stable   \n",
              "2   Nikita Joshi      Indian  19.0           UG             Stable   \n",
              "3   Rahil Porwal      Indian  34.0           PG         Not Stable   \n",
              "4      Meet Shah      Indian  20.0           UG             Stable   \n",
              "\n",
              "  Any_Securities  Credit Score Secured Admit Card Eligibility  \n",
              "0            Yes         660.0                Yes         Yes  \n",
              "1             No         558.0                Yes          No  \n",
              "2             No         525.0                Yes          No  \n",
              "3             No         529.0                Yes          No  \n",
              "4             No         764.0                Yes         Yes  "
            ],
            "text/html": [
              "\n",
              "  <div id=\"df-e1102047-115b-4812-a568-9eb6c7bf1a15\">\n",
              "    <div class=\"colab-df-container\">\n",
              "      <div>\n",
              "<style scoped>\n",
              "    .dataframe tbody tr th:only-of-type {\n",
              "        vertical-align: middle;\n",
              "    }\n",
              "\n",
              "    .dataframe tbody tr th {\n",
              "        vertical-align: top;\n",
              "    }\n",
              "\n",
              "    .dataframe thead th {\n",
              "        text-align: right;\n",
              "    }\n",
              "</style>\n",
              "<table border=\"1\" class=\"dataframe\">\n",
              "  <thead>\n",
              "    <tr style=\"text-align: right;\">\n",
              "      <th></th>\n",
              "      <th>Name</th>\n",
              "      <th>Nationality</th>\n",
              "      <th>Age</th>\n",
              "      <th>Program_Type</th>\n",
              "      <th>Total_income_P_G_S</th>\n",
              "      <th>Any_Securities</th>\n",
              "      <th>Credit Score</th>\n",
              "      <th>Secured Admit Card</th>\n",
              "      <th>Eligibility</th>\n",
              "    </tr>\n",
              "  </thead>\n",
              "  <tbody>\n",
              "    <tr>\n",
              "      <th>0</th>\n",
              "      <td>Karan Shah</td>\n",
              "      <td>Indian</td>\n",
              "      <td>23.0</td>\n",
              "      <td>UG</td>\n",
              "      <td>Stable</td>\n",
              "      <td>Yes</td>\n",
              "      <td>660.0</td>\n",
              "      <td>Yes</td>\n",
              "      <td>Yes</td>\n",
              "    </tr>\n",
              "    <tr>\n",
              "      <th>1</th>\n",
              "      <td>Moksha Shinde</td>\n",
              "      <td>Indian</td>\n",
              "      <td>22.0</td>\n",
              "      <td>UG</td>\n",
              "      <td>Stable</td>\n",
              "      <td>No</td>\n",
              "      <td>558.0</td>\n",
              "      <td>Yes</td>\n",
              "      <td>No</td>\n",
              "    </tr>\n",
              "    <tr>\n",
              "      <th>2</th>\n",
              "      <td>Nikita Joshi</td>\n",
              "      <td>Indian</td>\n",
              "      <td>19.0</td>\n",
              "      <td>UG</td>\n",
              "      <td>Stable</td>\n",
              "      <td>No</td>\n",
              "      <td>525.0</td>\n",
              "      <td>Yes</td>\n",
              "      <td>No</td>\n",
              "    </tr>\n",
              "    <tr>\n",
              "      <th>3</th>\n",
              "      <td>Rahil Porwal</td>\n",
              "      <td>Indian</td>\n",
              "      <td>34.0</td>\n",
              "      <td>PG</td>\n",
              "      <td>Not Stable</td>\n",
              "      <td>No</td>\n",
              "      <td>529.0</td>\n",
              "      <td>Yes</td>\n",
              "      <td>No</td>\n",
              "    </tr>\n",
              "    <tr>\n",
              "      <th>4</th>\n",
              "      <td>Meet Shah</td>\n",
              "      <td>Indian</td>\n",
              "      <td>20.0</td>\n",
              "      <td>UG</td>\n",
              "      <td>Stable</td>\n",
              "      <td>No</td>\n",
              "      <td>764.0</td>\n",
              "      <td>Yes</td>\n",
              "      <td>Yes</td>\n",
              "    </tr>\n",
              "  </tbody>\n",
              "</table>\n",
              "</div>\n",
              "      <button class=\"colab-df-convert\" onclick=\"convertToInteractive('df-e1102047-115b-4812-a568-9eb6c7bf1a15')\"\n",
              "              title=\"Convert this dataframe to an interactive table.\"\n",
              "              style=\"display:none;\">\n",
              "        \n",
              "  <svg xmlns=\"http://www.w3.org/2000/svg\" height=\"24px\"viewBox=\"0 0 24 24\"\n",
              "       width=\"24px\">\n",
              "    <path d=\"M0 0h24v24H0V0z\" fill=\"none\"/>\n",
              "    <path d=\"M18.56 5.44l.94 2.06.94-2.06 2.06-.94-2.06-.94-.94-2.06-.94 2.06-2.06.94zm-11 1L8.5 8.5l.94-2.06 2.06-.94-2.06-.94L8.5 2.5l-.94 2.06-2.06.94zm10 10l.94 2.06.94-2.06 2.06-.94-2.06-.94-.94-2.06-.94 2.06-2.06.94z\"/><path d=\"M17.41 7.96l-1.37-1.37c-.4-.4-.92-.59-1.43-.59-.52 0-1.04.2-1.43.59L10.3 9.45l-7.72 7.72c-.78.78-.78 2.05 0 2.83L4 21.41c.39.39.9.59 1.41.59.51 0 1.02-.2 1.41-.59l7.78-7.78 2.81-2.81c.8-.78.8-2.07 0-2.86zM5.41 20L4 18.59l7.72-7.72 1.47 1.35L5.41 20z\"/>\n",
              "  </svg>\n",
              "      </button>\n",
              "      \n",
              "  <style>\n",
              "    .colab-df-container {\n",
              "      display:flex;\n",
              "      flex-wrap:wrap;\n",
              "      gap: 12px;\n",
              "    }\n",
              "\n",
              "    .colab-df-convert {\n",
              "      background-color: #E8F0FE;\n",
              "      border: none;\n",
              "      border-radius: 50%;\n",
              "      cursor: pointer;\n",
              "      display: none;\n",
              "      fill: #1967D2;\n",
              "      height: 32px;\n",
              "      padding: 0 0 0 0;\n",
              "      width: 32px;\n",
              "    }\n",
              "\n",
              "    .colab-df-convert:hover {\n",
              "      background-color: #E2EBFA;\n",
              "      box-shadow: 0px 1px 2px rgba(60, 64, 67, 0.3), 0px 1px 3px 1px rgba(60, 64, 67, 0.15);\n",
              "      fill: #174EA6;\n",
              "    }\n",
              "\n",
              "    [theme=dark] .colab-df-convert {\n",
              "      background-color: #3B4455;\n",
              "      fill: #D2E3FC;\n",
              "    }\n",
              "\n",
              "    [theme=dark] .colab-df-convert:hover {\n",
              "      background-color: #434B5C;\n",
              "      box-shadow: 0px 1px 3px 1px rgba(0, 0, 0, 0.15);\n",
              "      filter: drop-shadow(0px 1px 2px rgba(0, 0, 0, 0.3));\n",
              "      fill: #FFFFFF;\n",
              "    }\n",
              "  </style>\n",
              "\n",
              "      <script>\n",
              "        const buttonEl =\n",
              "          document.querySelector('#df-e1102047-115b-4812-a568-9eb6c7bf1a15 button.colab-df-convert');\n",
              "        buttonEl.style.display =\n",
              "          google.colab.kernel.accessAllowed ? 'block' : 'none';\n",
              "\n",
              "        async function convertToInteractive(key) {\n",
              "          const element = document.querySelector('#df-e1102047-115b-4812-a568-9eb6c7bf1a15');\n",
              "          const dataTable =\n",
              "            await google.colab.kernel.invokeFunction('convertToInteractive',\n",
              "                                                     [key], {});\n",
              "          if (!dataTable) return;\n",
              "\n",
              "          const docLinkHtml = 'Like what you see? Visit the ' +\n",
              "            '<a target=\"_blank\" href=https://colab.research.google.com/notebooks/data_table.ipynb>data table notebook</a>'\n",
              "            + ' to learn more about interactive tables.';\n",
              "          element.innerHTML = '';\n",
              "          dataTable['output_type'] = 'display_data';\n",
              "          await google.colab.output.renderOutput(dataTable, element);\n",
              "          const docLink = document.createElement('div');\n",
              "          docLink.innerHTML = docLinkHtml;\n",
              "          element.appendChild(docLink);\n",
              "        }\n",
              "      </script>\n",
              "    </div>\n",
              "  </div>\n",
              "  "
            ]
          },
          "metadata": {},
          "execution_count": 3
        }
      ]
    },
    {
      "cell_type": "markdown",
      "source": [
        "As we can see that we have 6 independent and 1 dependent column in the dataset. Let us first check if there are any null values present in our dataset or not."
      ],
      "metadata": {
        "id": "wcgFFaxcIxTp"
      }
    },
    {
      "cell_type": "code",
      "source": [
        "dataframe.isnull().sum()"
      ],
      "metadata": {
        "colab": {
          "base_uri": "https://localhost:8080/"
        },
        "id": "hcTclTsfIbm0",
        "outputId": "7c3a2889-6007-49c7-c5e2-77e6fc7beeb1"
      },
      "execution_count": null,
      "outputs": [
        {
          "output_type": "execute_result",
          "data": {
            "text/plain": [
              "Name                  2\n",
              "Nationality           2\n",
              "Age                   2\n",
              "Program_Type          2\n",
              "Total_income_P_G_S    2\n",
              "Any_Securities        2\n",
              "Credit Score          2\n",
              "Secured Admit Card    2\n",
              "Eligibility           0\n",
              "dtype: int64"
            ]
          },
          "metadata": {},
          "execution_count": 4
        }
      ]
    },
    {
      "cell_type": "markdown",
      "source": [
        "Since there are a constant number of null values in each attribute we can assume that there might be full empty two rows in dataset so let us just drop the null values."
      ],
      "metadata": {
        "id": "4gtXwZlDJWPX"
      }
    },
    {
      "cell_type": "code",
      "source": [
        "dataframe = dataframe.dropna()"
      ],
      "metadata": {
        "id": "Z7xujD3AIbkg"
      },
      "execution_count": null,
      "outputs": []
    },
    {
      "cell_type": "code",
      "source": [
        "dataframe.isnull().sum()"
      ],
      "metadata": {
        "colab": {
          "base_uri": "https://localhost:8080/"
        },
        "id": "pov_0_5UIbiJ",
        "outputId": "af097af8-3f2f-43d2-9fa5-f99047d79abb"
      },
      "execution_count": null,
      "outputs": [
        {
          "output_type": "execute_result",
          "data": {
            "text/plain": [
              "Name                  0\n",
              "Nationality           0\n",
              "Age                   0\n",
              "Program_Type          0\n",
              "Total_income_P_G_S    0\n",
              "Any_Securities        0\n",
              "Credit Score          0\n",
              "Secured Admit Card    0\n",
              "Eligibility           0\n",
              "dtype: int64"
            ]
          },
          "metadata": {},
          "execution_count": 6
        }
      ]
    },
    {
      "cell_type": "markdown",
      "source": [
        "Now let us now describe our data and look into stats"
      ],
      "metadata": {
        "id": "zyb3YyRxJtek"
      }
    },
    {
      "cell_type": "code",
      "source": [
        "dataframe.describe()"
      ],
      "metadata": {
        "colab": {
          "base_uri": "https://localhost:8080/",
          "height": 300
        },
        "id": "8hU3BIkmIbf5",
        "outputId": "f61fda66-cc84-4eff-ba85-80ae142efcfe"
      },
      "execution_count": null,
      "outputs": [
        {
          "output_type": "execute_result",
          "data": {
            "text/plain": [
              "              Age  Credit Score\n",
              "count  149.000000    149.000000\n",
              "mean    24.073826    641.630872\n",
              "std      4.505393     87.699760\n",
              "min     15.000000    500.000000\n",
              "25%     22.000000    564.000000\n",
              "50%     23.000000    636.000000\n",
              "75%     25.000000    717.000000\n",
              "max     38.000000    800.000000"
            ],
            "text/html": [
              "\n",
              "  <div id=\"df-969f7509-de12-4681-9da4-b15573e68528\">\n",
              "    <div class=\"colab-df-container\">\n",
              "      <div>\n",
              "<style scoped>\n",
              "    .dataframe tbody tr th:only-of-type {\n",
              "        vertical-align: middle;\n",
              "    }\n",
              "\n",
              "    .dataframe tbody tr th {\n",
              "        vertical-align: top;\n",
              "    }\n",
              "\n",
              "    .dataframe thead th {\n",
              "        text-align: right;\n",
              "    }\n",
              "</style>\n",
              "<table border=\"1\" class=\"dataframe\">\n",
              "  <thead>\n",
              "    <tr style=\"text-align: right;\">\n",
              "      <th></th>\n",
              "      <th>Age</th>\n",
              "      <th>Credit Score</th>\n",
              "    </tr>\n",
              "  </thead>\n",
              "  <tbody>\n",
              "    <tr>\n",
              "      <th>count</th>\n",
              "      <td>149.000000</td>\n",
              "      <td>149.000000</td>\n",
              "    </tr>\n",
              "    <tr>\n",
              "      <th>mean</th>\n",
              "      <td>24.073826</td>\n",
              "      <td>641.630872</td>\n",
              "    </tr>\n",
              "    <tr>\n",
              "      <th>std</th>\n",
              "      <td>4.505393</td>\n",
              "      <td>87.699760</td>\n",
              "    </tr>\n",
              "    <tr>\n",
              "      <th>min</th>\n",
              "      <td>15.000000</td>\n",
              "      <td>500.000000</td>\n",
              "    </tr>\n",
              "    <tr>\n",
              "      <th>25%</th>\n",
              "      <td>22.000000</td>\n",
              "      <td>564.000000</td>\n",
              "    </tr>\n",
              "    <tr>\n",
              "      <th>50%</th>\n",
              "      <td>23.000000</td>\n",
              "      <td>636.000000</td>\n",
              "    </tr>\n",
              "    <tr>\n",
              "      <th>75%</th>\n",
              "      <td>25.000000</td>\n",
              "      <td>717.000000</td>\n",
              "    </tr>\n",
              "    <tr>\n",
              "      <th>max</th>\n",
              "      <td>38.000000</td>\n",
              "      <td>800.000000</td>\n",
              "    </tr>\n",
              "  </tbody>\n",
              "</table>\n",
              "</div>\n",
              "      <button class=\"colab-df-convert\" onclick=\"convertToInteractive('df-969f7509-de12-4681-9da4-b15573e68528')\"\n",
              "              title=\"Convert this dataframe to an interactive table.\"\n",
              "              style=\"display:none;\">\n",
              "        \n",
              "  <svg xmlns=\"http://www.w3.org/2000/svg\" height=\"24px\"viewBox=\"0 0 24 24\"\n",
              "       width=\"24px\">\n",
              "    <path d=\"M0 0h24v24H0V0z\" fill=\"none\"/>\n",
              "    <path d=\"M18.56 5.44l.94 2.06.94-2.06 2.06-.94-2.06-.94-.94-2.06-.94 2.06-2.06.94zm-11 1L8.5 8.5l.94-2.06 2.06-.94-2.06-.94L8.5 2.5l-.94 2.06-2.06.94zm10 10l.94 2.06.94-2.06 2.06-.94-2.06-.94-.94-2.06-.94 2.06-2.06.94z\"/><path d=\"M17.41 7.96l-1.37-1.37c-.4-.4-.92-.59-1.43-.59-.52 0-1.04.2-1.43.59L10.3 9.45l-7.72 7.72c-.78.78-.78 2.05 0 2.83L4 21.41c.39.39.9.59 1.41.59.51 0 1.02-.2 1.41-.59l7.78-7.78 2.81-2.81c.8-.78.8-2.07 0-2.86zM5.41 20L4 18.59l7.72-7.72 1.47 1.35L5.41 20z\"/>\n",
              "  </svg>\n",
              "      </button>\n",
              "      \n",
              "  <style>\n",
              "    .colab-df-container {\n",
              "      display:flex;\n",
              "      flex-wrap:wrap;\n",
              "      gap: 12px;\n",
              "    }\n",
              "\n",
              "    .colab-df-convert {\n",
              "      background-color: #E8F0FE;\n",
              "      border: none;\n",
              "      border-radius: 50%;\n",
              "      cursor: pointer;\n",
              "      display: none;\n",
              "      fill: #1967D2;\n",
              "      height: 32px;\n",
              "      padding: 0 0 0 0;\n",
              "      width: 32px;\n",
              "    }\n",
              "\n",
              "    .colab-df-convert:hover {\n",
              "      background-color: #E2EBFA;\n",
              "      box-shadow: 0px 1px 2px rgba(60, 64, 67, 0.3), 0px 1px 3px 1px rgba(60, 64, 67, 0.15);\n",
              "      fill: #174EA6;\n",
              "    }\n",
              "\n",
              "    [theme=dark] .colab-df-convert {\n",
              "      background-color: #3B4455;\n",
              "      fill: #D2E3FC;\n",
              "    }\n",
              "\n",
              "    [theme=dark] .colab-df-convert:hover {\n",
              "      background-color: #434B5C;\n",
              "      box-shadow: 0px 1px 3px 1px rgba(0, 0, 0, 0.15);\n",
              "      filter: drop-shadow(0px 1px 2px rgba(0, 0, 0, 0.3));\n",
              "      fill: #FFFFFF;\n",
              "    }\n",
              "  </style>\n",
              "\n",
              "      <script>\n",
              "        const buttonEl =\n",
              "          document.querySelector('#df-969f7509-de12-4681-9da4-b15573e68528 button.colab-df-convert');\n",
              "        buttonEl.style.display =\n",
              "          google.colab.kernel.accessAllowed ? 'block' : 'none';\n",
              "\n",
              "        async function convertToInteractive(key) {\n",
              "          const element = document.querySelector('#df-969f7509-de12-4681-9da4-b15573e68528');\n",
              "          const dataTable =\n",
              "            await google.colab.kernel.invokeFunction('convertToInteractive',\n",
              "                                                     [key], {});\n",
              "          if (!dataTable) return;\n",
              "\n",
              "          const docLinkHtml = 'Like what you see? Visit the ' +\n",
              "            '<a target=\"_blank\" href=https://colab.research.google.com/notebooks/data_table.ipynb>data table notebook</a>'\n",
              "            + ' to learn more about interactive tables.';\n",
              "          element.innerHTML = '';\n",
              "          dataTable['output_type'] = 'display_data';\n",
              "          await google.colab.output.renderOutput(dataTable, element);\n",
              "          const docLink = document.createElement('div');\n",
              "          docLink.innerHTML = docLinkHtml;\n",
              "          element.appendChild(docLink);\n",
              "        }\n",
              "      </script>\n",
              "    </div>\n",
              "  </div>\n",
              "  "
            ]
          },
          "metadata": {},
          "execution_count": 7
        }
      ]
    },
    {
      "cell_type": "markdown",
      "source": [
        "Now let us see if data in each attribute is normally distributed or not\n"
      ],
      "metadata": {
        "id": "OfwVmbASK-hL"
      }
    },
    {
      "cell_type": "markdown",
      "source": [
        "First let us check with the age attribute using a boxplot"
      ],
      "metadata": {
        "id": "a5WOmshoLU5C"
      }
    },
    {
      "cell_type": "code",
      "source": [
        "dataframe.boxplot(column=\"Age\")"
      ],
      "metadata": {
        "colab": {
          "base_uri": "https://localhost:8080/",
          "height": 282
        },
        "id": "yiSkN3B3Ibdi",
        "outputId": "7bddd174-1934-492b-d3fe-c5d1ff2d0af4"
      },
      "execution_count": null,
      "outputs": [
        {
          "output_type": "execute_result",
          "data": {
            "text/plain": [
              "<matplotlib.axes._subplots.AxesSubplot at 0x7f9daff59790>"
            ]
          },
          "metadata": {},
          "execution_count": 8
        },
        {
          "output_type": "display_data",
          "data": {
            "text/plain": [
              "<Figure size 432x288 with 1 Axes>"
            ],
            "image/png": "[encoded data removed]"
          },
          "metadata": {
            "needs_background": "light"
          }
        }
      ]
    },
    {
      "cell_type": "code",
      "source": [
        "dataframe['Age'].hist(bins=20)"
      ],
      "metadata": {
        "colab": {
          "base_uri": "https://localhost:8080/",
          "height": 282
        },
        "id": "GOjyqFUSIbbJ",
        "outputId": "32b2ce35-dd8f-4dd0-c160-03c8f9ac4afc"
      },
      "execution_count": null,
      "outputs": [
        {
          "output_type": "execute_result",
          "data": {
            "text/plain": [
              "<matplotlib.axes._subplots.AxesSubplot at 0x7f9dafe29590>"
            ]
          },
          "metadata": {},
          "execution_count": 9
        },
        {
          "output_type": "display_data",
          "data": {
            "text/plain": [
              "<Figure size 432x288 with 1 Axes>"
            ],
            "image/png": "[encoded data removed]"
          },
          "metadata": {
            "needs_background": "light"
          }
        }
      ]
    },
    {
      "cell_type": "markdown",
      "source": [
        "As we can see that the above graph is little left skewed let us not normalize the age data and create a new column of it named age_log."
      ],
      "metadata": {
        "id": "APx5BJJeYc8I"
      }
    },
    {
      "cell_type": "code",
      "source": [
        "dataframe['Age_log'] = np.log(dataframe['Age'])\n",
        "dataframe['Age_log'].hist(bins=20)"
      ],
      "metadata": {
        "colab": {
          "base_uri": "https://localhost:8080/",
          "height": 282
        },
        "id": "lPRnXZZcIbY0",
        "outputId": "b4925ab8-3b88-4519-8e21-194e076f2f32"
      },
      "execution_count": null,
      "outputs": [
        {
          "output_type": "execute_result",
          "data": {
            "text/plain": [
              "<matplotlib.axes._subplots.AxesSubplot at 0x7f9daf980f90>"
            ]
          },
          "metadata": {},
          "execution_count": 10
        },
        {
          "output_type": "display_data",
          "data": {
            "text/plain": [
              "<Figure size 432x288 with 1 Axes>"
            ],
            "image/png": "[encoded data removed]"
          },
          "metadata": {
            "needs_background": "light"
          }
        }
      ]
    },
    {
      "cell_type": "markdown",
      "source": [
        "Similarly let us check for credit score as well"
      ],
      "metadata": {
        "id": "ANfZsvVjY0tF"
      }
    },
    {
      "cell_type": "code",
      "source": [
        "dataframe.boxplot(column='Credit Score')"
      ],
      "metadata": {
        "colab": {
          "base_uri": "https://localhost:8080/",
          "height": 282
        },
        "id": "vUyOQz8iIbWR",
        "outputId": "9c8bfb4c-e531-4cca-b998-cc700b6651db"
      },
      "execution_count": null,
      "outputs": [
        {
          "output_type": "execute_result",
          "data": {
            "text/plain": [
              "<matplotlib.axes._subplots.AxesSubplot at 0x7f9daf868fd0>"
            ]
          },
          "metadata": {},
          "execution_count": 11
        },
        {
          "output_type": "display_data",
          "data": {
            "text/plain": [
              "<Figure size 432x288 with 1 Axes>"
            ],
            "image/png": "[encoded data removed]"
          },
          "metadata": {
            "needs_background": "light"
          }
        }
      ]
    },
    {
      "cell_type": "code",
      "source": [
        "dataframe['Credit_score_log'] = np.log(dataframe['Credit Score'])\n",
        "dataframe['Credit_score_log'].hist(bins=20)"
      ],
      "metadata": {
        "colab": {
          "base_uri": "https://localhost:8080/",
          "height": 282
        },
        "id": "UDcDeeM8kBXz",
        "outputId": "e60fc424-1f21-4780-e97d-f4416b225d75"
      },
      "execution_count": null,
      "outputs": [
        {
          "output_type": "execute_result",
          "data": {
            "text/plain": [
              "<matplotlib.axes._subplots.AxesSubplot at 0x7f9daf868390>"
            ]
          },
          "metadata": {},
          "execution_count": 12
        },
        {
          "output_type": "display_data",
          "data": {
            "text/plain": [
              "<Figure size 432x288 with 1 Axes>"
            ],
            "image/png": "[encoded data removed]"
          },
          "metadata": {
            "needs_background": "light"
          }
        }
      ]
    },
    {
      "cell_type": "markdown",
      "source": [
        "since there are no much outliers present in the credit score solumn we do not need to normalize it."
      ],
      "metadata": {
        "id": "nXpVGCNyZ34h"
      }
    },
    {
      "cell_type": "code",
      "source": [
        "dataframe.columns"
      ],
      "metadata": {
        "colab": {
          "base_uri": "https://localhost:8080/"
        },
        "id": "5_wil8ewb8AT",
        "outputId": "e0294a25-a3f6-478a-9578-d0b0af218e74"
      },
      "execution_count": null,
      "outputs": [
        {
          "output_type": "execute_result",
          "data": {
            "text/plain": [
              "Index(['Name', 'Nationality', 'Age', 'Program_Type', 'Total_income_P_G_S',\n",
              "       'Any_Securities', 'Credit Score', 'Secured Admit Card', 'Eligibility',\n",
              "       'Age_log', 'Credit_score_log'],\n",
              "      dtype='object')"
            ]
          },
          "metadata": {},
          "execution_count": 13
        }
      ]
    },
    {
      "cell_type": "markdown",
      "source": [
        ""
      ],
      "metadata": {
        "id": "2RjP6Nseb3OW"
      }
    },
    {
      "cell_type": "markdown",
      "source": [
        "Since we have removed all the null values and also we have nromalized the reuired data in the dataset let us not divide our dataset into dependent and independent data respectively.\n",
        "\n",
        "**X will contain all the data that is independent that is in our case :\n",
        "Nationality, Age_log, Total_income_P_G_S, Any_Securities, Credit_Score, Secured_Admit_Card.**\n",
        "\n",
        "**Y will contain all the data that is to be predicted that is in our case the only dependent data is Elgibility**\n"
      ],
      "metadata": {
        "id": "sQfnr7VQaTf9"
      }
    },
    {
      "cell_type": "code",
      "source": [
        "X = dataframe.iloc[:, np.r_[1,4:8,9,10]].values\n",
        "Y = dataframe.iloc[:, 8].values"
      ],
      "metadata": {
        "id": "sXmkes9sIbO5"
      },
      "execution_count": null,
      "outputs": []
    },
    {
      "cell_type": "markdown",
      "source": [
        "Let us look at our X and Y"
      ],
      "metadata": {
        "id": "-BSE-7WLdAqt"
      }
    },
    {
      "cell_type": "code",
      "source": [
        "X"
      ],
      "metadata": {
        "colab": {
          "base_uri": "https://localhost:8080/"
        },
        "id": "KUmStXySdBR0",
        "outputId": "60a9b568-0a25-4a37-d7c6-baea35c385dd"
      },
      "execution_count": null,
      "outputs": [
        {
          "output_type": "execute_result",
          "data": {
            "text/plain": [
              "array([['Indian', 'Stable', 'Yes', ..., 'Yes', 3.1354942159291497,\n",
              "        6.492239835020471],\n",
              "       ['Indian', 'Stable', 'No', ..., 'Yes', 3.091042453358316,\n",
              "        6.324358962381311],\n",
              "       ['Indian', 'Stable', 'No', ..., 'Yes', 2.9444389791664403,\n",
              "        6.263398262591624],\n",
              "       ...,\n",
              "       ['Indian', 'Stable', 'Yes', ..., 'Yes', 3.4657359027997265,\n",
              "        6.511745329644728],\n",
              "       ['Not Indian', 'Not Stable', 'Yes', ..., 'Yes',\n",
              "        3.6109179126442243, 6.513230110912307],\n",
              "       ['Indian', 'Stable', 'No', ..., 'Yes', 3.1354942159291497,\n",
              "        6.466144724237619]], dtype=object)"
            ]
          },
          "metadata": {},
          "execution_count": 15
        }
      ]
    },
    {
      "cell_type": "code",
      "source": [
        "Y"
      ],
      "metadata": {
        "colab": {
          "base_uri": "https://localhost:8080/"
        },
        "id": "bKX7qaEgdB-Q",
        "outputId": "6652467a-80d6-48a2-9ed4-a2c27475cead"
      },
      "execution_count": null,
      "outputs": [
        {
          "output_type": "execute_result",
          "data": {
            "text/plain": [
              "array(['Yes', 'No', 'No', 'No', 'Yes', 'No', 'No', 'No', 'Yes', 'No',\n",
              "       'No', 'No', 'No', 'Yes', 'Yes', 'Yes', 'No', 'Yes', 'Yes', 'Yes',\n",
              "       'No', 'Yes', 'No', 'No', 'No', 'No', 'No', 'Yes', 'Yes', 'No',\n",
              "       'Yes', 'Yes', 'Yes', 'No', 'No', 'No', 'Yes', 'Yes', 'Yes', 'No',\n",
              "       'No', 'No', 'No', 'No', 'Yes', 'No', 'No', 'Yes', 'Yes', 'No',\n",
              "       'Yes', 'No', 'No', 'No', 'Yes', 'Yes', 'Yes', 'Yes', 'No', 'No',\n",
              "       'No', 'Yes', 'No', 'Yes', 'Yes', 'No', 'No', 'Yes', 'Yes', 'No',\n",
              "       'No', 'Yes', 'Yes', 'No', 'No', 'Yes', 'No', 'No', 'No', 'No',\n",
              "       'No', 'No', 'Yes', 'No', 'No', 'No', 'Yes', 'No', 'Yes', 'Yes',\n",
              "       'No', 'No', 'No', 'Yes', 'No', 'Yes', 'No', 'No', 'Yes', 'Yes',\n",
              "       'Yes', 'Yes', 'No', 'Yes', 'Yes', 'No', 'No', 'No', 'No', 'No',\n",
              "       'No', 'No', 'No', 'No', 'No', 'No', 'No', 'Yes', 'No', 'No', 'Yes',\n",
              "       'No', 'No', 'Yes', 'Yes', 'Yes', 'No', 'No', 'Yes', 'No', 'Yes',\n",
              "       'No', 'No', 'No', 'Yes', 'Yes', 'Yes', 'No', 'No', 'No', 'Yes',\n",
              "       'No', 'Yes', 'Yes', 'No', 'No', 'Yes', 'No', 'Yes'], dtype=object)"
            ]
          },
          "metadata": {},
          "execution_count": 16
        }
      ]
    },
    {
      "cell_type": "markdown",
      "source": [
        "Since we have divides our data into independent and dependent dataset respectively let us now split our data into training and testing data using sklearn.modelselection "
      ],
      "metadata": {
        "id": "mI_-w8AVdrt_"
      }
    },
    {
      "cell_type": "code",
      "source": [
        "from sklearn.model_selection import train_test_split\n",
        "X_train, X_test, Y_train, Y_test = train_test_split(X, Y, test_size=0.2, random_state=0)"
      ],
      "metadata": {
        "id": "RapHkcFIdB8G"
      },
      "execution_count": null,
      "outputs": []
    },
    {
      "cell_type": "markdown",
      "source": [
        "Let us now explore our X_train and X_test data"
      ],
      "metadata": {
        "id": "Q-zYCz-Ll06F"
      }
    },
    {
      "cell_type": "code",
      "source": [
        "X_train"
      ],
      "metadata": {
        "id": "QG8e41HIdB5u",
        "colab": {
          "base_uri": "https://localhost:8080/"
        },
        "outputId": "02687619-bf97-4c28-afa2-a9d3f69c561c"
      },
      "execution_count": null,
      "outputs": [
        {
          "output_type": "execute_result",
          "data": {
            "text/plain": [
              "array([['Indian', 'Stable', 'No', 719.0, 'Yes', 3.1354942159291497,\n",
              "        6.577861357721047],\n",
              "       ['Indian', 'Not Stable', 'No', 546.0, 'Yes', 3.091042453358316,\n",
              "        6.302618975744905],\n",
              "       ['Indian', 'Not Stable', 'Yes', 572.0, 'No', 3.5553480614894135,\n",
              "        6.349138991379798],\n",
              "       ['Indian', 'Stable', 'No', 549.0, 'No', 2.995732273553991,\n",
              "        6.3080984415095305],\n",
              "       ['Indian', 'Not Stable', 'Yes', 716.0, 'Yes', 3.1354942159291497,\n",
              "        6.573680166960646],\n",
              "       ['Indian', 'Not Stable', 'Yes', 616.0, 'Yes', 3.091042453358316,\n",
              "        6.423246963533519],\n",
              "       ['Indian', 'Not Stable', 'No', 794.0, 'Yes', 2.9444389791664403,\n",
              "        6.677083461247136],\n",
              "       ['Indian', 'Stable', 'Yes', 786.0, 'Yes', 3.332204510175204,\n",
              "        6.666956792429207],\n",
              "       ['Indian', 'Stable', 'Yes', 512.0, 'Yes', 3.5553480614894135,\n",
              "        6.238324625039508],\n",
              "       ['Indian', 'Stable', 'No', 525.0, 'Yes', 2.9444389791664403,\n",
              "        6.263398262591624],\n",
              "       ['Indian', 'Stable', 'Yes', 673.0, 'Yes', 3.4657359027997265,\n",
              "        6.511745329644728],\n",
              "       ['Indian', 'Stable', 'No', 630.0, 'No', 3.2188758248682006,\n",
              "        6.4457198193855785],\n",
              "       ['Indian', 'Stable', 'Yes', 779.0, 'Yes', 3.332204510175204,\n",
              "        6.658011045870748],\n",
              "       ['Indian', 'Stable', 'No', 536.0, 'No', 3.1354942159291497,\n",
              "        6.284134161070802],\n",
              "       ['Indian', 'Stable', 'Yes', 759.0, 'Yes', 3.4011973816621555,\n",
              "        6.63200177739563],\n",
              "       ['Indian', 'Stable', 'Yes', 635.0, 'No', 3.091042453358316,\n",
              "        6.453624998892692],\n",
              "       ['Indian', 'Stable', 'No', 522.0, 'Yes', 3.295836866004329,\n",
              "        6.257667587882639],\n",
              "       ['Indian', 'Not Stable', 'No', 526.0, 'Yes', 3.58351893845611,\n",
              "        6.26530121273771],\n",
              "       ['Indian', 'Stable', 'No', 737.0, 'Yes', 3.091042453358316,\n",
              "        6.602587892189336],\n",
              "       ['Indian', 'Stable', 'Yes', 577.0, 'Yes', 3.1780538303479458,\n",
              "        6.3578422665081],\n",
              "       ['Indian', 'Not Stable', 'Yes', 789.0, 'Yes', 3.1354942159291497,\n",
              "        6.670766320845874],\n",
              "       ['Indian', 'Stable', 'Yes', 799.0, 'Yes', 3.1780538303479458,\n",
              "        6.683360945766275],\n",
              "       ['Indian', 'Not Stable', 'Yes', 584.0, 'Yes', 3.1354942159291497,\n",
              "        6.369900982828227],\n",
              "       ['Indian', 'Stable', 'Yes', 644.0, 'Yes', 3.091042453358316,\n",
              "        6.467698726104354],\n",
              "       ['Indian', 'Stable', 'No', 656.0, 'Yes', 3.367295829986474,\n",
              "        6.486160788944089],\n",
              "       ['Indian', 'Not Stable', 'No', 568.0, 'Yes', 3.4339872044851463,\n",
              "        6.342121418721152],\n",
              "       ['Indian', 'Not Stable', 'Yes', 581.0, 'Yes', 2.9444389791664403,\n",
              "        6.364750756851911],\n",
              "       ['Indian', 'Stable', 'No', 790.0, 'Yes', 3.2188758248682006,\n",
              "        6.672032945461067],\n",
              "       ['Indian', 'Stable', 'Yes', 663.0, 'Yes', 3.295836866004329,\n",
              "        6.4967749901858625],\n",
              "       ['Indian', 'Not Stable', 'Yes', 591.0, 'Yes', 3.2188758248682006,\n",
              "        6.3818160174060985],\n",
              "       ['Not Indian', 'Not Stable', 'No', 738.0, 'No',\n",
              "        3.1780538303479458, 6.6039438246004725],\n",
              "       ['Indian', 'Not Stable', 'Yes', 743.0, 'Yes', 3.091042453358316,\n",
              "        6.610696044717759],\n",
              "       ['Indian', 'Stable', 'Yes', 695.0, 'Yes', 3.1780538303479458,\n",
              "        6.543911845564792],\n",
              "       ['Indian', 'Stable', 'Yes', 698.0, 'Yes', 2.995732273553991,\n",
              "        6.548219102762372],\n",
              "       ['Indian', 'Not Stable', 'No', 742.0, 'Yes', 3.091042453358316,\n",
              "        6.60934924316738],\n",
              "       ['Indian', 'Stable', 'Yes', 682.0, 'Yes', 3.5553480614894135,\n",
              "        6.525029657843462],\n",
              "       ['Indian', 'Not Stable', 'Yes', 778.0, 'Yes', 2.8903717578961645,\n",
              "        6.656726524178391],\n",
              "       ['Indian', 'Stable', 'Yes', 688.0, 'No', 3.332204510175204,\n",
              "        6.5337888379333435],\n",
              "       ['Indian', 'Stable', 'Yes', 559.0, 'Yes', 3.091042453358316,\n",
              "        6.326149473155099],\n",
              "       ['Indian', 'Stable', 'Yes', 605.0, 'No', 3.5553480614894135,\n",
              "        6.405228458030842],\n",
              "       ['Indian', 'Stable', 'No', 727.0, 'Yes', 2.9444389791664403,\n",
              "        6.588926477533519],\n",
              "       ['Indian', 'Not Stable', 'Yes', 515.0, 'Yes', 3.1780538303479458,\n",
              "        6.244166900663736],\n",
              "       ['Indian', 'Not Stable', 'No', 529.0, 'Yes', 3.5263605246161616,\n",
              "        6.270988431858299],\n",
              "       ['Indian', 'Not Stable', 'Yes', 548.0, 'Yes', 3.1354942159291497,\n",
              "        6.306275286948016],\n",
              "       ['Indian', 'Not Stable', 'No', 506.0, 'Yes', 3.1354942159291497,\n",
              "        6.226536669287466],\n",
              "       ['Indian', 'Not Stable', 'Yes', 639.0, 'Yes', 3.1780538303479458,\n",
              "        6.459904454377535],\n",
              "       ['Indian', 'Stable', 'Yes', 682.0, 'Yes', 2.8903717578961645,\n",
              "        6.525029657843462],\n",
              "       ['Indian', 'Not Stable', 'Yes', 594.0, 'Yes', 3.2188758248682006,\n",
              "        6.386879319362645],\n",
              "       ['Indian', 'Stable', 'No', 739.0, 'Yes', 3.044522437723423,\n",
              "        6.6052979209482015],\n",
              "       ['Indian', 'Stable', 'No', 509.0, 'Yes', 3.332204510175204,\n",
              "        6.2324480165505225],\n",
              "       ['Indian', 'Stable', 'Yes', 710.0, 'Yes', 3.4011973816621555,\n",
              "        6.565264970035361],\n",
              "       ['Not Indian', 'Not Stable', 'Yes', 674.0, 'Yes',\n",
              "        3.6109179126442243, 6.513230110912307],\n",
              "       ['Indian', 'Stable', 'Yes', 758.0, 'Yes', 3.1780538303479458,\n",
              "        6.630683385642372],\n",
              "       ['Indian', 'Not Stable', 'Yes', 691.0, 'Yes', 3.091042453358316,\n",
              "        6.53813982376767],\n",
              "       ['Indian', 'Stable', 'No', 593.0, 'Yes', 3.4339872044851463,\n",
              "        6.385194398997726],\n",
              "       ['Indian', 'Stable', 'No', 665.0, 'No', 2.9444389791664403,\n",
              "        6.499787040655854],\n",
              "       ['Indian', 'Stable', 'No', 800.0, 'No', 3.044522437723423,\n",
              "        6.684611727667927],\n",
              "       ['Indian', 'Stable', 'No', 504.0, 'Yes', 3.1354942159291497,\n",
              "        6.222576268071369],\n",
              "       ['Indian', 'Not Stable', 'Yes', 649.0, 'No', 3.044522437723423,\n",
              "        6.47543271670409],\n",
              "       ['Indian', 'Not Stable', 'No', 717.0, 'No', 3.091042453358316,\n",
              "        6.57507584059962],\n",
              "       ['Indian', 'Stable', 'No', 558.0, 'Yes', 3.091042453358316,\n",
              "        6.324358962381311],\n",
              "       ['Indian', 'Stable', 'Yes', 614.0, 'No', 3.367295829986474,\n",
              "        6.419994928147142],\n",
              "       ['Indian', 'Stable', 'Yes', 528.0, 'Yes', 3.1354942159291497,\n",
              "        6.269096283706261],\n",
              "       ['Not Indian', 'Stable', 'No', 670.0, 'Yes', 3.091042453358316,\n",
              "        6.507277712385012],\n",
              "       ['Indian', 'Stable', 'No', 764.0, 'Yes', 2.995732273553991,\n",
              "        6.638567789166521],\n",
              "       ['Indian', 'Stable', 'No', 703.0, 'Yes', 3.2188758248682006,\n",
              "        6.555356891810665],\n",
              "       ['Indian', 'Stable', 'No', 606.0, 'Yes', 3.091042453358316,\n",
              "        6.406879986069314],\n",
              "       ['Indian', 'Stable', 'No', 799.0, 'Yes', 3.044522437723423,\n",
              "        6.683360945766275],\n",
              "       ['Not Indian', 'Stable', 'Yes', 636.0, 'Yes', 2.8903717578961645,\n",
              "        6.455198563340122],\n",
              "       ['Indian', 'Stable', 'Yes', 556.0, 'Yes', 3.5553480614894135,\n",
              "        6.320768294250582],\n",
              "       ['Indian', 'Stable', 'Yes', 772.0, 'Yes', 3.4339872044851463,\n",
              "        6.648984550024776],\n",
              "       ['Indian', 'Not Stable', 'Yes', 753.0, 'No', 3.2188758248682006,\n",
              "        6.6240652277998935],\n",
              "       ['Indian', 'Stable', 'Yes', 660.0, 'Yes', 3.1354942159291497,\n",
              "        6.492239835020471],\n",
              "       ['Indian', 'Stable', 'Yes', 600.0, 'No', 3.1354942159291497,\n",
              "        6.396929655216146],\n",
              "       ['Indian', 'Stable', 'Yes', 603.0, 'Yes', 3.1354942159291497,\n",
              "        6.401917196727186],\n",
              "       ['Indian', 'Stable', 'Yes', 719.0, 'Yes', 3.091042453358316,\n",
              "        6.577861357721047],\n",
              "       ['Indian', 'Stable', 'Yes', 691.0, 'Yes', 3.295836866004329,\n",
              "        6.53813982376767],\n",
              "       ['Indian', 'Stable', 'Yes', 568.0, 'Yes', 3.2188758248682006,\n",
              "        6.342121418721152],\n",
              "       ['Indian', 'Stable', 'No', 641.0, 'Yes', 3.58351893845611,\n",
              "        6.46302945692067],\n",
              "       ['Indian', 'Stable', 'Yes', 568.0, 'Yes', 3.258096538021482,\n",
              "        6.342121418721152],\n",
              "       ['Indian', 'Stable', 'Yes', 733.0, 'Yes', 3.1354942159291497,\n",
              "        6.597145701886651],\n",
              "       ['Indian', 'Stable', 'Yes', 500.0, 'Yes', 3.1354942159291497,\n",
              "        6.214608098422191],\n",
              "       ['Indian', 'Not Stable', 'Yes', 754.0, 'Yes', 3.295836866004329,\n",
              "        6.625392368007956],\n",
              "       ['Indian', 'Stable', 'Yes', 767.0, 'Yes', 3.1780538303479458,\n",
              "        6.642486801367256],\n",
              "       ['Indian', 'Stable', 'No', 688.0, 'No', 2.8903717578961645,\n",
              "        6.5337888379333435],\n",
              "       ['Indian', 'Stable', 'Yes', 709.0, 'Yes', 3.091042453358316,\n",
              "        6.5638555265321274],\n",
              "       ['Indian', 'Not Stable', 'Yes', 636.0, 'Yes', 2.8903717578961645,\n",
              "        6.455198563340122],\n",
              "       ['Indian', 'Stable', 'No', 756.0, 'Yes', 2.8903717578961645,\n",
              "        6.628041376179533],\n",
              "       ['Indian', 'Stable', 'No', 549.0, 'Yes', 3.4339872044851463,\n",
              "        6.3080984415095305],\n",
              "       ['Indian', 'Stable', 'Yes', 603.0, 'Yes', 3.258096538021482,\n",
              "        6.401917196727186],\n",
              "       ['Indian', 'Not Stable', 'Yes', 529.0, 'Yes', 2.70805020110221,\n",
              "        6.270988431858299],\n",
              "       ['Not Indian', 'Stable', 'No', 563.0, 'Yes', 3.1780538303479458,\n",
              "        6.333279628139691],\n",
              "       ['Indian', 'Not Stable', 'Yes', 561.0, 'Yes', 3.1354942159291497,\n",
              "        6.329720905522696],\n",
              "       ['Indian', 'Stable', 'Yes', 627.0, 'Yes', 2.8903717578961645,\n",
              "        6.440946540632921],\n",
              "       ['Indian', 'Stable', 'No', 769.0, 'Yes', 2.8903717578961645,\n",
              "        6.645090969505644],\n",
              "       ['Indian', 'Stable', 'No', 622.0, 'Yes', 3.1780538303479458,\n",
              "        6.432940092739179],\n",
              "       ['Indian', 'Stable', 'Yes', 739.0, 'Yes', 3.2188758248682006,\n",
              "        6.6052979209482015],\n",
              "       ['Indian', 'Stable', 'No', 643.0, 'Yes', 3.1354942159291497,\n",
              "        6.466144724237619],\n",
              "       ['Indian', 'Not Stable', 'No', 551.0, 'No', 3.332204510175204,\n",
              "        6.311734809152915],\n",
              "       ['Indian', 'Stable', 'No', 577.0, 'No', 3.1780538303479458,\n",
              "        6.3578422665081],\n",
              "       ['Indian', 'Not Stable', 'No', 688.0, 'Yes', 3.091042453358316,\n",
              "        6.5337888379333435],\n",
              "       ['Indian', 'Not Stable', 'Yes', 674.0, 'Yes', 3.1354942159291497,\n",
              "        6.513230110912307],\n",
              "       ['Indian', 'Not Stable', 'No', 621.0, 'Yes', 2.833213344056216,\n",
              "        6.431331081933479],\n",
              "       ['Indian', 'Not Stable', 'Yes', 513.0, 'No', 3.2188758248682006,\n",
              "        6.240275845170769],\n",
              "       ['Indian', 'Stable', 'No', 558.0, 'Yes', 3.091042453358316,\n",
              "        6.324358962381311],\n",
              "       ['Indian', 'Not Stable', 'Yes', 600.0, 'No', 3.091042453358316,\n",
              "        6.396929655216146],\n",
              "       ['Indian', 'Not Stable', 'Yes', 577.0, 'Yes', 3.2188758248682006,\n",
              "        6.3578422665081],\n",
              "       ['Not Indian', 'Stable', 'Yes', 608.0, 'Yes', 2.9444389791664403,\n",
              "        6.410174881966167],\n",
              "       ['Indian', 'Stable', 'No', 572.0, 'Yes', 3.1354942159291497,\n",
              "        6.349138991379798],\n",
              "       ['Indian', 'Stable', 'No', 727.0, 'Yes', 2.70805020110221,\n",
              "        6.588926477533519],\n",
              "       ['Indian', 'Stable', 'No', 541.0, 'Yes', 3.044522437723423,\n",
              "        6.293419278846481],\n",
              "       ['Indian', 'Stable', 'Yes', 501.0, 'Yes', 2.995732273553991,\n",
              "        6.2166061010848646],\n",
              "       ['Indian', 'Not Stable', 'Yes', 774.0, 'Yes', 3.332204510175204,\n",
              "        6.651571873589727],\n",
              "       ['Indian', 'Stable', 'Yes', 726.0, 'Yes', 3.2188758248682006,\n",
              "        6.587550014824796],\n",
              "       ['Indian', 'Not Stable', 'Yes', 630.0, 'Yes', 3.295836866004329,\n",
              "        6.4457198193855785],\n",
              "       ['Indian', 'Stable', 'Yes', 721.0, 'Yes', 3.1780538303479458,\n",
              "        6.580639137284949],\n",
              "       ['Indian', 'Not Stable', 'Yes', 676.0, 'Yes', 2.833213344056216,\n",
              "        6.516193076042964],\n",
              "       ['Indian', 'Stable', 'No', 790.0, 'Yes', 3.1780538303479458,\n",
              "        6.672032945461067],\n",
              "       ['Indian', 'Not Stable', 'Yes', 698.0, 'Yes', 3.044522437723423,\n",
              "        6.548219102762372]], dtype=object)"
            ]
          },
          "metadata": {},
          "execution_count": 18
        }
      ]
    },
    {
      "cell_type": "markdown",
      "source": [
        "Since we have many attributes who's data is in categorical form and the machine does not understand data in any other form than numerical form. So let us encode the categorical data into numerical data using sklearns label encoder."
      ],
      "metadata": {
        "id": "KfOkvBrSm12D"
      }
    },
    {
      "cell_type": "code",
      "source": [
        "from sklearn.preprocessing import LabelEncoder\n",
        "label_encoder_x = LabelEncoder()"
      ],
      "metadata": {
        "id": "APhNNCYVnJQK"
      },
      "execution_count": null,
      "outputs": []
    },
    {
      "cell_type": "code",
      "source": [
        "for i in range(0,3):\n",
        "  X_train[:,i] = label_encoder_x.fit_transform(X_train[:,i])\n",
        "X_train[:,4] = label_encoder_x.fit_transform(X_train[:,4])"
      ],
      "metadata": {
        "id": "qRtKzEq1nkYb"
      },
      "execution_count": null,
      "outputs": []
    },
    {
      "cell_type": "code",
      "source": [
        "X_train"
      ],
      "metadata": {
        "colab": {
          "base_uri": "https://localhost:8080/"
        },
        "id": "f_cT8rcsoF7t",
        "outputId": "5ef0f78a-25db-47fb-b122-7c146be616c4"
      },
      "execution_count": null,
      "outputs": [
        {
          "output_type": "execute_result",
          "data": {
            "text/plain": [
              "array([[0, 1, 0, 719.0, 1, 3.1354942159291497, 6.577861357721047],\n",
              "       [0, 0, 0, 546.0, 1, 3.091042453358316, 6.302618975744905],\n",
              "       [0, 0, 1, 572.0, 0, 3.5553480614894135, 6.349138991379798],\n",
              "       [0, 1, 0, 549.0, 0, 2.995732273553991, 6.3080984415095305],\n",
              "       [0, 0, 1, 716.0, 1, 3.1354942159291497, 6.573680166960646],\n",
              "       [0, 0, 1, 616.0, 1, 3.091042453358316, 6.423246963533519],\n",
              "       [0, 0, 0, 794.0, 1, 2.9444389791664403, 6.677083461247136],\n",
              "       [0, 1, 1, 786.0, 1, 3.332204510175204, 6.666956792429207],\n",
              "       [0, 1, 1, 512.0, 1, 3.5553480614894135, 6.238324625039508],\n",
              "       [0, 1, 0, 525.0, 1, 2.9444389791664403, 6.263398262591624],\n",
              "       [0, 1, 1, 673.0, 1, 3.4657359027997265, 6.511745329644728],\n",
              "       [0, 1, 0, 630.0, 0, 3.2188758248682006, 6.4457198193855785],\n",
              "       [0, 1, 1, 779.0, 1, 3.332204510175204, 6.658011045870748],\n",
              "       [0, 1, 0, 536.0, 0, 3.1354942159291497, 6.284134161070802],\n",
              "       [0, 1, 1, 759.0, 1, 3.4011973816621555, 6.63200177739563],\n",
              "       [0, 1, 1, 635.0, 0, 3.091042453358316, 6.453624998892692],\n",
              "       [0, 1, 0, 522.0, 1, 3.295836866004329, 6.257667587882639],\n",
              "       [0, 0, 0, 526.0, 1, 3.58351893845611, 6.26530121273771],\n",
              "       [0, 1, 0, 737.0, 1, 3.091042453358316, 6.602587892189336],\n",
              "       [0, 1, 1, 577.0, 1, 3.1780538303479458, 6.3578422665081],\n",
              "       [0, 0, 1, 789.0, 1, 3.1354942159291497, 6.670766320845874],\n",
              "       [0, 1, 1, 799.0, 1, 3.1780538303479458, 6.683360945766275],\n",
              "       [0, 0, 1, 584.0, 1, 3.1354942159291497, 6.369900982828227],\n",
              "       [0, 1, 1, 644.0, 1, 3.091042453358316, 6.467698726104354],\n",
              "       [0, 1, 0, 656.0, 1, 3.367295829986474, 6.486160788944089],\n",
              "       [0, 0, 0, 568.0, 1, 3.4339872044851463, 6.342121418721152],\n",
              "       [0, 0, 1, 581.0, 1, 2.9444389791664403, 6.364750756851911],\n",
              "       [0, 1, 0, 790.0, 1, 3.2188758248682006, 6.672032945461067],\n",
              "       [0, 1, 1, 663.0, 1, 3.295836866004329, 6.4967749901858625],\n",
              "       [0, 0, 1, 591.0, 1, 3.2188758248682006, 6.3818160174060985],\n",
              "       [1, 0, 0, 738.0, 0, 3.1780538303479458, 6.6039438246004725],\n",
              "       [0, 0, 1, 743.0, 1, 3.091042453358316, 6.610696044717759],\n",
              "       [0, 1, 1, 695.0, 1, 3.1780538303479458, 6.543911845564792],\n",
              "       [0, 1, 1, 698.0, 1, 2.995732273553991, 6.548219102762372],\n",
              "       [0, 0, 0, 742.0, 1, 3.091042453358316, 6.60934924316738],\n",
              "       [0, 1, 1, 682.0, 1, 3.5553480614894135, 6.525029657843462],\n",
              "       [0, 0, 1, 778.0, 1, 2.8903717578961645, 6.656726524178391],\n",
              "       [0, 1, 1, 688.0, 0, 3.332204510175204, 6.5337888379333435],\n",
              "       [0, 1, 1, 559.0, 1, 3.091042453358316, 6.326149473155099],\n",
              "       [0, 1, 1, 605.0, 0, 3.5553480614894135, 6.405228458030842],\n",
              "       [0, 1, 0, 727.0, 1, 2.9444389791664403, 6.588926477533519],\n",
              "       [0, 0, 1, 515.0, 1, 3.1780538303479458, 6.244166900663736],\n",
              "       [0, 0, 0, 529.0, 1, 3.5263605246161616, 6.270988431858299],\n",
              "       [0, 0, 1, 548.0, 1, 3.1354942159291497, 6.306275286948016],\n",
              "       [0, 0, 0, 506.0, 1, 3.1354942159291497, 6.226536669287466],\n",
              "       [0, 0, 1, 639.0, 1, 3.1780538303479458, 6.459904454377535],\n",
              "       [0, 1, 1, 682.0, 1, 2.8903717578961645, 6.525029657843462],\n",
              "       [0, 0, 1, 594.0, 1, 3.2188758248682006, 6.386879319362645],\n",
              "       [0, 1, 0, 739.0, 1, 3.044522437723423, 6.6052979209482015],\n",
              "       [0, 1, 0, 509.0, 1, 3.332204510175204, 6.2324480165505225],\n",
              "       [0, 1, 1, 710.0, 1, 3.4011973816621555, 6.565264970035361],\n",
              "       [1, 0, 1, 674.0, 1, 3.6109179126442243, 6.513230110912307],\n",
              "       [0, 1, 1, 758.0, 1, 3.1780538303479458, 6.630683385642372],\n",
              "       [0, 0, 1, 691.0, 1, 3.091042453358316, 6.53813982376767],\n",
              "       [0, 1, 0, 593.0, 1, 3.4339872044851463, 6.385194398997726],\n",
              "       [0, 1, 0, 665.0, 0, 2.9444389791664403, 6.499787040655854],\n",
              "       [0, 1, 0, 800.0, 0, 3.044522437723423, 6.684611727667927],\n",
              "       [0, 1, 0, 504.0, 1, 3.1354942159291497, 6.222576268071369],\n",
              "       [0, 0, 1, 649.0, 0, 3.044522437723423, 6.47543271670409],\n",
              "       [0, 0, 0, 717.0, 0, 3.091042453358316, 6.57507584059962],\n",
              "       [0, 1, 0, 558.0, 1, 3.091042453358316, 6.324358962381311],\n",
              "       [0, 1, 1, 614.0, 0, 3.367295829986474, 6.419994928147142],\n",
              "       [0, 1, 1, 528.0, 1, 3.1354942159291497, 6.269096283706261],\n",
              "       [1, 1, 0, 670.0, 1, 3.091042453358316, 6.507277712385012],\n",
              "       [0, 1, 0, 764.0, 1, 2.995732273553991, 6.638567789166521],\n",
              "       [0, 1, 0, 703.0, 1, 3.2188758248682006, 6.555356891810665],\n",
              "       [0, 1, 0, 606.0, 1, 3.091042453358316, 6.406879986069314],\n",
              "       [0, 1, 0, 799.0, 1, 3.044522437723423, 6.683360945766275],\n",
              "       [1, 1, 1, 636.0, 1, 2.8903717578961645, 6.455198563340122],\n",
              "       [0, 1, 1, 556.0, 1, 3.5553480614894135, 6.320768294250582],\n",
              "       [0, 1, 1, 772.0, 1, 3.4339872044851463, 6.648984550024776],\n",
              "       [0, 0, 1, 753.0, 0, 3.2188758248682006, 6.6240652277998935],\n",
              "       [0, 1, 1, 660.0, 1, 3.1354942159291497, 6.492239835020471],\n",
              "       [0, 1, 1, 600.0, 0, 3.1354942159291497, 6.396929655216146],\n",
              "       [0, 1, 1, 603.0, 1, 3.1354942159291497, 6.401917196727186],\n",
              "       [0, 1, 1, 719.0, 1, 3.091042453358316, 6.577861357721047],\n",
              "       [0, 1, 1, 691.0, 1, 3.295836866004329, 6.53813982376767],\n",
              "       [0, 1, 1, 568.0, 1, 3.2188758248682006, 6.342121418721152],\n",
              "       [0, 1, 0, 641.0, 1, 3.58351893845611, 6.46302945692067],\n",
              "       [0, 1, 1, 568.0, 1, 3.258096538021482, 6.342121418721152],\n",
              "       [0, 1, 1, 733.0, 1, 3.1354942159291497, 6.597145701886651],\n",
              "       [0, 1, 1, 500.0, 1, 3.1354942159291497, 6.214608098422191],\n",
              "       [0, 0, 1, 754.0, 1, 3.295836866004329, 6.625392368007956],\n",
              "       [0, 1, 1, 767.0, 1, 3.1780538303479458, 6.642486801367256],\n",
              "       [0, 1, 0, 688.0, 0, 2.8903717578961645, 6.5337888379333435],\n",
              "       [0, 1, 1, 709.0, 1, 3.091042453358316, 6.5638555265321274],\n",
              "       [0, 0, 1, 636.0, 1, 2.8903717578961645, 6.455198563340122],\n",
              "       [0, 1, 0, 756.0, 1, 2.8903717578961645, 6.628041376179533],\n",
              "       [0, 1, 0, 549.0, 1, 3.4339872044851463, 6.3080984415095305],\n",
              "       [0, 1, 1, 603.0, 1, 3.258096538021482, 6.401917196727186],\n",
              "       [0, 0, 1, 529.0, 1, 2.70805020110221, 6.270988431858299],\n",
              "       [1, 1, 0, 563.0, 1, 3.1780538303479458, 6.333279628139691],\n",
              "       [0, 0, 1, 561.0, 1, 3.1354942159291497, 6.329720905522696],\n",
              "       [0, 1, 1, 627.0, 1, 2.8903717578961645, 6.440946540632921],\n",
              "       [0, 1, 0, 769.0, 1, 2.8903717578961645, 6.645090969505644],\n",
              "       [0, 1, 0, 622.0, 1, 3.1780538303479458, 6.432940092739179],\n",
              "       [0, 1, 1, 739.0, 1, 3.2188758248682006, 6.6052979209482015],\n",
              "       [0, 1, 0, 643.0, 1, 3.1354942159291497, 6.466144724237619],\n",
              "       [0, 0, 0, 551.0, 0, 3.332204510175204, 6.311734809152915],\n",
              "       [0, 1, 0, 577.0, 0, 3.1780538303479458, 6.3578422665081],\n",
              "       [0, 0, 0, 688.0, 1, 3.091042453358316, 6.5337888379333435],\n",
              "       [0, 0, 1, 674.0, 1, 3.1354942159291497, 6.513230110912307],\n",
              "       [0, 0, 0, 621.0, 1, 2.833213344056216, 6.431331081933479],\n",
              "       [0, 0, 1, 513.0, 0, 3.2188758248682006, 6.240275845170769],\n",
              "       [0, 1, 0, 558.0, 1, 3.091042453358316, 6.324358962381311],\n",
              "       [0, 0, 1, 600.0, 0, 3.091042453358316, 6.396929655216146],\n",
              "       [0, 0, 1, 577.0, 1, 3.2188758248682006, 6.3578422665081],\n",
              "       [1, 1, 1, 608.0, 1, 2.9444389791664403, 6.410174881966167],\n",
              "       [0, 1, 0, 572.0, 1, 3.1354942159291497, 6.349138991379798],\n",
              "       [0, 1, 0, 727.0, 1, 2.70805020110221, 6.588926477533519],\n",
              "       [0, 1, 0, 541.0, 1, 3.044522437723423, 6.293419278846481],\n",
              "       [0, 1, 1, 501.0, 1, 2.995732273553991, 6.2166061010848646],\n",
              "       [0, 0, 1, 774.0, 1, 3.332204510175204, 6.651571873589727],\n",
              "       [0, 1, 1, 726.0, 1, 3.2188758248682006, 6.587550014824796],\n",
              "       [0, 0, 1, 630.0, 1, 3.295836866004329, 6.4457198193855785],\n",
              "       [0, 1, 1, 721.0, 1, 3.1780538303479458, 6.580639137284949],\n",
              "       [0, 0, 1, 676.0, 1, 2.833213344056216, 6.516193076042964],\n",
              "       [0, 1, 0, 790.0, 1, 3.1780538303479458, 6.672032945461067],\n",
              "       [0, 0, 1, 698.0, 1, 3.044522437723423, 6.548219102762372]],\n",
              "      dtype=object)"
            ]
          },
          "metadata": {},
          "execution_count": 21
        }
      ]
    },
    {
      "cell_type": "markdown",
      "source": [
        "Similarly lets perform encoding for X_test"
      ],
      "metadata": {
        "id": "LQN78vGFoatC"
      }
    },
    {
      "cell_type": "code",
      "source": [
        "for i in range(0,3):\n",
        "  X_test[:,i] = label_encoder_x.fit_transform(X_test[:,i])\n",
        "X_test[:,4] = label_encoder_x.fit_transform(X_test[:,4])"
      ],
      "metadata": {
        "id": "WvzVWR7joZYP"
      },
      "execution_count": null,
      "outputs": []
    },
    {
      "cell_type": "code",
      "source": [
        "X_test"
      ],
      "metadata": {
        "colab": {
          "base_uri": "https://localhost:8080/"
        },
        "id": "KJo2GIywqPVS",
        "outputId": "1f18950e-3df8-4fe2-8ece-5192cf6f0dd5"
      },
      "execution_count": null,
      "outputs": [
        {
          "output_type": "execute_result",
          "data": {
            "text/plain": [
              "array([[0, 1, 0, 590.0, 1, 3.1354942159291497, 6.380122536899765],\n",
              "       [0, 0, 1, 522.0, 1, 3.295836866004329, 6.257667587882639],\n",
              "       [1, 1, 1, 624.0, 0, 2.995732273553991, 6.436150368369428],\n",
              "       [0, 1, 0, 538.0, 1, 3.295836866004329, 6.2878585601617845],\n",
              "       [0, 1, 0, 653.0, 0, 3.1780538303479458, 6.481577129276431],\n",
              "       [0, 0, 1, 797.0, 1, 3.1354942159291497, 6.680854678790215],\n",
              "       [0, 1, 0, 601.0, 1, 3.1780538303479458, 6.398594934535208],\n",
              "       [0, 0, 1, 739.0, 1, 2.9444389791664403, 6.6052979209482015],\n",
              "       [0, 0, 0, 657.0, 1, 3.2188758248682006, 6.48768401848461],\n",
              "       [0, 0, 1, 604.0, 1, 3.2188758248682006, 6.403574197934815],\n",
              "       [0, 1, 0, 529.0, 1, 3.1780538303479458, 6.270988431858299],\n",
              "       [0, 0, 1, 667.0, 1, 3.2188758248682006, 6.502790045915623],\n",
              "       [0, 1, 0, 627.0, 1, 3.1354942159291497, 6.440946540632921],\n",
              "       [0, 1, 1, 530.0, 1, 3.6375861597263857, 6.272877006546167],\n",
              "       [0, 1, 0, 712.0, 1, 3.295836866004329, 6.568077911411976],\n",
              "       [0, 0, 0, 572.0, 1, 3.091042453358316, 6.349138991379798],\n",
              "       [1, 0, 1, 507.0, 1, 3.2188758248682006, 6.2285110035911835],\n",
              "       [0, 1, 1, 540.0, 1, 3.1780538303479458, 6.29156913955832],\n",
              "       [0, 1, 0, 642.0, 0, 2.995732273553991, 6.464588303689961],\n",
              "       [0, 1, 1, 501.0, 0, 3.367295829986474, 6.2166061010848646],\n",
              "       [0, 1, 1, 541.0, 1, 2.995732273553991, 6.293419278846481],\n",
              "       [0, 1, 1, 655.0, 1, 3.1354942159291497, 6.484635235635252],\n",
              "       [0, 1, 1, 534.0, 1, 3.1354942159291497, 6.280395838960195],\n",
              "       [0, 0, 0, 738.0, 1, 3.1780538303479458, 6.6039438246004725],\n",
              "       [0, 0, 0, 649.0, 1, 2.8903717578961645, 6.47543271670409],\n",
              "       [1, 1, 1, 631.0, 1, 2.995732273553991, 6.447305862541213],\n",
              "       [0, 0, 0, 787.0, 0, 3.1780538303479458, 6.668228248417403],\n",
              "       [0, 1, 1, 563.0, 1, 3.1780538303479458, 6.333279628139691],\n",
              "       [0, 1, 1, 564.0, 1, 3.1780538303479458, 6.335054251498059],\n",
              "       [0, 1, 0, 658.0, 1, 3.044522437723423, 6.489204931325317]],\n",
              "      dtype=object)"
            ]
          },
          "metadata": {},
          "execution_count": 23
        }
      ]
    },
    {
      "cell_type": "code",
      "source": [
        "label_encoder_y = LabelEncoder()"
      ],
      "metadata": {
        "id": "UjznzAIspuWi"
      },
      "execution_count": null,
      "outputs": []
    },
    {
      "cell_type": "code",
      "source": [
        "Y_train[:5]"
      ],
      "metadata": {
        "id": "yGxzuyiidB0-",
        "colab": {
          "base_uri": "https://localhost:8080/"
        },
        "outputId": "d5186994-649c-4c77-8028-eeda71142d08"
      },
      "execution_count": null,
      "outputs": [
        {
          "output_type": "execute_result",
          "data": {
            "text/plain": [
              "array(['Yes', 'No', 'No', 'No', 'Yes'], dtype=object)"
            ]
          },
          "metadata": {},
          "execution_count": 25
        }
      ]
    },
    {
      "cell_type": "code",
      "source": [
        "Y_train = label_encoder_y.fit_transform(Y_train)"
      ],
      "metadata": {
        "id": "AtsbAW6tp4IM"
      },
      "execution_count": null,
      "outputs": []
    },
    {
      "cell_type": "code",
      "source": [
        "Y_train[:5]"
      ],
      "metadata": {
        "colab": {
          "base_uri": "https://localhost:8080/"
        },
        "id": "cFKCPljgqUt_",
        "outputId": "c8e9c5a1-af95-4b9c-a861-344c976475f3"
      },
      "execution_count": null,
      "outputs": [
        {
          "output_type": "execute_result",
          "data": {
            "text/plain": [
              "array([1, 0, 0, 0, 1])"
            ]
          },
          "metadata": {},
          "execution_count": 27
        }
      ]
    },
    {
      "cell_type": "code",
      "source": [
        "Y_test"
      ],
      "metadata": {
        "id": "F-iySRzldByd",
        "colab": {
          "base_uri": "https://localhost:8080/"
        },
        "outputId": "56c01af9-b427-4c57-8338-852d1a509654"
      },
      "execution_count": null,
      "outputs": [
        {
          "output_type": "execute_result",
          "data": {
            "text/plain": [
              "array(['No', 'No', 'No', 'No', 'No', 'Yes', 'Yes', 'Yes', 'No', 'No',\n",
              "       'No', 'Yes', 'Yes', 'No', 'Yes', 'No', 'No', 'No', 'No', 'No',\n",
              "       'No', 'Yes', 'No', 'No', 'No', 'No', 'No', 'No', 'No', 'Yes'],\n",
              "      dtype=object)"
            ]
          },
          "metadata": {},
          "execution_count": 28
        }
      ]
    },
    {
      "cell_type": "code",
      "source": [
        "Y_test = label_encoder_y.fit_transform(Y_test)"
      ],
      "metadata": {
        "id": "RgYK5GKbqJsk"
      },
      "execution_count": null,
      "outputs": []
    },
    {
      "cell_type": "code",
      "source": [
        "Y_test[:5]"
      ],
      "metadata": {
        "colab": {
          "base_uri": "https://localhost:8080/"
        },
        "id": "wwkSbFAcqYrq",
        "outputId": "f1807791-6b34-4d9b-c2b5-c98e5408dc59"
      },
      "execution_count": null,
      "outputs": [
        {
          "output_type": "execute_result",
          "data": {
            "text/plain": [
              "array([0, 0, 0, 0, 0])"
            ]
          },
          "metadata": {},
          "execution_count": 30
        }
      ]
    },
    {
      "cell_type": "code",
      "source": [
        "from sklearn.preprocessing import StandardScaler\n",
        "ss = StandardScaler()\n",
        "X_train = ss.fit_transform(X_train)\n",
        "X_test = ss.fit_transform(X_test)"
      ],
      "metadata": {
        "id": "3Xoc6zGhdBwH"
      },
      "execution_count": null,
      "outputs": []
    },
    {
      "cell_type": "code",
      "source": [
        "from sklearn.tree import DecisionTreeClassifier\n",
        "DTclassifier = DecisionTreeClassifier(criterion='entropy', random_state = 0)\n",
        "DTclassifier.fit(X_train,Y_train)"
      ],
      "metadata": {
        "id": "_qfnTrR8dBt6",
        "colab": {
          "base_uri": "https://localhost:8080/"
        },
        "outputId": "723e4427-0a29-4b28-b1ed-175a43d43dda"
      },
      "execution_count": null,
      "outputs": [
        {
          "output_type": "execute_result",
          "data": {
            "text/plain": [
              "DecisionTreeClassifier(criterion='entropy', random_state=0)"
            ]
          },
          "metadata": {},
          "execution_count": 32
        }
      ]
    },
    {
      "cell_type": "code",
      "source": [
        "Y_pred_using_decision_tree = DTclassifier.predict(X_test)\n",
        "Y_pred_using_decision_tree"
      ],
      "metadata": {
        "id": "n2uJnOM3dBrp",
        "colab": {
          "base_uri": "https://localhost:8080/"
        },
        "outputId": "b01998ad-3950-443f-a32f-e5d481bdb764"
      },
      "execution_count": null,
      "outputs": [
        {
          "output_type": "execute_result",
          "data": {
            "text/plain": [
              "array([0, 0, 0, 0, 0, 1, 0, 1, 0, 0, 0, 1, 1, 0, 1, 0, 0, 0, 0, 0, 0, 1,\n",
              "       0, 1, 0, 0, 0, 0, 0, 1])"
            ]
          },
          "metadata": {},
          "execution_count": 33
        }
      ]
    },
    {
      "cell_type": "code",
      "source": [
        "Y_test"
      ],
      "metadata": {
        "id": "cejyqUShdBpH",
        "colab": {
          "base_uri": "https://localhost:8080/"
        },
        "outputId": "eed77505-e427-4c6a-ef7a-1eedd363ca09"
      },
      "execution_count": null,
      "outputs": [
        {
          "output_type": "execute_result",
          "data": {
            "text/plain": [
              "array([0, 0, 0, 0, 0, 1, 1, 1, 0, 0, 0, 1, 1, 0, 1, 0, 0, 0, 0, 0, 0, 1,\n",
              "       0, 0, 0, 0, 0, 0, 0, 1])"
            ]
          },
          "metadata": {},
          "execution_count": 34
        }
      ]
    },
    {
      "cell_type": "code",
      "source": [
        "from sklearn import metrics\n",
        "print('The Accuracy of our model using Decision Tree Algorithm is : ', metrics.accuracy_score(Y_pred_using_decision_tree,Y_test))"
      ],
      "metadata": {
        "id": "6eUBYdgIdBm0",
        "colab": {
          "base_uri": "https://localhost:8080/"
        },
        "outputId": "23dc084d-93af-4e35-b069-1255891af79d"
      },
      "execution_count": null,
      "outputs": [
        {
          "output_type": "stream",
          "name": "stdout",
          "text": [
            "The Accuracy of our model using Decision Tree Algorithm is :  0.9333333333333333\n"
          ]
        }
      ]
    }
  ]
}